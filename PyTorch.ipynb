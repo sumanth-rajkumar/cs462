{
  "cells": [
    {
      "cell_type": "markdown",
      "metadata": {
        "id": "CmOnQ5MenkYt"
      },
      "source": [
        "Please fill in your name and netid (double-click the cell to edit).\n",
        "\n",
        "Name: Sumanth Rajkumar\n",
        "\n",
        "netid: ss3657"
      ]
    },
    {
      "cell_type": "markdown",
      "metadata": {
        "id": "u4VP4mzTnkYx"
      },
      "source": [
        "---\n",
        "# Introduction\n",
        "\n",
        "This assignment will cover the basics of PyTorch. It is largely adapted (with permission) from https://web.eecs.umich.edu/~justincj/teaching/eecs498/FA2019/assignment1.html. PyTorch will be used throughout the semester for homework assignments and your final projects, so it is important to become familiar with it.\n",
        "\n",
        "This notebook will walk you through many of the important features of PyTorch that you will need to use throughout the semester. In some cells you will see code blocks that look like this:\n",
        "\n",
        "```python\n",
        "###############################################################################\n",
        "# TODO: Create a variable x with value 462.                                   #\n",
        "###############################################################################\n",
        "# Replace \"pass\" statement with your code\n",
        "pass\n",
        "# END OF YOUR CODE\n",
        "```\n",
        "\n",
        "You should replace the `pass` statement with your own code and leave the blocks intact, like this:\n",
        "```python\n",
        "###############################################################################\n",
        "# TODO: Create a variable x with value 462.                                   #\n",
        "###############################################################################\n",
        "# Replace \"pass\" statement with your code\n",
        "x = 462\n",
        "# END OF YOUR CODE\n",
        "```\n",
        "\n",
        "\n",
        "When completing the notebook, please adhere to the following rules:\n",
        "- Do not write or modify any code outside of code blocks.\n",
        "- Do not add or delete any cells from the notebook. You may add new cells to perform scratch work, but please delete them before submitting.\n",
        "- Run all cells before submitting, so that your results are stored in the notebook.\n",
        "- Submit your notebook as `netid.ipynb`, where `netid` is your actual netid."
      ]
    },
    {
      "cell_type": "markdown",
      "metadata": {
        "id": "6t54XkQqnkYz"
      },
      "source": [
        "# PyTorch"
      ]
    },
    {
      "cell_type": "markdown",
      "metadata": {
        "nbgrader": {
          "grade": false,
          "grade_id": "squares",
          "locked": false,
          "schema_version": 3,
          "solution": false,
          "task": false
        },
        "id": "ZT3I15CAnkY0"
      },
      "source": [
        "[PyTorch](https://pytorch.org/) is an open source machine learning framework. At its core, PyTorch provides a few key features:\n",
        "\n",
        "- A multidimensional **Tensor** object, similar to [NumPy](https://numpy.org/) but with GPU acceleration.\n",
        "- An optimized **autograd** engine for automatically computing derivatives.\n",
        "- A clean, modular API for building and deploying **deep learning models**.\n",
        "\n",
        "We will use PyTorch for all programming assignments throughout the semester. This notebook will focus on the **Tensor API**.\n",
        "\n",
        "You can find more information about PyTorch by following one of the [official tutorials](https://pytorch.org/tutorials/) or by reading the [documentation](https://pytorch.org/docs/stable/index.html)."
      ]
    },
    {
      "cell_type": "markdown",
      "metadata": {
        "id": "8wZyvMlynkY0"
      },
      "source": [
        "To use PyTorch, we first need to import the `torch` package."
      ]
    },
    {
      "cell_type": "code",
      "execution_count": null,
      "metadata": {
        "deletable": false,
        "editable": false,
        "nbgrader": {
          "cell_type": "code",
          "checksum": "dfb7778c8ed8efde3ed483091ed2ca17",
          "grade": false,
          "grade_id": "cell-34b8eff364d37f4f",
          "locked": true,
          "schema_version": 3,
          "solution": false,
          "task": false
        },
        "colab": {
          "base_uri": "https://localhost:8080/"
        },
        "id": "NPopn7LTnkY1",
        "outputId": "480caf6e-28d6-4c21-908a-db302f6831fd"
      },
      "outputs": [
        {
          "output_type": "stream",
          "name": "stdout",
          "text": [
            "1.13.1+cu116\n"
          ]
        }
      ],
      "source": [
        "import torch\n",
        "print(torch.__version__)"
      ]
    },
    {
      "cell_type": "markdown",
      "metadata": {
        "nbgrader": {
          "grade": false,
          "grade_id": "correct_squares",
          "locked": false,
          "schema_version": 3,
          "solution": false,
          "task": false
        },
        "id": "0h0hcDZBnkY2"
      },
      "source": [
        "## Tensor Basics"
      ]
    },
    {
      "cell_type": "markdown",
      "metadata": {
        "nbgrader": {
          "grade": false,
          "grade_id": "squares_invalid_input",
          "locked": false,
          "schema_version": 3,
          "solution": false,
          "task": false
        },
        "id": "6DXnzmaPnkY3"
      },
      "source": [
        "### Creating and accessing tensors"
      ]
    },
    {
      "cell_type": "markdown",
      "metadata": {
        "id": "L9mqw0tXnkY3"
      },
      "source": [
        "A PyTorch **tensor** is a multidimensional grid of values, all of the same type, and is indexed by a tuple of integers.\n",
        "\n",
        "The number of dimensions is the **order** of the tensor; the **shape** of a tensor is a tuple of integers giving the size of the tensor along each dimension.\n",
        "\n",
        "We can initialize a PyTorch tensor from nested Python lists:"
      ]
    },
    {
      "cell_type": "code",
      "execution_count": null,
      "metadata": {
        "colab": {
          "base_uri": "https://localhost:8080/"
        },
        "id": "oRT-KUe8nkY3",
        "outputId": "3536516e-6101-4f5a-b2af-6a59294ab7b2"
      },
      "outputs": [
        {
          "output_type": "stream",
          "name": "stdout",
          "text": [
            "Here is a:\n",
            "tensor([1, 2, 3])\n",
            "type of a: <class 'torch.Tensor'>\n",
            "order of a: 1\n",
            "shape of a: torch.Size([3])\n"
          ]
        }
      ],
      "source": [
        "# Create an order 1 tensor from a Python list\n",
        "a = torch.tensor([1, 2, 3])\n",
        "print('Here is a:')\n",
        "print(a)\n",
        "print('type of a:', type(a))\n",
        "print('order of a:', a.dim())\n",
        "print('shape of a:', a.shape)"
      ]
    },
    {
      "cell_type": "markdown",
      "metadata": {
        "id": "BNmcl1CankY4"
      },
      "source": [
        "We can access or mutate elements of a PyTorch tensor using square brackets.\n",
        "\n",
        "Accessing an element from a PyTorch tensor returns a PyTorch scalar; we can convert this to a Python scalar using the `.item()` method:"
      ]
    },
    {
      "cell_type": "code",
      "execution_count": null,
      "metadata": {
        "colab": {
          "base_uri": "https://localhost:8080/"
        },
        "id": "v5AJxhCrnkY4",
        "outputId": "adac6033-11be-46af-8591-b0a4f9f09fd7"
      },
      "outputs": [
        {
          "output_type": "stream",
          "name": "stdout",
          "text": [
            "a[0]: tensor(1)\n",
            "type(a[0]): <class 'torch.Tensor'>\n",
            "type(a[0].item()): <class 'int'>\n"
          ]
        }
      ],
      "source": [
        "# Access elements using square brackets\n",
        "print('a[0]:', a[0])\n",
        "print('type(a[0]):', type(a[0]))\n",
        "print('type(a[0].item()):', type(a[0].item()))"
      ]
    },
    {
      "cell_type": "code",
      "execution_count": null,
      "metadata": {
        "colab": {
          "base_uri": "https://localhost:8080/"
        },
        "id": "G5RmQbslnkY4",
        "outputId": "6d7680ac-7a6c-48ed-9a73-c11ed08ef91d"
      },
      "outputs": [
        {
          "output_type": "stream",
          "name": "stdout",
          "text": [
            "a after mutating:\n",
            "tensor([ 1, 10,  3])\n"
          ]
        }
      ],
      "source": [
        "# Mutate elements using square brackets\n",
        "a[1] = 10\n",
        "print('a after mutating:')\n",
        "print(a)"
      ]
    },
    {
      "cell_type": "markdown",
      "metadata": {
        "id": "Yhyj-2dDnkY4"
      },
      "source": [
        "The example above shows a one-dimensional tensor; we can similarly create tensors with two or more dimensions:"
      ]
    },
    {
      "cell_type": "code",
      "execution_count": null,
      "metadata": {
        "colab": {
          "base_uri": "https://localhost:8080/"
        },
        "id": "d9MqGfyPnkY5",
        "outputId": "fa5f0a37-1bcf-4189-a25b-8df3c10a3aaa"
      },
      "outputs": [
        {
          "output_type": "stream",
          "name": "stdout",
          "text": [
            "Here is b:\n",
            "tensor([[1, 2, 3],\n",
            "        [4, 5, 6]])\n",
            "order of b: 2\n",
            "shape of b: torch.Size([2, 3])\n"
          ]
        }
      ],
      "source": [
        "# Create a two-dimensional tensor\n",
        "b = torch.tensor([[1, 2, 3], [4, 5, 6]])\n",
        "print('Here is b:')\n",
        "print(b)\n",
        "print('order of b:', b.dim())\n",
        "print('shape of b:', b.shape)"
      ]
    },
    {
      "cell_type": "code",
      "execution_count": null,
      "metadata": {
        "colab": {
          "base_uri": "https://localhost:8080/"
        },
        "id": "UYvLkqovnkY5",
        "outputId": "1dc7a361-8186-4eb6-e2d0-d6393ade7548"
      },
      "outputs": [
        {
          "output_type": "stream",
          "name": "stdout",
          "text": [
            "b[0, 1]: tensor(2)\n",
            "b[1, 2]: tensor(6)\n"
          ]
        }
      ],
      "source": [
        "# Access elements from a multidimensional tensor\n",
        "print('b[0, 1]:', b[0, 1])\n",
        "print('b[1, 2]:', b[1, 2])"
      ]
    },
    {
      "cell_type": "code",
      "execution_count": null,
      "metadata": {
        "colab": {
          "base_uri": "https://localhost:8080/"
        },
        "id": "NzH8GaTdnkY5",
        "outputId": "78da66f9-197c-41aa-c055-7970d36417db"
      },
      "outputs": [
        {
          "output_type": "stream",
          "name": "stdout",
          "text": [
            "b after mutating:\n",
            "tensor([[  1,   2,   3],\n",
            "        [  4, 100,   6]])\n"
          ]
        }
      ],
      "source": [
        "# Mutate elements of a multidimensional tensor\n",
        "b[1, 1] = 100\n",
        "print('b after mutating:')\n",
        "print(b)"
      ]
    },
    {
      "cell_type": "markdown",
      "metadata": {
        "id": "45bMzgcvnkY5"
      },
      "source": [
        "Now it's your turn:\n",
        "\n",
        "1. Construct a tensor `c` of shape `(3, 2)` filled with zeros by initializing from nested Python lists.\n",
        "2. Then set element `(0, 1)` to `10`, and element `(1, 0)` to `100`."
      ]
    },
    {
      "cell_type": "code",
      "execution_count": null,
      "metadata": {
        "deletable": false,
        "nbgrader": {
          "cell_type": "code",
          "checksum": "8f13a50e301452cf11c7c8c33316acf3",
          "grade": false,
          "grade_id": "cell-c0dca73b3a1ee0a3",
          "locked": false,
          "schema_version": 3,
          "solution": true,
          "task": false
        },
        "id": "zplQ24JRnkY6"
      },
      "outputs": [],
      "source": [
        "c = None\n",
        "################################################################################\n",
        "# TODO: Construct a tensor c filled with all zeros, initializing from nested   #\n",
        "# Python lists.                                                                #\n",
        "################################################################################\n",
        "# Replace \"pass\" statement with your code\n",
        "c = torch.tensor([[0, 0],[0, 0],[0, 0]])\n",
        "# END OF YOUR CODE"
      ]
    },
    {
      "cell_type": "code",
      "execution_count": null,
      "metadata": {
        "deletable": false,
        "editable": false,
        "nbgrader": {
          "cell_type": "code",
          "checksum": "e2f56c4fbc1acf650c6ba9f8bcf6bf28",
          "grade": true,
          "grade_id": "cell-c3973d716da6920e",
          "locked": true,
          "points": 1,
          "schema_version": 3,
          "solution": false,
          "task": false
        },
        "id": "vVqIxxirnkY6"
      },
      "outputs": [],
      "source": [
        "assert torch.is_tensor(c), 'c is a tensor'\n",
        "assert c.shape == (3, 2), 'c has correct shape'\n",
        "assert (c == 0).all(), 'c is filled with all zeros'"
      ]
    },
    {
      "cell_type": "code",
      "execution_count": null,
      "metadata": {
        "deletable": false,
        "nbgrader": {
          "cell_type": "code",
          "checksum": "ccb9460f9b5ffec739c047f2548aefea",
          "grade": false,
          "grade_id": "cell-f4f4c831e10da6b6",
          "locked": false,
          "schema_version": 3,
          "solution": true,
          "task": false
        },
        "id": "qdMOCORtnkY6"
      },
      "outputs": [],
      "source": [
        "################################################################################\n",
        "# TODO: Set element (0, 1) of c to 10, and element (1, 0) of c to 100.         #\n",
        "################################################################################\n",
        "# Replace \"pass\" statement with your code\n",
        "c[0, 1] = 10\n",
        "c[1, 0] = 100\n",
        "# END OF YOUR CODE"
      ]
    },
    {
      "cell_type": "code",
      "execution_count": null,
      "metadata": {
        "deletable": false,
        "editable": false,
        "nbgrader": {
          "cell_type": "code",
          "checksum": "be91fccdb1f637e6af1bbbbcca42a450",
          "grade": true,
          "grade_id": "cell-f7b29b68fa9fbe8b",
          "locked": true,
          "points": 1,
          "schema_version": 3,
          "solution": false,
          "task": false
        },
        "id": "Lsg5Q0oenkY6"
      },
      "outputs": [],
      "source": [
        "assert torch.is_tensor(c), 'c is a tensor'\n",
        "assert c.shape == (3, 2), 'c has correct shape'\n",
        "assert c[0, 1] == 10, 'c[0, 1] correct'\n",
        "assert c[1, 0] == 100, 'c[1, 0] correct'"
      ]
    },
    {
      "cell_type": "markdown",
      "metadata": {
        "id": "cQMPEIrTnkY7"
      },
      "source": [
        "### Tensor constructors"
      ]
    },
    {
      "cell_type": "markdown",
      "metadata": {
        "id": "g9OUeRKynkY7"
      },
      "source": [
        "PyTorch provides many convenience methods for constructing tensors; this avoids the need to use Python lists. For example:\n",
        "\n",
        "- [`torch.zeros()`](https://pytorch.org/docs/stable/generated/torch.zeros.html#torch.zeros): Creates a tensor of all zeros.\n",
        "- [`torch.ones()`](https://pytorch.org/docs/stable/generated/torch.ones.html#torch.ones): Creates a tensor of all ones.\n",
        "- [`torch.rand()`](https://pytorch.org/docs/stable/generated/torch.rand.html#torch.rand): Creates a tensor with uniform random numbers.\n",
        "\n",
        "You can find a full list of tensor creation operations [here](https://pytorch.org/docs/stable/torch.html#creation-ops) and [here](https://pytorch.org/docs/stable/torch.html#torch.torch.default_generator)."
      ]
    },
    {
      "cell_type": "code",
      "execution_count": null,
      "metadata": {
        "id": "PJ26poj8nkY7",
        "colab": {
          "base_uri": "https://localhost:8080/"
        },
        "outputId": "7957013a-ccce-46c5-fc16-96c445819f96"
      },
      "outputs": [
        {
          "output_type": "stream",
          "name": "stdout",
          "text": [
            "tensor of zeros:\n",
            "tensor([[0., 0., 0.],\n",
            "        [0., 0., 0.]])\n",
            "\n",
            "tensor of ones:\n",
            "tensor([[1., 1.]])\n",
            "\n",
            "identity matrix:\n",
            "tensor([[1., 0., 0.],\n",
            "        [0., 1., 0.],\n",
            "        [0., 0., 1.]])\n",
            "\n",
            "random tensor:\n",
            "tensor([[0.0593, 0.0416, 0.4591, 0.7220, 0.4456],\n",
            "        [0.4074, 0.9812, 0.3301, 0.3869, 0.3408],\n",
            "        [0.1316, 0.8581, 0.4577, 0.7098, 0.9778],\n",
            "        [0.6585, 0.9178, 0.8387, 0.6004, 0.8598]])\n"
          ]
        }
      ],
      "source": [
        "# Create a tensor of all zeros\n",
        "a = torch.zeros(2, 3)\n",
        "print('tensor of zeros:')\n",
        "print(a)\n",
        "\n",
        "# Create a tensor of all ones\n",
        "b = torch.ones(1, 2)\n",
        "print('\\ntensor of ones:')\n",
        "print(b)\n",
        "\n",
        "# Create a 3x3 identity matrix\n",
        "c = torch.eye(3)\n",
        "print('\\nidentity matrix:')\n",
        "print(c)\n",
        "\n",
        "# Create a tensor of random values\n",
        "d = torch.rand(4, 5)\n",
        "print('\\nrandom tensor:')\n",
        "print(d)"
      ]
    },
    {
      "cell_type": "markdown",
      "metadata": {
        "id": "_Y6eVo_VnkY7"
      },
      "source": [
        "### Data types"
      ]
    },
    {
      "cell_type": "markdown",
      "metadata": {
        "id": "13BaMO3InkY8"
      },
      "source": [
        "PyTorch provides [a large set of numeric data types](https://pytorch.org/docs/stable/tensor_attributes.html#torch-dtype) that you can use to construct tensors, of which the most commonly used are:\n",
        "\n",
        "- `torch.float32`: Standard floating-point type; used to store learnable parameters, network activations, etc. Nearly all arithmetic is done using this type.\n",
        "- `torch.int64`: Typically used to store indices.\n",
        "\n",
        "PyTorch tries to guess a data type when you create a tensor; functions that construct tensors typically have a `dtype` argument that you can use to explicitly specify a data type.\n",
        "\n",
        "Each tensor has a `dtype` attribute that you can use to check its data type:"
      ]
    },
    {
      "cell_type": "code",
      "execution_count": null,
      "metadata": {
        "id": "1wWF0YrfnkY8",
        "colab": {
          "base_uri": "https://localhost:8080/"
        },
        "outputId": "cffee75c-05e5-4bf8-f780-184fd54c0317"
      },
      "outputs": [
        {
          "output_type": "stream",
          "name": "stdout",
          "text": [
            "dtype when torch chooses for us:\n",
            "List of integers: torch.int64\n",
            "List of floats: torch.float32\n",
            "Mixed list: torch.float32\n",
            "\n",
            "dtype when we force a data type:\n",
            "32-bit float: torch.float32\n",
            "32-bit integer: torch.int32\n",
            "64-bit integer: torch.int64\n",
            "\n",
            "torch.ones with different dtypes:\n",
            "default dtype: torch.float32\n",
            "16-bit integer: torch.int16\n",
            "8-bit unsigned integer: torch.uint8\n"
          ]
        }
      ],
      "source": [
        "# Let torch choose the data type\n",
        "x0 = torch.tensor([1, 2])   # List of integers\n",
        "x1 = torch.tensor([1., 2.]) # List of floats\n",
        "x2 = torch.tensor([1., 2])  # Mixed list\n",
        "print('dtype when torch chooses for us:')\n",
        "print('List of integers:', x0.dtype)\n",
        "print('List of floats:', x1.dtype)\n",
        "print('Mixed list:', x2.dtype)\n",
        "\n",
        "# Force a particular data type\n",
        "y0 = torch.tensor([1, 2], dtype=torch.float32)  # 32-bit float\n",
        "y1 = torch.tensor([1, 2], dtype=torch.int32)    # 32-bit (signed) integer\n",
        "y2 = torch.tensor([1, 2], dtype=torch.int64)    # 64-bit (signed) integer\n",
        "print('\\ndtype when we force a data type:')\n",
        "print('32-bit float:', y0.dtype)\n",
        "print('32-bit integer:', y1.dtype)\n",
        "print('64-bit integer:', y2.dtype)\n",
        "\n",
        "# Other creation ops also take a dtype argument\n",
        "z0 = torch.ones(1, 2)  # Let torch choose for us\n",
        "z1 = torch.ones(1, 2, dtype=torch.int16) # 16-bit (signed) integer\n",
        "z2 = torch.ones(1, 2, dtype=torch.uint8) # 8-bit (unsigned) integer\n",
        "print('\\ntorch.ones with different dtypes:')\n",
        "print('default dtype:', z0.dtype)\n",
        "print('16-bit integer:', z1.dtype)\n",
        "print('8-bit unsigned integer:', z2.dtype)"
      ]
    },
    {
      "cell_type": "markdown",
      "metadata": {
        "id": "VI79sN3-nkY8"
      },
      "source": [
        "We can **cast** a tensor to another data type using the [`.to()`](https://pytorch.org/docs/stable/generated/torch.Tensor.to.html?highlight=torch+tensor#torch.Tensor.to) method; there are also convenience methods like [`.float()`](https://pytorch.org/docs/stable/generated/torch.Tensor.float.html?highlight=torch+tensor+float#torch.Tensor.float) and [`.long()`](https://pytorch.org/docs/stable/generated/torch.Tensor.long.html?highlight=torch+tensor+long#torch.Tensor.long) that cast to particular data types:\n"
      ]
    },
    {
      "cell_type": "code",
      "execution_count": null,
      "metadata": {
        "id": "sJRyA4z9nkY9",
        "colab": {
          "base_uri": "https://localhost:8080/"
        },
        "outputId": "56305ef5-6efb-4041-a540-ed94a304c87f"
      },
      "outputs": [
        {
          "output_type": "stream",
          "name": "stdout",
          "text": [
            "x0: torch.int64\n",
            "x1: torch.float32\n",
            "x2: torch.float64\n",
            "x3: torch.float32\n",
            "x4: torch.float64\n"
          ]
        }
      ],
      "source": [
        "x0 = torch.eye(3, dtype=torch.int64)\n",
        "x1 = x0.float()  # Cast to 32-bit float\n",
        "x2 = x0.double() # Cast to 64-bit float\n",
        "x3 = x0.to(torch.float32) # Alternate way to cast to 32-bit float\n",
        "x4 = x0.to(torch.float64) # Alternate way to cast to 64-bit float\n",
        "print('x0:', x0.dtype)\n",
        "print('x1:', x1.dtype)\n",
        "print('x2:', x2.dtype)\n",
        "print('x3:', x3.dtype)\n",
        "print('x4:', x4.dtype)"
      ]
    },
    {
      "cell_type": "markdown",
      "metadata": {
        "id": "tf92cuBhnkY9"
      },
      "source": [
        "PyTorch provides several ways to create a tensor with the same data type as another tensor:\n",
        "\n",
        "- PyTorch provides tensor constructors such as [`torch.zeros_like()`](https://pytorch.org/docs/stable/generated/torch.zeros_like.html#torch.zeros_like) that create new tensors with the **same shape and type** as a given tensor.\n",
        "- Tensor objects have instance methods such as [`.new_zeros()`](https://pytorch.org/docs/stable/generated/torch.Tensor.new_zeros.html?highlight=new_zeros#torch.Tensor.new_zeros) that create tensors the **same type but possibly different shapes**.\n",
        "- The tensor instance method [`.to()`](https://pytorch.org/docs/stable/generated/torch.Tensor.to.html?highlight=torch+tensor#torch.Tensor.to) can take a tensor as an argument, in which case it casts to the data type of the argument."
      ]
    },
    {
      "cell_type": "code",
      "execution_count": null,
      "metadata": {
        "id": "iTOPrtiOnkY9",
        "colab": {
          "base_uri": "https://localhost:8080/"
        },
        "outputId": "dff8357d-86b5-4174-b28b-30eb0537111f"
      },
      "outputs": [
        {
          "output_type": "stream",
          "name": "stdout",
          "text": [
            "x0 shape is torch.Size([3, 3]), dtype is torch.float64\n",
            "x1 shape is torch.Size([3, 3]), dtype is torch.float64\n",
            "x2 shape is torch.Size([4, 5]), dtype is torch.float64\n",
            "x3 shape is torch.Size([6, 7]), dtype is torch.float64\n"
          ]
        }
      ],
      "source": [
        "x0 = torch.eye(3, dtype=torch.float64)  # Shape (3, 3), dtype torch.float64\n",
        "x1 = torch.zeros_like(x0)               # Shape (3, 3), dtype torch.float64\n",
        "x2 = x0.new_zeros(4, 5)                 # Shape (4, 5), dtype torch.float64\n",
        "x3 = torch.ones(6, 7).to(x0)            # Shape (6, 7), dtype torch.float64\n",
        "print('x0 shape is %r, dtype is %r' % (x0.shape, x0.dtype))\n",
        "print('x1 shape is %r, dtype is %r' % (x1.shape, x1.dtype))\n",
        "print('x2 shape is %r, dtype is %r' % (x2.shape, x2.dtype))\n",
        "print('x3 shape is %r, dtype is %r' % (x3.shape, x3.dtype))"
      ]
    },
    {
      "cell_type": "markdown",
      "metadata": {
        "id": "GGepZx6RnkY9"
      },
      "source": [
        "Your turn: Use a tensor creation operation to create a tensor of shape (2, 3, 4) filled entirely with the integer 7.\n",
        "\n",
        "Hint: [`torch.full()`](https://pytorch.org/docs/stable/generated/torch.full.html#torch.full)"
      ]
    },
    {
      "cell_type": "code",
      "execution_count": null,
      "metadata": {
        "deletable": false,
        "nbgrader": {
          "cell_type": "code",
          "checksum": "d79ce3f77dd7c7daaa8b606c76b584d8",
          "grade": false,
          "grade_id": "cell-2682de71dcbcdd63",
          "locked": false,
          "schema_version": 3,
          "solution": true,
          "task": false
        },
        "id": "pPxD7-rznkY9"
      },
      "outputs": [],
      "source": [
        "e = None\n",
        "################################################################################\n",
        "# TODO: Create a tensor of shape (2, 3, 4) filled entirely with the integer 7, #\n",
        "# stored in e. Use 64-bit integers.                                            #\n",
        "################################################################################\n",
        "# Replace \"pass\" statement with your code\n",
        "e = torch.full((2, 3, 4), 7)\n",
        "# END OF YOUR CODE"
      ]
    },
    {
      "cell_type": "code",
      "execution_count": null,
      "metadata": {
        "deletable": false,
        "editable": false,
        "nbgrader": {
          "cell_type": "code",
          "checksum": "f9309d3453fac1c30155fda34ef1a3a3",
          "grade": true,
          "grade_id": "cell-51811caa7dcddf9f",
          "locked": true,
          "points": 1,
          "schema_version": 3,
          "solution": false,
          "task": false
        },
        "id": "OQb07OnknkY-"
      },
      "outputs": [],
      "source": [
        "assert torch.is_tensor(e), 'e is a tensor'\n",
        "assert e.shape == (2, 3, 4), 'e has correct shape'\n",
        "assert (e == 7).all(), 'e is filled with sevens'"
      ]
    },
    {
      "cell_type": "markdown",
      "metadata": {
        "id": "_oa6vEjQnkY_"
      },
      "source": [
        "Your turn: Create a 64-bit floating-point tensor of shape (6,) (six-element vector) filled with evenly-spaced values between 10 (inclusive) and 20 (inclusive).\n",
        "\n",
        "Hint: [`torch.linspace()`](https://pytorch.org/docs/stable/generated/torch.linspace.html#torch.linspace)"
      ]
    },
    {
      "cell_type": "code",
      "execution_count": null,
      "metadata": {
        "deletable": false,
        "nbgrader": {
          "cell_type": "code",
          "checksum": "410e75106483664774e2f0480111bd1b",
          "grade": false,
          "grade_id": "cell-44f41fa361f9a831",
          "locked": false,
          "schema_version": 3,
          "solution": true,
          "task": false
        },
        "id": "cMOe723OnkY_"
      },
      "outputs": [],
      "source": [
        "\n",
        "x = None\n",
        "##############################################################################\n",
        "# TODO: Make x contain a six-element vector of 64-bit floating-bit values,   #\n",
        "# evenly spaced between 10 (inclusive) and 20 (inclusive).                   #\n",
        "##############################################################################\n",
        "# Replace \"pass\" statement with your code\n",
        "x = torch.linspace(10, 20, 6, dtype=torch.float64)\n",
        "# END OF YOUR CODE"
      ]
    },
    {
      "cell_type": "code",
      "execution_count": null,
      "metadata": {
        "deletable": false,
        "editable": false,
        "nbgrader": {
          "cell_type": "code",
          "checksum": "e49104168c4d4473f3ce9c90910661f0",
          "grade": true,
          "grade_id": "cell-24ec4d9f00f65df7",
          "locked": true,
          "points": 1,
          "schema_version": 3,
          "solution": false,
          "task": false
        },
        "id": "UR3K_eZ2nkZA",
        "colab": {
          "base_uri": "https://localhost:8080/"
        },
        "outputId": "57233601-1184-4099-fa28-6967dcbdc16e"
      },
      "outputs": [
        {
          "output_type": "stream",
          "name": "stdout",
          "text": [
            "Here is x:\n",
            "tensor([10., 12., 14., 16., 18., 20.], dtype=torch.float64)\n"
          ]
        }
      ],
      "source": [
        "assert torch.is_tensor(x), 'x is a tensor'\n",
        "assert x.shape == (6,), 'x has correct shape'\n",
        "assert x.dtype == torch.float64, 'x has correct dtype'\n",
        "print('Here is x:')\n",
        "print(x)"
      ]
    },
    {
      "cell_type": "markdown",
      "metadata": {
        "id": "hDOzXWZonkZB"
      },
      "source": [
        "## Tensor Indexing"
      ]
    },
    {
      "cell_type": "markdown",
      "metadata": {
        "id": "PJAE8dEqnkZB"
      },
      "source": [
        "We have already seen how to get and set individual elements of PyTorch tensors. PyTorch also provides many other ways of indexing into tensors. Getting comfortable with these different options will make it easy to modify different parts of tensors."
      ]
    },
    {
      "cell_type": "markdown",
      "metadata": {
        "id": "DF2OE2RRnkZB"
      },
      "source": [
        "### Slice indexing"
      ]
    },
    {
      "cell_type": "markdown",
      "metadata": {
        "id": "Or2qXaZgnkZB"
      },
      "source": [
        "Similar to Python lists and NumPy arrays, PyTorch tensors can be **sliced** using the syntax `start:stop` or `start:stop:step`. The `stop` index is always non-inclusive: it is the first element not to be included in the slice.\n",
        "\n",
        "Start and stop indices can be negative, in which case they count backward from the end of the tensor:"
      ]
    },
    {
      "cell_type": "code",
      "execution_count": null,
      "metadata": {
        "id": "mtBjUJfUnkZB",
        "colab": {
          "base_uri": "https://localhost:8080/"
        },
        "outputId": "d7e59209-d34c-4bbe-ed8c-89df0adba549"
      },
      "outputs": [
        {
          "output_type": "stream",
          "name": "stdout",
          "text": [
            "0 tensor([ 0, 11, 22, 33, 44, 55, 66])\n",
            "1 tensor([22, 33, 44])\n",
            "2 tensor([22, 33, 44, 55, 66])\n",
            "3 tensor([ 0, 11, 22, 33, 44])\n",
            "4 tensor([ 0, 11, 22, 33, 44, 55, 66])\n",
            "5 tensor([11, 33])\n",
            "6 tensor([ 0, 11, 22, 33, 44, 55])\n",
            "7 tensor([33, 55])\n"
          ]
        }
      ],
      "source": [
        "a = torch.tensor([0, 11, 22, 33, 44, 55, 66])\n",
        "print(0, a)        # (0) Original tensor\n",
        "print(1, a[2:5])   # (1) Elements between index 2 and 5\n",
        "print(2, a[2:])    # (2) Elements after index 2\n",
        "print(3, a[:5])    # (3) Elements before index 5\n",
        "print(4, a[:])     # (4) All elements\n",
        "print(5, a[1:5:2]) # (5) Every second element between indices 1 and 5\n",
        "print(6, a[:-1])   # (6) All but the last element\n",
        "print(7, a[-4::2]) # (7) Every second element, starting from the fourth-last"
      ]
    },
    {
      "cell_type": "markdown",
      "metadata": {
        "id": "Ei1RAcIjnkZC"
      },
      "source": [
        "For multidimensional tensors, you can provide a slice or integer for each dimension of the tensor:"
      ]
    },
    {
      "cell_type": "code",
      "execution_count": null,
      "metadata": {
        "id": "fCH6cq0ynkZC",
        "colab": {
          "base_uri": "https://localhost:8080/"
        },
        "outputId": "528e9e36-4da8-4110-a1a2-f8a3043c06d9"
      },
      "outputs": [
        {
          "output_type": "stream",
          "name": "stdout",
          "text": [
            "Original tensor:\n",
            "tensor([[ 1,  2,  3,  4],\n",
            "        [ 5,  6,  7,  8],\n",
            "        [ 9, 10, 11, 12]])\n",
            "shape: torch.Size([3, 4])\n",
            "\n",
            "Single row:\n",
            "tensor([5, 6, 7, 8])\n",
            "tensor([5, 6, 7, 8])\n",
            "shape: torch.Size([4])\n",
            "\n",
            "Single column:\n",
            "tensor([ 2,  6, 10])\n",
            "shape: torch.Size([3])\n",
            "\n",
            "First two rows, last two columns:\n",
            "tensor([[2, 3, 4],\n",
            "        [6, 7, 8]])\n",
            "shape: torch.Size([2, 3])\n",
            "\n",
            "Every other row, middle columns:\n",
            "tensor([[ 2,  3],\n",
            "        [10, 11]])\n",
            "shape: torch.Size([2, 2])\n"
          ]
        }
      ],
      "source": [
        "# Create the following order 2 tensor with shape (3, 4)\n",
        "# [[ 1  2  3  4]\n",
        "#  [ 5  6  7  8]\n",
        "#  [ 9 10 11 12]]\n",
        "a = torch.tensor([[1, 2, 3, 4], [5, 6, 7, 8], [9, 10, 11, 12]])\n",
        "print('Original tensor:')\n",
        "print(a)\n",
        "print('shape:', a.shape)\n",
        "\n",
        "# Get row 1, and all columns. \n",
        "print('\\nSingle row:')\n",
        "print(a[1, :])\n",
        "print(a[1])  # Gives the same result; we can omit : for trailing dimensions\n",
        "print('shape:', a[1].shape)\n",
        "\n",
        "print('\\nSingle column:')\n",
        "print(a[:, 1])\n",
        "print('shape:', a[:, 1].shape)\n",
        "\n",
        "# Get the first two rows and the last three columns\n",
        "print('\\nFirst two rows, last two columns:')\n",
        "print(a[:2, -3:])\n",
        "print('shape:', a[:2, -3:].shape)\n",
        "\n",
        "# Get every other row, and columns at index 1 and 2\n",
        "print('\\nEvery other row, middle columns:')\n",
        "print(a[::2, 1:3])\n",
        "print('shape:', a[::2, 1:3].shape)"
      ]
    },
    {
      "cell_type": "markdown",
      "metadata": {
        "id": "0-mCGmRfnkZC"
      },
      "source": [
        "There are two common ways to access a single row or column of a tensor: using an integer will reduce the order by one, and using a length-one slice will keep the order unchanged:"
      ]
    },
    {
      "cell_type": "code",
      "execution_count": null,
      "metadata": {
        "id": "Kpbq5QCFnkZC",
        "colab": {
          "base_uri": "https://localhost:8080/"
        },
        "outputId": "712d1d27-20b7-4e1a-f5d2-499a1e9023d6"
      },
      "outputs": [
        {
          "output_type": "stream",
          "name": "stdout",
          "text": [
            "Original tensor\n",
            "tensor([[ 1,  2,  3,  4],\n",
            "        [ 5,  6,  7,  8],\n",
            "        [ 9, 10, 11, 12]])\n",
            "\n",
            "Two ways of accessing a single row:\n",
            "tensor([5, 6, 7, 8]) torch.Size([4])\n",
            "tensor([[5, 6, 7, 8]]) torch.Size([1, 4])\n",
            "\n",
            "Two ways of accessing a single column:\n",
            "tensor([ 2,  6, 10]) torch.Size([3])\n",
            "tensor([[ 2],\n",
            "        [ 6],\n",
            "        [10]]) torch.Size([3, 1])\n"
          ]
        }
      ],
      "source": [
        "# Create the following order 2 tensor with shape (3, 4)\n",
        "a = torch.tensor([[1,2,3,4], [5,6,7,8], [9,10,11,12]])\n",
        "print('Original tensor')\n",
        "print(a)\n",
        "\n",
        "row_r1 = a[1, :]    # Order 1 view of the second row of a  \n",
        "row_r2 = a[1:2, :]  # Order 2 view of the second row of a\n",
        "print('\\nTwo ways of accessing a single row:')\n",
        "print(row_r1, row_r1.shape)\n",
        "print(row_r2, row_r2.shape)\n",
        "\n",
        "# We can make the same distinction when accessing columns\n",
        "col_r1 = a[:, 1]\n",
        "col_r2 = a[:, 1:2]\n",
        "print('\\nTwo ways of accessing a single column:')\n",
        "print(col_r1, col_r1.shape)\n",
        "print(col_r2, col_r2.shape)"
      ]
    },
    {
      "cell_type": "markdown",
      "metadata": {
        "id": "TCkwxWWMnkZD"
      },
      "source": [
        "Slicing a tensor returns a **view** into the same data, so modifying it will also modify the original tensor. To avoid this, you can use the [`.clone()`](https://pytorch.org/docs/stable/generated/torch.clone.html#torch.clone) method to make a copy of the tensor:"
      ]
    },
    {
      "cell_type": "code",
      "execution_count": null,
      "metadata": {
        "id": "aYA6Z42MnkZD",
        "colab": {
          "base_uri": "https://localhost:8080/"
        },
        "outputId": "882d459c-1729-4422-ecaf-8d617334edb3"
      },
      "outputs": [
        {
          "output_type": "stream",
          "name": "stdout",
          "text": [
            "Before mutating:\n",
            "tensor([[1, 2, 3, 4],\n",
            "        [5, 6, 7, 8]])\n",
            "tensor([2, 3, 4])\n",
            "tensor([2, 3, 4])\n",
            "\n",
            "After mutating:\n",
            "tensor([[ 1, 20, 30,  4],\n",
            "        [ 5,  6,  7,  8]])\n",
            "tensor([20, 30,  4])\n",
            "tensor([ 2,  3, 40])\n",
            "False\n"
          ]
        }
      ],
      "source": [
        "# Create a tensor, a slice, and a clone of a slice\n",
        "a = torch.tensor([[1, 2, 3, 4], [5, 6, 7, 8]])\n",
        "b = a[0, 1:]\n",
        "c = a[0, 1:].clone()\n",
        "print('Before mutating:')\n",
        "print(a)\n",
        "print(b)\n",
        "print(c)\n",
        "\n",
        "a[0, 1] = 20  # a[0, 1] and b[0] point to the same element\n",
        "b[1] = 30     # b[1] and a[0, 2] point to the same element\n",
        "c[2] = 40     # c is a clone, so it has its own data\n",
        "print('\\nAfter mutating:')\n",
        "print(a)\n",
        "print(b)\n",
        "print(c)\n",
        "\n",
        "print(a.storage().data_ptr() == c.storage().data_ptr())"
      ]
    },
    {
      "cell_type": "markdown",
      "metadata": {
        "id": "xpu952v5nkZD"
      },
      "source": [
        "Your turn: Practice indexing tensors with slices."
      ]
    },
    {
      "cell_type": "code",
      "execution_count": null,
      "metadata": {
        "deletable": false,
        "editable": false,
        "nbgrader": {
          "cell_type": "code",
          "checksum": "e3eac514a7150dad2cc1c8ef057afc32",
          "grade": false,
          "grade_id": "cell-035dd96ffb926894",
          "locked": true,
          "schema_version": 3,
          "solution": false,
          "task": false
        },
        "id": "rzkuEnsnnkZD"
      },
      "outputs": [],
      "source": [
        "# We will use this helper function to check your results\n",
        "def check(orig, actual, expected):\n",
        "  expected = torch.tensor(expected)\n",
        "  same_shape = (actual.shape == expected.shape)\n",
        "  same_elements = (actual == expected).all()\n",
        "  same_storage = (orig.storage().data_ptr() == actual.storage().data_ptr())\n",
        "  return same_shape and same_elements and same_storage"
      ]
    },
    {
      "cell_type": "code",
      "execution_count": null,
      "metadata": {
        "deletable": false,
        "editable": false,
        "nbgrader": {
          "cell_type": "code",
          "checksum": "32881bb1c071432bdb83f91c8e2cc3ff",
          "grade": false,
          "grade_id": "cell-2ebd5fe4e47a3904",
          "locked": true,
          "schema_version": 3,
          "solution": false,
          "task": false
        },
        "id": "JPs9DCPYnkZD"
      },
      "outputs": [],
      "source": [
        "# Create the following order 2 tensor of shape (3, 5)\n",
        "# [[ 1  2  3  4  5]\n",
        "#  [ 6  7  8  9 10]\n",
        "#  [11 12 13 14 15]]\n",
        "a = torch.tensor([[1, 2, 3, 4, 5], [6, 7, 8, 9, 10], [11, 12, 13, 14, 15]])\n",
        "\n",
        "b, c, d, e = None, None, None, None"
      ]
    },
    {
      "cell_type": "code",
      "execution_count": null,
      "metadata": {
        "deletable": false,
        "nbgrader": {
          "cell_type": "code",
          "checksum": "c3b160489daa643c5a9ae24212e8c881",
          "grade": false,
          "grade_id": "cell-174969e75b59f9af",
          "locked": false,
          "schema_version": 3,
          "solution": true,
          "task": false
        },
        "id": "fq6WjMmInkZE"
      },
      "outputs": [],
      "source": [
        "###############################################################################\n",
        "# TODO: Extract the last row of a, and store it in b; it should have order 1. #\n",
        "###############################################################################\n",
        "# Replace \"pass\" statement with your code\n",
        "b = a[-1, :]\n",
        "# END OF YOUR CODE"
      ]
    },
    {
      "cell_type": "code",
      "execution_count": null,
      "metadata": {
        "deletable": false,
        "editable": false,
        "nbgrader": {
          "cell_type": "code",
          "checksum": "226d4ea387230fd05271fc0119ace1bf",
          "grade": true,
          "grade_id": "cell-50a8481ff97fac5a",
          "locked": true,
          "points": 1,
          "schema_version": 3,
          "solution": false,
          "task": false
        },
        "id": "cdMcN_MmnkZE"
      },
      "outputs": [],
      "source": [
        "assert check(a, b, [11, 12, 13, 14, 15]), 'b correct'"
      ]
    },
    {
      "cell_type": "code",
      "execution_count": null,
      "metadata": {
        "deletable": false,
        "nbgrader": {
          "cell_type": "code",
          "checksum": "a0ad77354e734d46e2d643d8e57cb4ff",
          "grade": false,
          "grade_id": "cell-c4873e3813ef19d3",
          "locked": false,
          "schema_version": 3,
          "solution": true,
          "task": false
        },
        "id": "uLHt0BdKnkZE"
      },
      "outputs": [],
      "source": [
        "################################################################################\n",
        "# TODO: Extract the third col of a, and store it in c; it should have order 2. #\n",
        "################################################################################\n",
        "# Replace \"pass\" statement with your code\n",
        "c = a[:, 2:3]\n",
        "# END OF YOUR CODE"
      ]
    },
    {
      "cell_type": "code",
      "execution_count": null,
      "metadata": {
        "deletable": false,
        "editable": false,
        "nbgrader": {
          "cell_type": "code",
          "checksum": "1e15ad2d142ab7dae12efdebc04a0581",
          "grade": true,
          "grade_id": "cell-abf0fb4fcc6c8b2e",
          "locked": true,
          "points": 1,
          "schema_version": 3,
          "solution": false,
          "task": false
        },
        "id": "YwVl45FrnkZE"
      },
      "outputs": [],
      "source": [
        "assert check(a, c, [[3], [8], [13]]), 'c correct'"
      ]
    },
    {
      "cell_type": "code",
      "execution_count": null,
      "metadata": {
        "deletable": false,
        "nbgrader": {
          "cell_type": "code",
          "checksum": "86cb693c9eb656c741c914c04dd8c233",
          "grade": false,
          "grade_id": "cell-6617d8049e6c1017",
          "locked": false,
          "schema_version": 3,
          "solution": true,
          "task": false
        },
        "id": "WiXIETijnkZE"
      },
      "outputs": [],
      "source": [
        "##############################################################################\n",
        "# TODO: Use slicing to extract the first two rows and first three columns    #\n",
        "# from a; store the result into d.                                           #\n",
        "##############################################################################\n",
        "# Replace \"pass\" statement with your code\n",
        "d = a[0:2, 0:3]\n",
        "# END OF YOUR CODE"
      ]
    },
    {
      "cell_type": "code",
      "execution_count": null,
      "metadata": {
        "deletable": false,
        "editable": false,
        "nbgrader": {
          "cell_type": "code",
          "checksum": "9ea496ba120f54665aac938f131f8ff0",
          "grade": true,
          "grade_id": "cell-f9acdb37254c7c48",
          "locked": true,
          "points": 1,
          "schema_version": 3,
          "solution": false,
          "task": false
        },
        "id": "MqqOJ_wrnkZF"
      },
      "outputs": [],
      "source": [
        "assert check(a, d, [[1, 2, 3], [6, 7, 8]]), 'd correct'"
      ]
    },
    {
      "cell_type": "code",
      "execution_count": null,
      "metadata": {
        "deletable": false,
        "nbgrader": {
          "cell_type": "code",
          "checksum": "5019c4992ea29c54f1845b318b5b85d9",
          "grade": false,
          "grade_id": "cell-8112f5ed7a56dc4f",
          "locked": false,
          "schema_version": 3,
          "solution": true,
          "task": false
        },
        "id": "asYHm_MtnkZF"
      },
      "outputs": [],
      "source": [
        "##############################################################################\n",
        "# TODO: Use slicing to extract a subtensor of a consisting of rows with      #\n",
        "# index 0 and 2 and columns with index 1 and 4; store the result into e.     #\n",
        "#                                                                            #\n",
        "# HINT: Get every other row and every 3rd column starting with index 1.      #\n",
        "# If you get the right solution, but check() returns False, this means       #\n",
        "# your solution is copying values (instead of pointing to the original       #\n",
        "# values), which we do not want here.                                        #\n",
        "##############################################################################\n",
        "# Replace \"pass\" statement with your code\n",
        "e = a[0:3:2, 1:5:3]\n",
        "# END OF YOUR CODE"
      ]
    },
    {
      "cell_type": "code",
      "execution_count": null,
      "metadata": {
        "deletable": false,
        "editable": false,
        "nbgrader": {
          "cell_type": "code",
          "checksum": "a3be5865ec6cdf9a0799020c12b177b0",
          "grade": true,
          "grade_id": "cell-b5ddde197ff37b6e",
          "locked": true,
          "points": 2,
          "schema_version": 3,
          "solution": false,
          "task": false
        },
        "id": "ZKdgDxQYnkZF"
      },
      "outputs": [],
      "source": [
        "assert check(a, e, [[2, 5], [12, 15]]), 'e correct'"
      ]
    },
    {
      "cell_type": "markdown",
      "metadata": {
        "id": "GLPABMyjnkZF"
      },
      "source": [
        "Now try similar operations on an order 3 tensor."
      ]
    },
    {
      "cell_type": "code",
      "execution_count": null,
      "metadata": {
        "deletable": false,
        "editable": false,
        "nbgrader": {
          "cell_type": "code",
          "checksum": "3e25812a68110f73c7eaf4b3af848fc7",
          "grade": false,
          "grade_id": "cell-a79490b5c6d2fefc",
          "locked": true,
          "schema_version": 3,
          "solution": false,
          "task": false
        },
        "id": "dau0-TuPnkZG"
      },
      "outputs": [],
      "source": [
        "# Create the following order 3 tensor of shape (2, 3, 5)\n",
        "# [[[ 1  2  3  4  5]\n",
        "#   [ 6  7  8  9 10]\n",
        "#   [11 12 13 14 15]]\n",
        "#  [[21 22 23 24 25]\n",
        "#   [26 27 28 29 30]\n",
        "#   [31 32 33 34 35]]]\n",
        "a = torch.tensor([[[ 1,  2,  3,  4,  5],\n",
        "                   [ 6,  7,  8,  9, 10],\n",
        "                   [11, 12, 13, 14, 15]],\n",
        "                  [[21, 22, 23, 24, 25],\n",
        "                   [26, 27, 28, 29, 30],\n",
        "                   [31, 32, 33, 34, 35]]])\n",
        "\n",
        "b, c, d = None, None, None"
      ]
    },
    {
      "cell_type": "code",
      "execution_count": null,
      "metadata": {
        "deletable": false,
        "nbgrader": {
          "cell_type": "code",
          "checksum": "ce2d42aa70bd4650e980eb6c33afddcb",
          "grade": false,
          "grade_id": "cell-82c0aea698850cfd",
          "locked": false,
          "schema_version": 3,
          "solution": true,
          "task": false
        },
        "id": "nNJIyaxknkZG"
      },
      "outputs": [],
      "source": [
        "####################################################################################\n",
        "# TODO: Extract the following row of a, and store it in b; it should have order 1. #\n",
        "# [26, 27, 28, 29, 30]                                                             #\n",
        "####################################################################################\n",
        "# Replace \"pass\" statement with your code\n",
        "b = a[1, 1, :]\n",
        "# END OF YOUR CODE"
      ]
    },
    {
      "cell_type": "code",
      "execution_count": null,
      "metadata": {
        "deletable": false,
        "editable": false,
        "nbgrader": {
          "cell_type": "code",
          "checksum": "45ec6a86a56879716f8df05742700012",
          "grade": true,
          "grade_id": "cell-d585b827918d800c",
          "locked": true,
          "points": 2,
          "schema_version": 3,
          "solution": false,
          "task": false
        },
        "id": "aXVYSczBnkZG"
      },
      "outputs": [],
      "source": [
        "assert check(a, b, [26, 27, 28, 29, 30]), 'b correct'"
      ]
    },
    {
      "cell_type": "code",
      "execution_count": null,
      "metadata": {
        "deletable": false,
        "nbgrader": {
          "cell_type": "code",
          "checksum": "c316051b75d278363db001b169a76ccf",
          "grade": false,
          "grade_id": "cell-34f1d4b9402d1d47",
          "locked": false,
          "schema_version": 3,
          "solution": true,
          "task": false
        },
        "id": "E3pDbGpinkZG"
      },
      "outputs": [],
      "source": [
        "####################################################################################\n",
        "# TODO: Extract the following col of a, and store it in c; it should have order 2. #\n",
        "# [[25], [30], [35]]                                                               #\n",
        "####################################################################################\n",
        "# Replace \"pass\" statement with your code\n",
        "c = a[1, :, -1].reshape(3, 1)\n",
        "# END OF YOUR CODE"
      ]
    },
    {
      "cell_type": "code",
      "execution_count": null,
      "metadata": {
        "deletable": false,
        "editable": false,
        "nbgrader": {
          "cell_type": "code",
          "checksum": "adeb4fb72abee9f42219f357fee803f1",
          "grade": true,
          "grade_id": "cell-249741394adb23dc",
          "locked": true,
          "points": 2,
          "schema_version": 3,
          "solution": false,
          "task": false
        },
        "id": "dPPOdkMFnkZG"
      },
      "outputs": [],
      "source": [
        "assert check(a, c, [[25], [30], [35]]), 'c correct'"
      ]
    },
    {
      "cell_type": "code",
      "execution_count": null,
      "metadata": {
        "deletable": false,
        "nbgrader": {
          "cell_type": "code",
          "checksum": "f96615a585836e04b267ad75ed293821",
          "grade": false,
          "grade_id": "cell-7e2849ffd4708ea7",
          "locked": false,
          "schema_version": 3,
          "solution": true,
          "task": false
        },
        "id": "9EqJav0nnkZH"
      },
      "outputs": [],
      "source": [
        "###################################################################################\n",
        "# TODO: Use slicing to extract the following subtensor from a, and store it in d. #\n",
        "# It should have order 3.                                                         #\n",
        "# [[[ 2  3  4]                                                                    #\n",
        "#   [ 7  8  9]]                                                                   #\n",
        "#  [[22 23 24]                                                                    #\n",
        "#   [27 28 29]]]                                                                  #\n",
        "###################################################################################\n",
        "# Replace \"pass\" statement with your code\n",
        "d = a[:, 0:2, 1:4]\n",
        "# END OF YOUR CODE"
      ]
    },
    {
      "cell_type": "code",
      "execution_count": null,
      "metadata": {
        "deletable": false,
        "editable": false,
        "nbgrader": {
          "cell_type": "code",
          "checksum": "2f2cf2b5a90d7aebf074d36ce525e457",
          "grade": true,
          "grade_id": "cell-b29da784821bd28e",
          "locked": true,
          "points": 2,
          "schema_version": 3,
          "solution": false,
          "task": false
        },
        "id": "idVcOpaonkZH"
      },
      "outputs": [],
      "source": [
        "assert check(a, d, [[[2, 3, 4], [7, 8, 9]], [[22, 23, 24], [27, 28, 29]]]), 'd correct'"
      ]
    },
    {
      "cell_type": "markdown",
      "metadata": {
        "id": "cW7uk9xInkZH"
      },
      "source": [
        "So far we have used slicing to **access** subtensors; we can also use slicing to **modify** subtensors by writing assignment expressions where the left-hand side is a slice expression, and the right-hand side is a constant or a tensor of the correct shape:"
      ]
    },
    {
      "cell_type": "code",
      "execution_count": null,
      "metadata": {
        "id": "LLdV4T_PnkZH",
        "colab": {
          "base_uri": "https://localhost:8080/"
        },
        "outputId": "02cc24e6-d4ae-4c52-e101-2b4ea1ddf49e"
      },
      "outputs": [
        {
          "output_type": "stream",
          "name": "stdout",
          "text": [
            "tensor([[1, 1, 2, 3],\n",
            "        [1, 1, 4, 5]])\n"
          ]
        }
      ],
      "source": [
        "f = torch.zeros(2, 4, dtype=torch.int64)\n",
        "f[:, :2] = 1\n",
        "f[:, 2:] = torch.tensor([[2, 3], [4, 5]])\n",
        "print(f)"
      ]
    },
    {
      "cell_type": "markdown",
      "metadata": {
        "id": "ixOe1n_9nkZH"
      },
      "source": [
        "Your turn: Use slicing to modify a tensor."
      ]
    },
    {
      "cell_type": "code",
      "execution_count": null,
      "metadata": {
        "deletable": false,
        "editable": false,
        "nbgrader": {
          "cell_type": "code",
          "checksum": "329ec131c6caa77d8fa7b36b13700bc4",
          "grade": false,
          "grade_id": "cell-a22cae45c0bf060c",
          "locked": true,
          "schema_version": 3,
          "solution": false,
          "task": false
        },
        "id": "6SsnvW2qnkZI"
      },
      "outputs": [],
      "source": [
        "x = torch.zeros(4, 6, dtype=torch.int64)"
      ]
    },
    {
      "cell_type": "code",
      "execution_count": null,
      "metadata": {
        "deletable": false,
        "nbgrader": {
          "cell_type": "code",
          "checksum": "2424d28c0df5aff6c920f30602f4b2bd",
          "grade": false,
          "grade_id": "cell-063a7e7249049008",
          "locked": false,
          "schema_version": 3,
          "solution": true,
          "task": false
        },
        "id": "IVUm9mWFnkZI"
      },
      "outputs": [],
      "source": [
        "def modify(x):\n",
        "  ##############################################################################\n",
        "  # TODO: Use slicing to modify the tensor x so it has the following contents: #\n",
        "  #     [[1, 0, 2, 2, 2, 2],                                                   #\n",
        "  #      [0, 1, 2, 2, 2, 2],                                                   #\n",
        "  #      [3, 4, 3, 4, 5, 5],                                                   #\n",
        "  #      [3, 4, 3, 4, 5, 5]]                                                   #\n",
        "  # This can be achieved using 5 slicing assignment operations (next section   #\n",
        "  # may be helpful), but you will still get full credit if you use more than 5.#\n",
        "  ##############################################################################\n",
        "  # Replace \"pass\" statement with your code\n",
        "  x[0:2, 0:2] = torch.eye(2)\n",
        "  x[2:4, 0:3:2] = torch.full((2,2), 3)\n",
        "  x[2:4, 1:4:2] = torch.full((2,2), 4)\n",
        "  x[2:4, 4:6] = torch.full((2,2), 5)\n",
        "  x[0:2, 2:6] = torch.full((2,4), 2)\n",
        "  # END OF YOUR CODE\n",
        "  return x"
      ]
    },
    {
      "cell_type": "code",
      "execution_count": null,
      "metadata": {
        "deletable": false,
        "editable": false,
        "nbgrader": {
          "cell_type": "code",
          "checksum": "413837f0a5a14fbe9144adcd88ad86c3",
          "grade": true,
          "grade_id": "cell-9d104042deb91720",
          "locked": true,
          "points": 3,
          "schema_version": 3,
          "solution": false,
          "task": false
        },
        "id": "7slmbPzonkZI"
      },
      "outputs": [],
      "source": [
        "expected = [\n",
        "    [1, 0, 2, 2, 2, 2],\n",
        "    [0, 1, 2, 2, 2, 2],\n",
        "    [3, 4, 3, 4, 5, 5],\n",
        "    [3, 4, 3, 4, 5, 5],\n",
        "]\n",
        "y = modify(x)\n",
        "assert check(x, y, expected), 'slicing correct'"
      ]
    },
    {
      "cell_type": "markdown",
      "metadata": {
        "id": "DEqH_ha-nkZI"
      },
      "source": [
        "### Integer array indexing"
      ]
    },
    {
      "cell_type": "markdown",
      "metadata": {
        "id": "rKuTVx9VnkZJ"
      },
      "source": [
        "When you index into a PyTorch tensor using slicing, the resulting tensor view will always be a subarray of the original tensor. This is powerful, but can be restrictive.\n",
        "\n",
        "We can also use **index arrays** to index tensors; this lets us construct new tensors with a lot more flexibility than using slices.\n",
        "\n",
        "As an example, we can use index arrays to reorder the rows or columns of a tensor:"
      ]
    },
    {
      "cell_type": "code",
      "execution_count": null,
      "metadata": {
        "id": "ZaNofH7znkZJ",
        "colab": {
          "base_uri": "https://localhost:8080/"
        },
        "outputId": "1bbfd98f-419d-4486-cf48-0aa2773d3de2"
      },
      "outputs": [
        {
          "output_type": "stream",
          "name": "stdout",
          "text": [
            "Original tensor:\n",
            "tensor([[ 1,  2,  3,  4],\n",
            "        [ 5,  6,  7,  8],\n",
            "        [ 9, 10, 11, 12]])\n",
            "\n",
            "Reordered rows:\n",
            "tensor([[ 1,  2,  3,  4],\n",
            "        [ 1,  2,  3,  4],\n",
            "        [ 9, 10, 11, 12],\n",
            "        [ 5,  6,  7,  8],\n",
            "        [ 5,  6,  7,  8]])\n",
            "\n",
            "Reordered columns:\n",
            "tensor([[ 4,  3,  2,  1],\n",
            "        [ 8,  7,  6,  5],\n",
            "        [12, 11, 10,  9]])\n"
          ]
        }
      ],
      "source": [
        "# Create the following order 2 tensor with shape (3, 4)\n",
        "# [[ 1  2  3  4]\n",
        "#  [ 5  6  7  8]\n",
        "#  [ 9 10 11 12]]\n",
        "a = torch.tensor([[1, 2, 3, 4], [5, 6, 7, 8], [9, 10, 11, 12]])\n",
        "print('Original tensor:')\n",
        "print(a)\n",
        "\n",
        "# Create a new tensor of shape (5, 4) by reordering rows from a:\n",
        "# - First two rows are the same as the first row of a\n",
        "# - Third row is the same as the last row of a\n",
        "# - Fourth and fifth rows are the same as the second row of a\n",
        "idx = [0, 0, 2, 1, 1]  # index arrays can be Python lists of integers\n",
        "print('\\nReordered rows:')\n",
        "print(a[idx])\n",
        "\n",
        "# Create a new tensor of shape (3, 4) by reversing the columns from a\n",
        "idx = torch.tensor([3, 2, 1, 0])  # Index arrays can be int64 torch tensors\n",
        "print('\\nReordered columns:')\n",
        "print(a[:, idx])"
      ]
    },
    {
      "cell_type": "markdown",
      "metadata": {
        "id": "lq9CrznFnkZJ"
      },
      "source": [
        "More generally, given index arrays `idx0` and `idx1` with `N` elements each, `a[idx0, idx1]` is equivalent to:\n",
        "\n",
        "```\n",
        "torch.tensor([\n",
        "  a[idx0[0], idx1[0]],\n",
        "  a[idx0[1], idx1[1]],\n",
        "  ...,\n",
        "  a[idx0[N - 1], idx1[N - 1]],\n",
        "])\n",
        "```\n",
        "\n",
        "(A similar pattern extends to tensors with more than two dimensions)\n",
        "\n",
        "We can for example use this to get or set the diagonal of a tensor:"
      ]
    },
    {
      "cell_type": "code",
      "execution_count": null,
      "metadata": {
        "id": "vMhTw3L1nkZJ",
        "colab": {
          "base_uri": "https://localhost:8080/"
        },
        "outputId": "c6d12e9f-9d8a-4030-bf6c-13277fe20f52"
      },
      "outputs": [
        {
          "output_type": "stream",
          "name": "stdout",
          "text": [
            "Original tensor:\n",
            "tensor([[1, 2, 3],\n",
            "        [4, 5, 6],\n",
            "        [7, 8, 9]])\n",
            "\n",
            "Get the diagonal:\n",
            "tensor([1, 5, 9])\n",
            "\n",
            "After setting the diagonal:\n",
            "tensor([[11,  2,  3],\n",
            "        [ 4, 22,  6],\n",
            "        [ 7,  8, 33]])\n"
          ]
        }
      ],
      "source": [
        "a = torch.tensor([[1, 2, 3], [4, 5, 6], [7, 8, 9]])\n",
        "print('Original tensor:')\n",
        "print(a)\n",
        "\n",
        "idx = [0, 1, 2]\n",
        "print('\\nGet the diagonal:')\n",
        "print(a[idx, idx])\n",
        "\n",
        "# Modify the diagonal\n",
        "a[idx, idx] = torch.tensor([11, 22, 33])\n",
        "print('\\nAfter setting the diagonal:')\n",
        "print(a)"
      ]
    },
    {
      "cell_type": "markdown",
      "metadata": {
        "id": "SG3HPHqonkZJ"
      },
      "source": [
        "One useful trick with integer array indexing is selecting or mutating one element from each row or column of a matrix:"
      ]
    },
    {
      "cell_type": "code",
      "execution_count": null,
      "metadata": {
        "id": "zehdzkUVnkZK",
        "colab": {
          "base_uri": "https://localhost:8080/"
        },
        "outputId": "2e7ae3c5-41f4-4d75-8d47-1f110718e6a1"
      },
      "outputs": [
        {
          "output_type": "stream",
          "name": "stdout",
          "text": [
            "Original tensor:\n",
            "tensor([[ 1,  2,  3],\n",
            "        [ 4,  5,  6],\n",
            "        [ 7,  8,  9],\n",
            "        [10, 11, 12]])\n",
            "\n",
            "Select one element from each row:\n",
            "tensor([ 2,  6,  8, 10])\n",
            "\n",
            "After modifying one element from each row:\n",
            "tensor([[ 1,  0,  3],\n",
            "        [ 4,  5,  0],\n",
            "        [ 7,  0,  9],\n",
            "        [ 0, 11, 12]])\n"
          ]
        }
      ],
      "source": [
        "# Create a new tensor from which we will select elements\n",
        "a = torch.tensor([[1, 2, 3], [4, 5, 6], [7, 8, 9], [10, 11, 12]])\n",
        "print('Original tensor:')\n",
        "print(a)\n",
        "\n",
        "# Take one element from each row of a:\n",
        "# from row 0, take element 1;\n",
        "# from row 1, take element 2;\n",
        "# from row 2, take element 1;\n",
        "# from row 3, take element 0\n",
        "idx0 = torch.arange(a.shape[0])  # Quick way to build [0, 1, 2, 3]\n",
        "idx1 = torch.tensor([1, 2, 1, 0])\n",
        "print('\\nSelect one element from each row:')\n",
        "print(a[idx0, idx1])\n",
        "\n",
        "# Now set each of those elements to zero\n",
        "a[idx0, idx1] = 0\n",
        "print('\\nAfter modifying one element from each row:')\n",
        "print(a)"
      ]
    },
    {
      "cell_type": "markdown",
      "metadata": {
        "id": "tTW7PSVhnkZK"
      },
      "source": [
        "Your turn: Practice with integer array indexing."
      ]
    },
    {
      "cell_type": "code",
      "execution_count": null,
      "metadata": {
        "deletable": false,
        "editable": false,
        "nbgrader": {
          "cell_type": "code",
          "checksum": "6ff18efd373172f0c029c5110540434a",
          "grade": false,
          "grade_id": "cell-4ab62b9c63438f9e",
          "locked": true,
          "schema_version": 3,
          "solution": false,
          "task": false
        },
        "id": "z_ZhHUrtnkZK",
        "colab": {
          "base_uri": "https://localhost:8080/"
        },
        "outputId": "12abe0c0-382e-4f21-ed25-9431321083ef"
      },
      "outputs": [
        {
          "output_type": "stream",
          "name": "stdout",
          "text": [
            "Here is a:\n",
            "tensor([[ 1,  2,  3],\n",
            "        [ 4,  5,  6],\n",
            "        [ 7,  8,  9],\n",
            "        [10, 11, 12]])\n"
          ]
        }
      ],
      "source": [
        "# Build a tensor of shape (4, 3):\n",
        "# [[ 1,  2,  3],\n",
        "#  [ 4,  5,  6],\n",
        "#  [ 7,  8,  9],\n",
        "#  [10, 11, 12]]\n",
        "a = torch.tensor([[1, 2, 3], [4, 5, 6], [7, 8, 9], [10, 11, 12]])\n",
        "print('Here is a:')\n",
        "print(a)\n",
        "\n",
        "b, c, d = None, None, None"
      ]
    },
    {
      "cell_type": "code",
      "execution_count": null,
      "metadata": {
        "deletable": false,
        "nbgrader": {
          "cell_type": "code",
          "checksum": "76307fd831dd78409b6bb3f12bb0d0d4",
          "grade": true,
          "grade_id": "cell-c2a944a777948f15",
          "locked": false,
          "points": 0,
          "schema_version": 3,
          "solution": true,
          "task": false
        },
        "id": "UPIKzeW1nkZK"
      },
      "outputs": [],
      "source": [
        "##############################################################################\n",
        "# TODO: Use integer array indexing to create a tensor of shape (4, 4) where: #\n",
        "# - The first two columns are the same as the first column of a.             #\n",
        "# - The next column is the same as the third column of a.                    #\n",
        "# - The last column is the same as the second column of a.                   #\n",
        "# Store the resulting tensor in b.                                           #\n",
        "##############################################################################\n",
        "# Replace \"pass\" statement with your code\n",
        "b = a[: ,[0, 0, 2, 1]]\n",
        "# END OF YOUR CODE"
      ]
    },
    {
      "cell_type": "code",
      "execution_count": null,
      "metadata": {
        "deletable": false,
        "editable": false,
        "nbgrader": {
          "cell_type": "code",
          "checksum": "e9f44d6778f920ac2993866e86ba036b",
          "grade": true,
          "grade_id": "cell-8cfcc158ce381e2c",
          "locked": true,
          "points": 2,
          "schema_version": 3,
          "solution": false,
          "task": false
        },
        "id": "i7S2aIPFnkZL",
        "colab": {
          "base_uri": "https://localhost:8080/"
        },
        "outputId": "e8051c33-f82f-40ab-c409-ba53c3fba81b"
      },
      "outputs": [
        {
          "output_type": "stream",
          "name": "stdout",
          "text": [
            "Here is b:\n",
            "tensor([[ 1,  1,  3,  2],\n",
            "        [ 4,  4,  6,  5],\n",
            "        [ 7,  7,  9,  8],\n",
            "        [10, 10, 12, 11]])\n"
          ]
        }
      ],
      "source": [
        "print('Here is b:')\n",
        "print(b)"
      ]
    },
    {
      "cell_type": "code",
      "execution_count": null,
      "metadata": {
        "deletable": false,
        "nbgrader": {
          "cell_type": "code",
          "checksum": "c0018961939ca35cba342125adcefd77",
          "grade": true,
          "grade_id": "cell-4685c7e726f5746e",
          "locked": false,
          "points": 0,
          "schema_version": 3,
          "solution": true,
          "task": false
        },
        "id": "4CK0QO-rnkZL"
      },
      "outputs": [],
      "source": [
        "##############################################################################\n",
        "# TODO: Use integer array indexing to create a new tensor which is the same  #\n",
        "# as a, but has its rows reversed. Store the result in c.                    #\n",
        "##############################################################################\n",
        "# Replace \"pass\" statement with your code\n",
        "c = a.clone()\n",
        "c = c[[3, 2, 1, 0], :]\n",
        "# END OF YOUR CODE"
      ]
    },
    {
      "cell_type": "code",
      "execution_count": null,
      "metadata": {
        "deletable": false,
        "editable": false,
        "nbgrader": {
          "cell_type": "code",
          "checksum": "16894819feb32429a72ef49948c8966c",
          "grade": true,
          "grade_id": "cell-328444f47e252f32",
          "locked": true,
          "points": 2,
          "schema_version": 3,
          "solution": false,
          "task": false
        },
        "id": "WbawidQonkZL",
        "colab": {
          "base_uri": "https://localhost:8080/"
        },
        "outputId": "d21c4e6f-3cfd-47b9-b177-bdd87f67777f"
      },
      "outputs": [
        {
          "output_type": "stream",
          "name": "stdout",
          "text": [
            "Here is c:\n",
            "tensor([[10, 11, 12],\n",
            "        [ 7,  8,  9],\n",
            "        [ 4,  5,  6],\n",
            "        [ 1,  2,  3]])\n"
          ]
        }
      ],
      "source": [
        "print('Here is c:')\n",
        "print(c)"
      ]
    },
    {
      "cell_type": "code",
      "execution_count": null,
      "metadata": {
        "deletable": false,
        "nbgrader": {
          "cell_type": "code",
          "checksum": "964b10ea19aba13bc59e032a4e9f068d",
          "grade": true,
          "grade_id": "cell-b80caabfaf608e19",
          "locked": false,
          "points": 0,
          "schema_version": 3,
          "solution": true,
          "task": false
        },
        "id": "dg-A5QMlnkZL"
      },
      "outputs": [],
      "source": [
        "##############################################################################\n",
        "# TODO: Use integer array indexing to create a new tensor by selecting one   #\n",
        "# element from each column of a:                                             #\n",
        "# - From the first column, take the second element.                          #\n",
        "# - From the second column, take the first element.                          #\n",
        "# - From the third column, take the fourth element.                          #\n",
        "# Store the result in d.                                                     #\n",
        "##############################################################################\n",
        "# Replace \"pass\" statement with your code\n",
        "d = a[[1, 0, 3], [0, 1, 2]]\n",
        "# END OF YOUR CODE"
      ]
    },
    {
      "cell_type": "code",
      "execution_count": null,
      "metadata": {
        "deletable": false,
        "editable": false,
        "nbgrader": {
          "cell_type": "code",
          "checksum": "d9844188829138a02a86ce294686f994",
          "grade": true,
          "grade_id": "cell-21d156dbd820a7b9",
          "locked": true,
          "points": 2,
          "schema_version": 3,
          "solution": false,
          "task": false
        },
        "id": "vh42gHHDnkZM",
        "colab": {
          "base_uri": "https://localhost:8080/"
        },
        "outputId": "0ecaa72f-cff4-4629-be86-d7043f96c943"
      },
      "outputs": [
        {
          "output_type": "stream",
          "name": "stdout",
          "text": [
            "Here is d:\n",
            "tensor([ 4,  2, 12])\n"
          ]
        }
      ],
      "source": [
        "print('Here is d:')\n",
        "print(d)"
      ]
    },
    {
      "cell_type": "markdown",
      "metadata": {
        "id": "KGbnZ8f-nkZM"
      },
      "source": [
        "Now try similar operations on an order 3 tensor."
      ]
    },
    {
      "cell_type": "code",
      "execution_count": null,
      "metadata": {
        "deletable": false,
        "editable": false,
        "nbgrader": {
          "cell_type": "code",
          "checksum": "8a2b38216c2374cd2ac64559e6a6a9a2",
          "grade": false,
          "grade_id": "cell-e029e12b2c7f373e",
          "locked": true,
          "schema_version": 3,
          "solution": false,
          "task": false
        },
        "id": "-389q9iJnkZM",
        "colab": {
          "base_uri": "https://localhost:8080/"
        },
        "outputId": "f6a039be-65d2-41f4-b814-4bfb73397144"
      },
      "outputs": [
        {
          "output_type": "stream",
          "name": "stdout",
          "text": [
            "Here is a:\n",
            "tensor([[[ 1,  2,  3],\n",
            "         [ 4,  5,  6],\n",
            "         [ 7,  8,  9],\n",
            "         [10, 11, 12]],\n",
            "\n",
            "        [[21, 22, 23],\n",
            "         [24, 25, 26],\n",
            "         [27, 28, 29],\n",
            "         [30, 31, 32]]])\n"
          ]
        }
      ],
      "source": [
        "# Build a tensor of shape (2, 4, 3):\n",
        "# [[[ 1,  2,  3],\n",
        "#   [ 4,  5,  6],\n",
        "#   [ 7,  8,  9],\n",
        "#   [10, 11, 12]],\n",
        "#  [[21, 22, 23],\n",
        "#   [24, 25, 26],\n",
        "#   [27, 28, 29],\n",
        "#   [30, 31, 32]]]\n",
        "a = torch.tensor([[[ 1,  2,  3],\n",
        "                   [ 4,  5,  6],\n",
        "                   [ 7,  8,  9],\n",
        "                   [10, 11, 12]],\n",
        "                  [[21, 22, 23],\n",
        "                   [24, 25, 26],\n",
        "                   [27, 28, 29],\n",
        "                   [30, 31, 32]]])\n",
        "print('Here is a:')\n",
        "print(a)\n",
        "\n",
        "b = None"
      ]
    },
    {
      "cell_type": "code",
      "execution_count": null,
      "metadata": {
        "deletable": false,
        "nbgrader": {
          "cell_type": "code",
          "checksum": "fa3dc9d267beb7bd7835f191106a0e27",
          "grade": true,
          "grade_id": "cell-744ee08bec4f20d1",
          "locked": false,
          "points": 0,
          "schema_version": 3,
          "solution": true,
          "task": false
        },
        "id": "ypUvQefmnkZM"
      },
      "outputs": [],
      "source": [
        "##############################################################################\n",
        "# TODO: Use integer array indexing to create a new tensor by selecting the   #\n",
        "# following subtensor of order 2 from a:                                     #\n",
        "# [[ 4,  5,  6],                                                             #\n",
        "#  [21, 22, 23]]                                                             #\n",
        "# Store the result in b.                                                     #\n",
        "##############################################################################\n",
        "# Replace \"pass\" statement with your code\n",
        "b = a[torch.tensor([0,1]), torch.tensor([1,0]), :]\n",
        "# END OF YOUR CODE"
      ]
    },
    {
      "cell_type": "code",
      "execution_count": null,
      "metadata": {
        "deletable": false,
        "editable": false,
        "nbgrader": {
          "cell_type": "code",
          "checksum": "df06d6eb1c0433a62443e428924d526b",
          "grade": true,
          "grade_id": "cell-10f6922cc54d75eb",
          "locked": true,
          "points": 3,
          "schema_version": 3,
          "solution": false,
          "task": false
        },
        "id": "iHwPLFLjnkZM",
        "colab": {
          "base_uri": "https://localhost:8080/"
        },
        "outputId": "54292853-679c-42bf-a241-4ac073b1f1f2"
      },
      "outputs": [
        {
          "output_type": "stream",
          "name": "stdout",
          "text": [
            "Here is b:\n",
            "tensor([[ 4,  5,  6],\n",
            "        [21, 22, 23]])\n"
          ]
        }
      ],
      "source": [
        "print('Here is b:')\n",
        "print(b)"
      ]
    },
    {
      "cell_type": "markdown",
      "metadata": {
        "id": "ObFnQeQfnkZN"
      },
      "source": [
        "### Boolean mask indexing"
      ]
    },
    {
      "cell_type": "markdown",
      "metadata": {
        "id": "mLZCNOTGnkZN"
      },
      "source": [
        "Boolean mask indexing lets you pick out arbitrary elements of a tensor according to a boolean mask. Frequently this type of indexing is used to select or modify the elements of a tensor that satisfy some condition:\n"
      ]
    },
    {
      "cell_type": "code",
      "execution_count": null,
      "metadata": {
        "id": "YCOyDukFnkZN",
        "colab": {
          "base_uri": "https://localhost:8080/"
        },
        "outputId": "9860ca43-f7cb-45b0-f786-710cc67d1942"
      },
      "outputs": [
        {
          "output_type": "stream",
          "name": "stdout",
          "text": [
            "Original tensor:\n",
            "tensor([[1, 2],\n",
            "        [3, 4],\n",
            "        [5, 6]])\n",
            "\n",
            "Mask tensor:\n",
            "tensor([[False, False],\n",
            "        [False,  True],\n",
            "        [ True,  True]])\n",
            "\n",
            "Selecting elements with the mask:\n",
            "tensor([4, 5, 6])\n",
            "\n",
            "After modifying with a mask:\n",
            "tensor([[0, 0],\n",
            "        [0, 4],\n",
            "        [5, 6]])\n"
          ]
        }
      ],
      "source": [
        "a = torch.tensor([[1, 2], [3, 4], [5, 6]])\n",
        "print('Original tensor:')\n",
        "print(a)\n",
        "\n",
        "# Find the elements of a that are bigger than 3. The mask has the same shape as\n",
        "# a, where each element of the mask tells whether the corresponding element of a\n",
        "# is greater than 3.\n",
        "mask = (a > 3)\n",
        "print('\\nMask tensor:')\n",
        "print(mask)\n",
        "\n",
        "# We can use the mask to construct an order 1 tensor containing the elements of a\n",
        "# that are selected by the mask\n",
        "print('\\nSelecting elements with the mask:')\n",
        "print(a[mask])\n",
        "\n",
        "# We can also use boolean masks to modify tensors; for example this sets all\n",
        "# elements <= 3 to zero:\n",
        "a[a <= 3] = 0\n",
        "print('\\nAfter modifying with a mask:')\n",
        "print(a)"
      ]
    },
    {
      "cell_type": "markdown",
      "metadata": {
        "id": "UiswTwIJnkZN"
      },
      "source": [
        "Your turn: Practice with boolean masks by implementing the following function."
      ]
    },
    {
      "cell_type": "code",
      "execution_count": null,
      "metadata": {
        "deletable": false,
        "nbgrader": {
          "cell_type": "code",
          "checksum": "6c53d7dddbe776422e9c582d3b412a73",
          "grade": false,
          "grade_id": "cell-0a58e1e2261de3d1",
          "locked": false,
          "schema_version": 3,
          "solution": true,
          "task": false
        },
        "id": "ZZTEAcICnkZN"
      },
      "outputs": [],
      "source": [
        "def num_negative(x):\n",
        "  \"\"\"\n",
        "  Return the number of negative values in the tensor x.\n",
        "\n",
        "  Inputs:\n",
        "  - x: A tensor of any shape.\n",
        "\n",
        "  Returns:\n",
        "  - num_neg: Number of negative values in x.\n",
        "  \"\"\"\n",
        "  num_neg = 0\n",
        "  ##############################################################################\n",
        "  # TODO: Use boolean masks to count the number of negative elements in x.     #\n",
        "  ##############################################################################\n",
        "  # Replace \"pass\" statement with your code\n",
        "  mask = (x < 0)\n",
        "  num_neg = torch.sum(mask)\n",
        "  # END OF YOUR CODE\n",
        "  return num_neg"
      ]
    },
    {
      "cell_type": "code",
      "execution_count": null,
      "metadata": {
        "deletable": false,
        "editable": false,
        "nbgrader": {
          "cell_type": "code",
          "checksum": "35c6122b3f8f94f1283678bd3219fc2c",
          "grade": true,
          "grade_id": "cell-c256897fe7ba89af",
          "locked": true,
          "points": 3,
          "schema_version": 3,
          "solution": false,
          "task": false
        },
        "id": "PqxBObHMnkZO"
      },
      "outputs": [],
      "source": [
        "# Make a few test cases\n",
        "torch.manual_seed(462)\n",
        "x0 = torch.tensor([[-1, -1, 0], [0, 1, 2], [3, 4, 5]])\n",
        "x1 = torch.tensor([0, 1, 2, 3])\n",
        "x2 = torch.randn(100, 100)\n",
        "assert num_negative(x0) == 2\n",
        "assert num_negative(x1) == 0\n",
        "assert num_negative(x2) == 5015"
      ]
    },
    {
      "cell_type": "markdown",
      "metadata": {
        "id": "LDUnqE8unkZO"
      },
      "source": [
        "Now implement a function that creates a tensor of **one-hot vectors** from a list of Python integers.\n",
        "\n",
        "A one-hot vector for an integer $n$ is a vector that has a one in its $n$th slot, and zeros in all other slots. One-hot vectors are commonly used to represent categorical variables in machine learning models.\n",
        "\n",
        "For example, given a list of integers `[1, 4, 3, 2]`, your function should produce the tensor:\n",
        "\n",
        "```\n",
        "[[0 1 0 0 0],\n",
        " [0 0 0 0 1],\n",
        " [0 0 0 1 0],\n",
        " [0 0 1 0 0]]\n",
        "```\n",
        "\n",
        "Here the first row corresponds to the first element of the list: it has a one at index 1, and zeros at all other indices. The second row corresponds to the second element of the list: it has a one at index 4, and zeros at all other indices. The other rows follow the same pattern. "
      ]
    },
    {
      "cell_type": "code",
      "execution_count": null,
      "metadata": {
        "deletable": false,
        "nbgrader": {
          "cell_type": "code",
          "checksum": "7ab37441924c07c950dada5d13ad0a39",
          "grade": true,
          "grade_id": "cell-a8e0ab54de906b75",
          "locked": false,
          "points": 0,
          "schema_version": 3,
          "solution": true,
          "task": false
        },
        "id": "encj9WxnnkZO"
      },
      "outputs": [],
      "source": [
        "def make_one_hot(x):\n",
        "  \"\"\"\n",
        "  Construct a LongTensor of one-hot-vectors from a list of Python non-negative\n",
        "  integers.\n",
        "\n",
        "  Inputs:\n",
        "  - x: A list of N ints (non-negative).\n",
        "\n",
        "  Returns:\n",
        "  - y: A tensor of shape (N, C) where C = 1 + max(x) is one more than the max\n",
        "       value in x. The n-th row of y is a one-hot-vector representation of x[n].\n",
        "       In other words, if x[n] = c then y[n, c] = 1; all other elements of y are\n",
        "       zeros. The ones and zeros in y should be 64-bit integers.\n",
        "  \"\"\"\n",
        "  y = None\n",
        "  ##############################################################################\n",
        "  # TODO: Complete the implementation of this function. You are NOT allowed to #\n",
        "  # use PyTorch's built-in one_hot functions.                                  #\n",
        "  ##############################################################################\n",
        "  # Replace \"pass\" statement with your code\n",
        "  y = torch.zeros(len(x), 1 + max(x), dtype=torch.int64)\n",
        "  y[torch.arange(y.shape[0], dtype=torch.int64), x] = torch.tensor([1. for _ in range(y.shape[0])], dtype=torch.int64)\n",
        "  # END OF YOUR CODE\n",
        "  return y"
      ]
    },
    {
      "cell_type": "code",
      "execution_count": null,
      "metadata": {
        "deletable": false,
        "editable": false,
        "nbgrader": {
          "cell_type": "code",
          "checksum": "5757dcc687417118d7637b00df4239be",
          "grade": true,
          "grade_id": "cell-6a0131ce869875ca",
          "locked": true,
          "points": 3,
          "schema_version": 3,
          "solution": false,
          "task": false
        },
        "id": "GHLoYnZXnkZO",
        "colab": {
          "base_uri": "https://localhost:8080/"
        },
        "outputId": "c1ee98f6-4590-46bf-c56b-6b06180305d4"
      },
      "outputs": [
        {
          "output_type": "stream",
          "name": "stdout",
          "text": [
            "Here is y0:\n",
            "tensor([[0, 1, 0, 0, 0],\n",
            "        [0, 0, 0, 0, 1],\n",
            "        [0, 0, 0, 1, 0],\n",
            "        [0, 0, 1, 0, 0]])\n"
          ]
        },
        {
          "output_type": "stream",
          "name": "stderr",
          "text": [
            "<ipython-input-712-8b3961f9b8b1>:22: DeprecationWarning: an integer is required (got type float).  Implicit conversion to integers using __int__ is deprecated, and may be removed in a future version of Python.\n",
            "  y[torch.arange(y.shape[0], dtype=torch.int64), x] = torch.tensor([1. for _ in range(y.shape[0])], dtype=torch.int64)\n"
          ]
        }
      ],
      "source": [
        "def check_one_hot(x, y):\n",
        "  C = y.shape[1]\n",
        "  for i, n in enumerate(x):\n",
        "    if n >= C: return False\n",
        "    for j in range(C):\n",
        "      expected = 1 if j == n else 0\n",
        "      if y[i, j].item() != expected: return False\n",
        "  return True\n",
        "\n",
        "x0 = [1, 4, 3, 2]\n",
        "y0 = make_one_hot(x0)\n",
        "print('Here is y0:')\n",
        "print(y0)\n",
        "assert check_one_hot(x0, y0), 'y0 has correct values'\n",
        "assert y0.dtype == torch.int64, 'y0 has correct dtype'"
      ]
    },
    {
      "cell_type": "markdown",
      "metadata": {
        "id": "9inSkvQSnkZP"
      },
      "source": [
        "## Reshape Operations"
      ]
    },
    {
      "cell_type": "markdown",
      "metadata": {
        "id": "osajWRtNnkZP"
      },
      "source": [
        "### View"
      ]
    },
    {
      "cell_type": "markdown",
      "metadata": {
        "id": "06Hr2Ly0nkZP"
      },
      "source": [
        "PyTorch provides many ways to manipulate the shape of tensors. The simplest example is [`.view()`](https://pytorch.org/docs/stable/generated/torch.Tensor.view.html?highlight=view#torch.Tensor.view): This returns a new tensor with the same number of elements as its input, but with a different shape.\n",
        "\n",
        "We can use `.view()` to flatten matrices into vectors, and to convert order 1 vectors into order 2 row or column matrices:"
      ]
    },
    {
      "cell_type": "code",
      "execution_count": null,
      "metadata": {
        "id": "nXj57A_AnkZQ",
        "colab": {
          "base_uri": "https://localhost:8080/"
        },
        "outputId": "0ff2bc1d-4917-444c-9e89-9b9f11dd963b"
      },
      "outputs": [
        {
          "output_type": "stream",
          "name": "stdout",
          "text": [
            "Original tensor:\n",
            "tensor([[1, 2, 3, 4],\n",
            "        [5, 6, 7, 8]])\n",
            "shape: torch.Size([2, 4])\n",
            "\n",
            "Flattened tensor:\n",
            "tensor([1, 2, 3, 4, 5, 6, 7, 8])\n",
            "shape: torch.Size([8])\n",
            "\n",
            "Row vector:\n",
            "tensor([[1, 2, 3, 4, 5, 6, 7, 8]])\n",
            "shape: torch.Size([1, 8])\n",
            "\n",
            "Column vector:\n",
            "tensor([[1],\n",
            "        [2],\n",
            "        [3],\n",
            "        [4],\n",
            "        [5],\n",
            "        [6],\n",
            "        [7],\n",
            "        [8]])\n",
            "shape: torch.Size([8, 1])\n",
            "\n",
            "Order 3 tensor:\n",
            "tensor([[[1, 2],\n",
            "         [3, 4]],\n",
            "\n",
            "        [[5, 6],\n",
            "         [7, 8]]])\n",
            "shape: torch.Size([2, 2, 2])\n"
          ]
        }
      ],
      "source": [
        "x0 = torch.tensor([[1, 2, 3, 4], [5, 6, 7, 8]])\n",
        "print('Original tensor:')\n",
        "print(x0)\n",
        "print('shape:', x0.shape)\n",
        "\n",
        "# Flatten x0 into an order 1 vector of shape (8,)\n",
        "x1 = x0.view(8)\n",
        "print('\\nFlattened tensor:')\n",
        "print(x1)\n",
        "print('shape:', x1.shape)\n",
        "\n",
        "# Convert x1 to an order 2 \"row vector\" of shape (1, 8)\n",
        "x2 = x1.view(1, 8)\n",
        "print('\\nRow vector:')\n",
        "print(x2)\n",
        "print('shape:', x2.shape)\n",
        "\n",
        "# Convert x1 to an order 2 \"column vector\" of shape (8, 1)\n",
        "x3 = x1.view(8, 1)\n",
        "print('\\nColumn vector:')\n",
        "print(x3)\n",
        "print('shape:', x3.shape)\n",
        "\n",
        "# Convert x1 to an order 3 tensor of shape (2, 2, 2)\n",
        "x4 = x1.view(2, 2, 2)\n",
        "print('\\nOrder 3 tensor:')\n",
        "print(x4)\n",
        "print('shape:', x4.shape)"
      ]
    },
    {
      "cell_type": "markdown",
      "metadata": {
        "id": "6YSWGTFVnkZQ"
      },
      "source": [
        "As a convenience, calls to `.view()` may include a single -1 argument; this puts enough elements on that dimension so that the output has the same shape as the input. This makes it easy to write some reshape operations in a way that is agnostic to the shape of the tensor:"
      ]
    },
    {
      "cell_type": "code",
      "execution_count": null,
      "metadata": {
        "id": "JvcwYwDbnkZQ",
        "colab": {
          "base_uri": "https://localhost:8080/"
        },
        "outputId": "90825389-1f70-4d26-bbe0-00233852b740"
      },
      "outputs": [
        {
          "output_type": "stream",
          "name": "stdout",
          "text": [
            "x0:\n",
            "tensor([[1, 2, 3],\n",
            "        [4, 5, 6]])\n",
            "x0_flat:\n",
            "tensor([1, 2, 3, 4, 5, 6])\n",
            "x0_row:\n",
            "tensor([[1, 2, 3, 4, 5, 6]])\n",
            "\n",
            "x1:\n",
            "tensor([[1, 2],\n",
            "        [3, 4]])\n",
            "x1_flat:\n",
            "tensor([1, 2, 3, 4])\n",
            "x1_row:\n",
            "tensor([[1, 2, 3, 4]])\n"
          ]
        }
      ],
      "source": [
        "# We can reuse these functions for tensors of different shapes\n",
        "def flatten(x):\n",
        "  return x.view(-1)\n",
        "\n",
        "def make_row_vec(x):\n",
        "  return x.view(1, -1)\n",
        "\n",
        "x0 = torch.tensor([[1, 2, 3], [4, 5, 6]])\n",
        "x0_flat = flatten(x0)\n",
        "x0_row = make_row_vec(x0)\n",
        "print('x0:')\n",
        "print(x0)\n",
        "print('x0_flat:')\n",
        "print(x0_flat)\n",
        "print('x0_row:')\n",
        "print(x0_row)\n",
        "\n",
        "x1 = torch.tensor([[1, 2], [3, 4]])\n",
        "x1_flat = flatten(x1)\n",
        "x1_row = make_row_vec(x1)\n",
        "print('\\nx1:')\n",
        "print(x1)\n",
        "print('x1_flat:')\n",
        "print(x1_flat)\n",
        "print('x1_row:')\n",
        "print(x1_row)"
      ]
    },
    {
      "cell_type": "markdown",
      "metadata": {
        "id": "k2AQP1rlnkZR"
      },
      "source": [
        "As its name implies, a tensor returned by `.view()` shares the same data as the input, so changes to one will affect the other:"
      ]
    },
    {
      "cell_type": "code",
      "execution_count": null,
      "metadata": {
        "id": "p1cAsEMinkZR",
        "colab": {
          "base_uri": "https://localhost:8080/"
        },
        "outputId": "8cc8915f-71c6-43d2-bc8d-4de8eb620868"
      },
      "outputs": [
        {
          "output_type": "stream",
          "name": "stdout",
          "text": [
            "x before modifying:\n",
            "tensor([[1, 2, 3],\n",
            "        [4, 5, 6]])\n",
            "x_flat before modifying:\n",
            "tensor([1, 2, 3, 4, 5, 6])\n",
            "\n",
            "x after modifying:\n",
            "tensor([[10, 20,  3],\n",
            "        [ 4,  5,  6]])\n",
            "x_flat after modifying:\n",
            "tensor([10, 20,  3,  4,  5,  6])\n"
          ]
        }
      ],
      "source": [
        "x = torch.tensor([[1, 2, 3], [4, 5, 6]])\n",
        "x_flat = x.view(-1)\n",
        "print('x before modifying:')\n",
        "print(x)\n",
        "print('x_flat before modifying:')\n",
        "print(x_flat)\n",
        "\n",
        "x[0, 0] = 10   # x[0, 0] and x_flat[0] point to the same data\n",
        "x_flat[1] = 20 # x_flat[1] and x[0, 1] point to the same data\n",
        "\n",
        "print('\\nx after modifying:')\n",
        "print(x)\n",
        "print('x_flat after modifying:')\n",
        "print(x_flat)"
      ]
    },
    {
      "cell_type": "markdown",
      "metadata": {
        "id": "i2YygkVYnkZR"
      },
      "source": [
        "### Swapping axes"
      ]
    },
    {
      "cell_type": "markdown",
      "metadata": {
        "id": "l3812NhmnkZR"
      },
      "source": [
        "Another common reshape operation you might want to perform is transposing a matrix. You might be surprised if you try to transpose a matrix with `.view()`: The `view()` function takes elements in row-major order, so **you cannot transpose matrices with `.view()`**.\n",
        "\n",
        "In general, you should only use `.view()` to add new dimensions to a tensor, or to collapse adjacent dimensions of a tensor.\n",
        "\n",
        "For other types of reshape operations, you usually need to use a function that can swap axes of a tensor. The simplest such function is `.t()`, specificially for transposing matrices. It is available both as a [function in the `torch` module](https://pytorch.org/docs/stable/generated/torch.t.html#torch.t), and as a [tensor instance method](https://pytorch.org/docs/stable/generated/torch.Tensor.t.html?highlight=torch+tensor+t#torch.Tensor.t):"
      ]
    },
    {
      "cell_type": "code",
      "execution_count": null,
      "metadata": {
        "id": "C3xvF3bjnkZR",
        "colab": {
          "base_uri": "https://localhost:8080/"
        },
        "outputId": "2d39c200-401b-46d2-9876-2304b2a1d3f7"
      },
      "outputs": [
        {
          "output_type": "stream",
          "name": "stdout",
          "text": [
            "Original matrix:\n",
            "tensor([[1, 2, 3],\n",
            "        [4, 5, 6]])\n",
            "\n",
            "Transposing with .view() DOES NOT WORK!\n",
            "tensor([[1, 2],\n",
            "        [3, 4],\n",
            "        [5, 6]])\n",
            "\n",
            "Transposed matrix:\n",
            "tensor([[1, 4],\n",
            "        [2, 5],\n",
            "        [3, 6]])\n",
            "tensor([[1, 4],\n",
            "        [2, 5],\n",
            "        [3, 6]])\n"
          ]
        }
      ],
      "source": [
        "x = torch.tensor([[1, 2, 3], [4, 5, 6]])\n",
        "print('Original matrix:')\n",
        "print(x)\n",
        "print('\\nTransposing with .view() DOES NOT WORK!')\n",
        "print(x.view(3, 2))\n",
        "print('\\nTransposed matrix:')\n",
        "print(torch.t(x))\n",
        "print(x.t())"
      ]
    },
    {
      "cell_type": "markdown",
      "metadata": {
        "id": "0gVm4fx1nkZS"
      },
      "source": [
        "For tensors with more than two dimensions, we can use the function [`torch.transpose()`](https://pytorch.org/docs/stable/generated/torch.transpose.html#torch.transpose) to swap arbitrary dimensions, or the [`.permute()`](https://pytorch.org/docs/stable/generated/torch.Tensor.permute.html?highlight=permute#torch.Tensor.permute) method to arbitrarily permute dimensions:"
      ]
    },
    {
      "cell_type": "code",
      "execution_count": null,
      "metadata": {
        "id": "XWdjU7n6nkZS",
        "colab": {
          "base_uri": "https://localhost:8080/"
        },
        "outputId": "738e5126-6fb7-43ba-d12c-b18d2c488aaa"
      },
      "outputs": [
        {
          "output_type": "stream",
          "name": "stdout",
          "text": [
            "Original tensor:\n",
            "tensor([[[ 1,  2,  3,  4],\n",
            "         [ 5,  6,  7,  8],\n",
            "         [ 9, 10, 11, 12]],\n",
            "\n",
            "        [[13, 14, 15, 16],\n",
            "         [17, 18, 19, 20],\n",
            "         [21, 22, 23, 24]]])\n",
            "shape: torch.Size([2, 3, 4])\n",
            "\n",
            "Swap axes 1 and 2:\n",
            "tensor([[[ 1,  5,  9],\n",
            "         [ 2,  6, 10],\n",
            "         [ 3,  7, 11],\n",
            "         [ 4,  8, 12]],\n",
            "\n",
            "        [[13, 17, 21],\n",
            "         [14, 18, 22],\n",
            "         [15, 19, 23],\n",
            "         [16, 20, 24]]])\n",
            "torch.Size([2, 4, 3])\n",
            "\n",
            "Permute axes\n",
            "tensor([[[ 1, 13],\n",
            "         [ 2, 14],\n",
            "         [ 3, 15],\n",
            "         [ 4, 16]],\n",
            "\n",
            "        [[ 5, 17],\n",
            "         [ 6, 18],\n",
            "         [ 7, 19],\n",
            "         [ 8, 20]],\n",
            "\n",
            "        [[ 9, 21],\n",
            "         [10, 22],\n",
            "         [11, 23],\n",
            "         [12, 24]]])\n",
            "shape: torch.Size([3, 4, 2])\n"
          ]
        }
      ],
      "source": [
        "# Create a tensor of shape (2, 3, 4)\n",
        "x0 = torch.tensor([\n",
        "     [[1,  2,  3,  4],\n",
        "      [5,  6,  7,  8],\n",
        "      [9, 10, 11, 12]],\n",
        "     [[13, 14, 15, 16],\n",
        "      [17, 18, 19, 20],\n",
        "      [21, 22, 23, 24]]])\n",
        "print('Original tensor:')\n",
        "print(x0)\n",
        "print('shape:', x0.shape)\n",
        "\n",
        "# Swap axes 1 and 2; shape is (2, 4, 3)\n",
        "x1 = x0.transpose(1, 2)\n",
        "print('\\nSwap axes 1 and 2:')\n",
        "print(x1)\n",
        "print(x1.shape)\n",
        "\n",
        "# Permute axes; the argument (1, 2, 0) means:\n",
        "# - Make the old dimension 1 appear at dimension 0;\n",
        "# - Make the old dimension 2 appear at dimension 1;\n",
        "# - Make the old dimension 0 appear at dimension 2\n",
        "# This results in a tensor of shape (3, 4, 2)\n",
        "x2 = x0.permute(1, 2, 0)\n",
        "print('\\nPermute axes')\n",
        "print(x2)\n",
        "print('shape:', x2.shape)"
      ]
    },
    {
      "cell_type": "markdown",
      "metadata": {
        "id": "f9wG23uBnkZS"
      },
      "source": [
        "### Contiguous tensors"
      ]
    },
    {
      "cell_type": "markdown",
      "metadata": {
        "id": "vTSF3ex9nkZS"
      },
      "source": [
        "Some combinations of reshape operations will fail with cryptic errors. The exact reasons for this have to do with the way that tensors and views of tensors are implemented, and are beyond the scope of this assignment. However if you're curious, [this blog post by Edward Yang](http://blog.ezyang.com/2019/05/pytorch-internals/) gives a clear explanation of the problem.\n",
        "\n",
        "What you need to know is that you can typically overcome these sorts of errors by either calling [`.contiguous()`](https://pytorch.org/docs/stable/generated/torch.Tensor.contiguous.html?highlight=contiguous#torch.Tensor.contiguous) before `.view()`, or using [`.reshape()`](https://pytorch.org/docs/stable/generated/torch.Tensor.reshape.html?highlight=reshape#torch.Tensor.reshape) instead of `.view()`:"
      ]
    },
    {
      "cell_type": "code",
      "execution_count": null,
      "metadata": {
        "id": "GXTIw6GSnkZS",
        "colab": {
          "base_uri": "https://localhost:8080/"
        },
        "outputId": "f18a233b-33e9-4c42-ebf0-7bf2c4c4c55f"
      },
      "outputs": [
        {
          "output_type": "stream",
          "name": "stdout",
          "text": [
            "<class 'RuntimeError'> view size is not compatible with input tensor's size and stride (at least one dimension spans across two contiguous subspaces). Use .reshape(...) instead.\n",
            "x1 shape: torch.Size([8, 3])\n",
            "x2 shape: torch.Size([8, 3])\n"
          ]
        }
      ],
      "source": [
        "x0 = torch.randn(2, 3, 4)\n",
        "\n",
        "try:\n",
        "  # This sequence of reshape operations will crash\n",
        "  x1 = x0.transpose(1, 2).view(8, 3)\n",
        "except RuntimeError as e:\n",
        "  print(type(e), e)\n",
        "  \n",
        "# We can solve the problem using either .contiguous() or .reshape()\n",
        "x1 = x0.transpose(1, 2).contiguous().view(8, 3)\n",
        "x2 = x0.transpose(1, 2).reshape(8, 3)\n",
        "print('x1 shape:', x1.shape)\n",
        "print('x2 shape:', x2.shape)"
      ]
    },
    {
      "cell_type": "markdown",
      "metadata": {
        "id": "5ZM31OiznkZT"
      },
      "source": [
        "Your turn: Given the 1-dimensional input tensor `x0` containing the numbers 0 through 23 in order, apply a sequence of reshape operations to `x0` to create the following tensor:\n",
        "\n",
        "```\n",
        "x1 = tensor([[ 0,  1,  2,  3, 12, 13, 14, 15],\n",
        "             [ 4,  5,  6,  7, 16, 17, 18, 19],\n",
        "             [ 8,  9, 10, 11, 20, 21, 22, 23]])\n",
        "```\n",
        "\n",
        "Hint: You will need to create an intermediate tensor of order 3."
      ]
    },
    {
      "cell_type": "code",
      "execution_count": null,
      "metadata": {
        "deletable": false,
        "editable": false,
        "nbgrader": {
          "cell_type": "code",
          "checksum": "9913047fcbaf64bad087b71df2f9b5e6",
          "grade": false,
          "grade_id": "cell-bf89953bbc16a196",
          "locked": true,
          "schema_version": 3,
          "solution": false,
          "task": false
        },
        "id": "UQ2WrMIinkZT",
        "colab": {
          "base_uri": "https://localhost:8080/"
        },
        "outputId": "2cb4acc8-0bca-489c-b8cb-acc265cb1697"
      },
      "outputs": [
        {
          "output_type": "stream",
          "name": "stdout",
          "text": [
            "Here is x0:\n",
            "tensor([ 0,  1,  2,  3,  4,  5,  6,  7,  8,  9, 10, 11, 12, 13, 14, 15, 16, 17,\n",
            "        18, 19, 20, 21, 22, 23])\n"
          ]
        }
      ],
      "source": [
        "x0 = torch.arange(24)\n",
        "print('Here is x0:')\n",
        "print(x0)\n",
        "\n",
        "x1 = None"
      ]
    },
    {
      "cell_type": "code",
      "execution_count": null,
      "metadata": {
        "deletable": false,
        "nbgrader": {
          "cell_type": "code",
          "checksum": "71b968c8094d82f0a960547a8fe20185",
          "grade": true,
          "grade_id": "cell-0d496530f1f65b0c",
          "locked": false,
          "points": 0,
          "schema_version": 3,
          "solution": true,
          "task": false
        },
        "id": "vJpx8myMnkZT"
      },
      "outputs": [],
      "source": [
        "##############################################################################\n",
        "# TODO: Use reshape operations to create x1 from x0.                         #\n",
        "##############################################################################\n",
        "# Replace \"pass\" statement with your code\n",
        "x1 = torch.zeros(3, 8, dtype=int)\n",
        "x0 = x0.reshape(6, 4)\n",
        "x1[:, 0:4] = x0[0:3,:]\n",
        "x1[:, 4:8] = x0[3:6,:]\n",
        "# END OF YOUR CODE"
      ]
    },
    {
      "cell_type": "code",
      "execution_count": null,
      "metadata": {
        "deletable": false,
        "editable": false,
        "nbgrader": {
          "cell_type": "code",
          "checksum": "1a2c828f3daa2c64d3c4665aa58fc19f",
          "grade": true,
          "grade_id": "cell-c3de561c2e8ee685",
          "locked": true,
          "points": 3,
          "schema_version": 3,
          "solution": false,
          "task": false
        },
        "id": "ynfJP8AvnkZT",
        "colab": {
          "base_uri": "https://localhost:8080/"
        },
        "outputId": "4a932dc7-2b9c-472a-9b6e-b6d290da6bf3"
      },
      "outputs": [
        {
          "output_type": "stream",
          "name": "stdout",
          "text": [
            "Here is x1:\n",
            "tensor([[ 0,  1,  2,  3, 12, 13, 14, 15],\n",
            "        [ 4,  5,  6,  7, 16, 17, 18, 19],\n",
            "        [ 8,  9, 10, 11, 20, 21, 22, 23]])\n"
          ]
        }
      ],
      "source": [
        "print('Here is x1:')\n",
        "print(x1)"
      ]
    },
    {
      "cell_type": "markdown",
      "metadata": {
        "id": "6dVWsrConkZT"
      },
      "source": [
        "## Tensor Operations"
      ]
    },
    {
      "cell_type": "markdown",
      "metadata": {
        "id": "T4tp0CPVnkZT"
      },
      "source": [
        "### Elementwise operations"
      ]
    },
    {
      "cell_type": "markdown",
      "metadata": {
        "id": "RyMrXtJVnkZU"
      },
      "source": [
        "Basic mathematical functions operate elementwise on tensors, and are available as operator overloads, as functions in the `torch` module, and as instance methods on tensor objects; all produce the same results:"
      ]
    },
    {
      "cell_type": "code",
      "execution_count": null,
      "metadata": {
        "id": "goGyNJqXnkZU",
        "colab": {
          "base_uri": "https://localhost:8080/"
        },
        "outputId": "e717d3ef-ff59-46ff-bc67-a34c347d8522"
      },
      "outputs": [
        {
          "output_type": "stream",
          "name": "stdout",
          "text": [
            "Elementwise sum:\n",
            "tensor([[ 6.,  8., 10., 12.]])\n",
            "tensor([[ 6.,  8., 10., 12.]])\n",
            "tensor([[ 6.,  8., 10., 12.]])\n",
            "\n",
            "Elementwise difference:\n",
            "tensor([[-4., -4., -4., -4.]])\n",
            "tensor([[-4., -4., -4., -4.]])\n",
            "tensor([[-4., -4., -4., -4.]])\n",
            "\n",
            "Elementwise product:\n",
            "tensor([[ 5., 12., 21., 32.]])\n",
            "tensor([[ 5., 12., 21., 32.]])\n",
            "tensor([[ 5., 12., 21., 32.]])\n",
            "\n",
            "Elementwise division\n",
            "tensor([[0.2000, 0.3333, 0.4286, 0.5000]])\n",
            "tensor([[0.2000, 0.3333, 0.4286, 0.5000]])\n",
            "tensor([[0.2000, 0.3333, 0.4286, 0.5000]])\n",
            "\n",
            "Elementwise power\n",
            "tensor([[1.0000e+00, 6.4000e+01, 2.1870e+03, 6.5536e+04]])\n",
            "tensor([[1.0000e+00, 6.4000e+01, 2.1870e+03, 6.5536e+04]])\n",
            "tensor([[1.0000e+00, 6.4000e+01, 2.1870e+03, 6.5536e+04]])\n"
          ]
        }
      ],
      "source": [
        "x = torch.tensor([[1, 2, 3, 4]], dtype=torch.float32)\n",
        "y = torch.tensor([[5, 6, 7, 8]], dtype=torch.float32)\n",
        "\n",
        "# Elementwise sum; all give the same result\n",
        "print('Elementwise sum:')\n",
        "print(x + y)\n",
        "print(torch.add(x, y))\n",
        "print(x.add(y))\n",
        "\n",
        "# Elementwise difference\n",
        "print('\\nElementwise difference:')\n",
        "print(x - y)\n",
        "print(torch.sub(x, y))\n",
        "print(x.sub(y))\n",
        "\n",
        "# Elementwise product\n",
        "print('\\nElementwise product:')\n",
        "print(x * y)\n",
        "print(torch.mul(x, y))\n",
        "print(x.mul(y))\n",
        "\n",
        "# Elementwise division\n",
        "print('\\nElementwise division')\n",
        "print(x / y)\n",
        "print(torch.div(x, y))\n",
        "print(x.div(y))\n",
        "\n",
        "# Elementwise power\n",
        "print('\\nElementwise power')\n",
        "print(x ** y)\n",
        "print(torch.pow(x, y))\n",
        "print(x.pow(y))"
      ]
    },
    {
      "cell_type": "markdown",
      "metadata": {
        "id": "JuA5uCZAnkZU"
      },
      "source": [
        "PyTorch also provides many standard mathematical functions; these are available both as functions in the `torch` module and as instance methods on tensors.\n",
        "\n",
        "You can find a full list of all available mathematical functions in the [documentation](https://pytorch.org/docs/stable/torch.html#pointwise-ops); many functions in the `torch` module have corresponding instance methods [on tensor objects](https://pytorch.org/docs/stable/tensors.html#tensor-class-reference):"
      ]
    },
    {
      "cell_type": "code",
      "execution_count": null,
      "metadata": {
        "id": "ce1MhQJynkZU",
        "colab": {
          "base_uri": "https://localhost:8080/"
        },
        "outputId": "4c564af5-ec67-4e0a-f25d-a56cbe3a4463"
      },
      "outputs": [
        {
          "output_type": "stream",
          "name": "stdout",
          "text": [
            "Square root:\n",
            "tensor([[1.0000, 1.4142, 1.7321, 2.0000]])\n",
            "tensor([[1.0000, 1.4142, 1.7321, 2.0000]])\n",
            "\n",
            "Trig functions:\n",
            "tensor([[ 0.8415,  0.9093,  0.1411, -0.7568]])\n",
            "tensor([[ 0.8415,  0.9093,  0.1411, -0.7568]])\n",
            "tensor([[ 0.5403, -0.4161, -0.9900, -0.6536]])\n",
            "tensor([[ 0.5403, -0.4161, -0.9900, -0.6536]])\n"
          ]
        }
      ],
      "source": [
        "x = torch.tensor([[1, 2, 3, 4]], dtype=torch.float32)\n",
        "\n",
        "print('Square root:')\n",
        "print(torch.sqrt(x))\n",
        "print(x.sqrt())\n",
        "\n",
        "print('\\nTrig functions:')\n",
        "print(torch.sin(x))\n",
        "print(x.sin())\n",
        "print(torch.cos(x))\n",
        "print(x.cos())"
      ]
    },
    {
      "cell_type": "markdown",
      "metadata": {
        "id": "psnGI0rqnkZU"
      },
      "source": [
        "### Reduction operations"
      ]
    },
    {
      "cell_type": "markdown",
      "metadata": {
        "id": "gm-5HsTKnkZU"
      },
      "source": [
        "So far we've seen basic arithmetic operations on tensors that operate elementwise. We may sometimes want to perform operations that aggregate over part or all of a tensor, such as a summation; these are called **reduction** operations.\n",
        "\n",
        "Like the elementwise operations above, most reduction operations are available both as functions in the `torch` module and as instance methods on tensor objects.\n",
        "\n",
        "The simplest reduction operation is summation. We can use the [`.sum()`](https://pytorch.org/docs/stable/generated/torch.sum.html#torch.sum) function to reduce a tensor. We can also specify one or several dimensions along which to reduce using the `dim` argument:"
      ]
    },
    {
      "cell_type": "code",
      "execution_count": null,
      "metadata": {
        "id": "pVNpijc1nkZV",
        "colab": {
          "base_uri": "https://localhost:8080/"
        },
        "outputId": "fd47e55a-7524-469c-cec2-f9ce54a9d03b"
      },
      "outputs": [
        {
          "output_type": "stream",
          "name": "stdout",
          "text": [
            "Original tensor:\n",
            "tensor([[1., 2., 3.],\n",
            "        [4., 5., 6.]])\n",
            "\n",
            "Sum over entire tensor:\n",
            "tensor(21.)\n",
            "tensor(21.)\n",
            "\n",
            "Sum of each row:\n",
            "tensor([5., 7., 9.])\n",
            "tensor([5., 7., 9.])\n",
            "\n",
            "Sum of each column:\n",
            "tensor([ 6., 15.])\n",
            "tensor([ 6., 15.])\n"
          ]
        }
      ],
      "source": [
        "x = torch.tensor([[1, 2, 3], \n",
        "                  [4, 5, 6]], dtype=torch.float32)\n",
        "print('Original tensor:')\n",
        "print(x)\n",
        "\n",
        "print('\\nSum over entire tensor:')\n",
        "print(torch.sum(x))\n",
        "print(x.sum())\n",
        "\n",
        "# Sum over each row\n",
        "print('\\nSum of each row:')\n",
        "print(torch.sum(x, dim=0))\n",
        "print(x.sum(dim=0))\n",
        "\n",
        "# Sum over each column\n",
        "print('\\nSum of each column:')\n",
        "print(torch.sum(x, dim=1))\n",
        "print(x.sum(dim=1))"
      ]
    },
    {
      "cell_type": "markdown",
      "metadata": {
        "id": "CTLyfOcFnkZV"
      },
      "source": [
        "Other useful reduction operations include [`.mean()`](https://pytorch.org/docs/stable/generated/torch.mean.html#torch.mean), [`.min()`](https://pytorch.org/docs/stable/generated/torch.min.html#torch.min), and [`.max()`](https://pytorch.org/docs/stable/generated/torch.max.html#torch.max). You can find a full list of all available reduction operations in the [documentation](https://pytorch.org/docs/stable/torch.html#reduction-ops).\n",
        "\n",
        "Some reduction operations return more than one value; for example `.min()` returns both the minimum value over the specified dimension, as well as the index where the minimum value occurs:"
      ]
    },
    {
      "cell_type": "code",
      "execution_count": null,
      "metadata": {
        "id": "0LXki3R5nkZV",
        "colab": {
          "base_uri": "https://localhost:8080/"
        },
        "outputId": "5d81b96e-68a7-4321-90ea-dfeca2f13a16"
      },
      "outputs": [
        {
          "output_type": "stream",
          "name": "stdout",
          "text": [
            "Original tensor:\n",
            "tensor([[2., 4., 3., 5.],\n",
            "        [3., 3., 5., 2.]]) torch.Size([2, 4])\n",
            "\n",
            "Overall minimum: tensor(2.)\n",
            "\n",
            "Minimum along each column:\n",
            "values: tensor([2., 3., 3., 2.])\n",
            "idxs: tensor([0, 1, 0, 1])\n",
            "\n",
            "Minimum along each row:\n",
            "values: tensor([2., 2.])\n",
            "idxs: tensor([0, 3])\n"
          ]
        }
      ],
      "source": [
        "x = torch.tensor([[2, 4, 3, 5], [3, 3, 5, 2]], dtype=torch.float32)\n",
        "print('Original tensor:')\n",
        "print(x, x.shape)\n",
        "\n",
        "# Finding the overall minimum only returns a single value\n",
        "print('\\nOverall minimum:', x.min())\n",
        "\n",
        "# Compute the minimum along each column; we get both the value and location:\n",
        "# The minimum of the first column is 2, and it appears at index 0;\n",
        "# the minimum of the second column is 3 and it appears at index 1; etc\n",
        "col_min_vals, col_min_idxs = x.min(dim=0)\n",
        "print('\\nMinimum along each column:')\n",
        "print('values:', col_min_vals)\n",
        "print('idxs:', col_min_idxs)\n",
        "\n",
        "# Compute the minimum along each row; we get both the value and the minimum\n",
        "row_min_vals, row_min_idxs = x.min(dim=1)\n",
        "print('\\nMinimum along each row:')\n",
        "print('values:', row_min_vals)\n",
        "print('idxs:', row_min_idxs)"
      ]
    },
    {
      "cell_type": "markdown",
      "metadata": {
        "id": "Gst-70HFnkZV"
      },
      "source": [
        "By default, reduction operations *reduce* the order of tensors: the dimension over which you perform the reduction will be removed from the shape of the output. If you pass `keepdim=True` to a reduction operation, the specified dimension will not be removed; the output tensor will instead have a shape of 1 in that dimension.\n",
        "\n",
        "When you are working with multidimensional tensors, thinking about rows and columns can become confusing; instead it's more useful to think about the shape that will result from each operation. For example:"
      ]
    },
    {
      "cell_type": "code",
      "execution_count": null,
      "metadata": {
        "id": "dmeCefDJnkZV",
        "colab": {
          "base_uri": "https://localhost:8080/"
        },
        "outputId": "a96b30be-ab88-411b-c4ab-7836f0561b72"
      },
      "outputs": [
        {
          "output_type": "stream",
          "name": "stdout",
          "text": [
            "torch.Size([128, 10, 3, 64, 64])\n",
            "torch.Size([128, 3, 64, 64])\n",
            "torch.Size([128, 3, 64])\n",
            "torch.Size([128, 1, 64])\n"
          ]
        }
      ],
      "source": [
        "# Create a tensor of shape (128, 10, 3, 64, 64)\n",
        "x = torch.randn(128, 10, 3, 64, 64)\n",
        "print(x.shape)\n",
        "\n",
        "# Take the mean over dimension 1; shape is now (128, 3, 64, 64)\n",
        "x = x.mean(dim=1)\n",
        "print(x.shape)\n",
        "\n",
        "# Take the sum over dimension 2; shape is now (128, 3, 64)\n",
        "x = x.sum(dim=2)\n",
        "print(x.shape)\n",
        "\n",
        "# Take the mean over dimension 1, but keep the dimension from being eliminated\n",
        "# by passing keepdim=True; shape is now (128, 1, 64)\n",
        "x = x.mean(dim=1, keepdim=True)\n",
        "print(x.shape)"
      ]
    },
    {
      "cell_type": "markdown",
      "metadata": {
        "id": "UEhpDudgnkZV"
      },
      "source": [
        "Your turn: Use reduction and indexing operations to implement a function that sets the minimum value along each row of a tensor to zero. Reshape operations may also be used.\n",
        "\n",
        "There will be partial credit if your code only works with order 2 tensors.\n",
        "\n",
        "Hint: [`torch.argmin()`](https://pytorch.org/docs/stable/generated/torch.argmin.html#torch.argmin)"
      ]
    },
    {
      "cell_type": "code",
      "execution_count": null,
      "metadata": {
        "deletable": false,
        "nbgrader": {
          "cell_type": "code",
          "checksum": "6f20fb677becb92363950da94fdad5e8",
          "grade": false,
          "grade_id": "cell-b59f7336d40bf911",
          "locked": false,
          "schema_version": 3,
          "solution": true,
          "task": false
        },
        "id": "r_rq7RfcnkZW"
      },
      "outputs": [],
      "source": [
        "def zero_row_min(x):\n",
        "  \"\"\"\n",
        "  Return a copy of x, where the minimum value along each row has been set to 0.\n",
        "\n",
        "  For example, if x is:\n",
        "  x = torch.tensor([\n",
        "        [10, 20, 30],\n",
        "        [ 2,  5,  1],\n",
        "      ])\n",
        "\n",
        "  Then y = zero_row_min(x) should be:\n",
        "  torch.tensor([\n",
        "    [0, 20, 30],\n",
        "    [2,  5,  0],\n",
        "  ])\n",
        "\n",
        "  If x is:\n",
        "  x = torch.tensor([\n",
        "        [[10, 20, 30],\n",
        "         [ 2,  5,  1]],\n",
        "        [[40, 20, 30],\n",
        "         [ 2,  5,  7]],\n",
        "      ])\n",
        "\n",
        "  Then y = zero_row_min(x) should be:\n",
        "  torch.tensor([\n",
        "    [[ 0, 20, 30],\n",
        "     [ 2,  5,  0]],\n",
        "    [[40,  0, 30],\n",
        "     [ 0,  5,  7]],\n",
        "  ])\n",
        "\n",
        "  Inputs:\n",
        "  - x: Tensor of order at least 2.\n",
        "\n",
        "  Returns:\n",
        "  - y: Tensor of the same order as x. It is a copy of x, except the minimum\n",
        "       value along each row is replaced with 0.\n",
        "  \"\"\"\n",
        "  y = x.clone()\n",
        "  ##############################################################################\n",
        "  # TODO: Complete the implementation of this function.                        #\n",
        "  ##############################################################################\n",
        "  # Replace \"pass\" statement with your code\n",
        "  min_indices = torch.argmin(x, dim=-1)\n",
        "  mask = torch.zeros_like(x)\n",
        "  mask.scatter_(-1, min_indices.unsqueeze(-1), 1)\n",
        "  y = x * (1 - mask)\n",
        "  # END OF YOUR CODE\n",
        "  return y"
      ]
    },
    {
      "cell_type": "code",
      "execution_count": null,
      "metadata": {
        "deletable": false,
        "editable": false,
        "nbgrader": {
          "cell_type": "code",
          "checksum": "304d1c2d59955e7adf12342e68b73b67",
          "grade": true,
          "grade_id": "cell-25dcd851e601e564",
          "locked": true,
          "points": 3,
          "schema_version": 3,
          "solution": false,
          "task": false
        },
        "id": "-TX-Vt6PnkZW",
        "colab": {
          "base_uri": "https://localhost:8080/"
        },
        "outputId": "d3861a45-9298-4994-915a-becc757a5ede"
      },
      "outputs": [
        {
          "output_type": "stream",
          "name": "stdout",
          "text": [
            "Here is x0:\n",
            "tensor([[10, 20, 30],\n",
            "        [ 2,  5,  1]])\n",
            "Here is y0:\n",
            "tensor([[ 0, 20, 30],\n",
            "        [ 2,  5,  0]])\n"
          ]
        }
      ],
      "source": [
        "x0 = torch.tensor([\n",
        "  [10, 20, 30],\n",
        "  [ 2,  5,  1]\n",
        "])\n",
        "print('Here is x0:')\n",
        "print(x0)\n",
        "y0 = zero_row_min(x0)\n",
        "print('Here is y0:')\n",
        "print(y0)\n",
        "assert y0.tolist() == [\n",
        "  [0, 20, 30],\n",
        "  [2,  5,  0]\n",
        "], 'y0 correct'"
      ]
    },
    {
      "cell_type": "code",
      "execution_count": null,
      "metadata": {
        "deletable": false,
        "editable": false,
        "nbgrader": {
          "cell_type": "code",
          "checksum": "3b42bd71c11c81e30d0b90652f4d427e",
          "grade": true,
          "grade_id": "cell-47bab94164afaf35",
          "locked": true,
          "points": 2,
          "schema_version": 3,
          "solution": false,
          "task": false
        },
        "id": "I95m9plonkZW",
        "colab": {
          "base_uri": "https://localhost:8080/"
        },
        "outputId": "3c13c50e-9881-4721-97fc-7e79c4d9f430"
      },
      "outputs": [
        {
          "output_type": "stream",
          "name": "stdout",
          "text": [
            "Here is x1:\n",
            "tensor([[[10, 20, 30],\n",
            "         [ 2,  5,  1]],\n",
            "\n",
            "        [[40, 20, 30],\n",
            "         [ 2,  5,  7]]])\n",
            "Here is y1:\n",
            "tensor([[[ 0, 20, 30],\n",
            "         [ 2,  5,  0]],\n",
            "\n",
            "        [[40,  0, 30],\n",
            "         [ 0,  5,  7]]])\n"
          ]
        }
      ],
      "source": [
        "x1 = torch.tensor([\n",
        "  [[10, 20, 30],\n",
        "   [ 2,  5,  1]],\n",
        "  [[40, 20, 30],\n",
        "   [ 2,  5,  7]]\n",
        "])\n",
        "print('Here is x1:')\n",
        "print(x1)\n",
        "y1 = zero_row_min(x1)\n",
        "print('Here is y1:')\n",
        "print(y1)\n",
        "assert y1.tolist() == [\n",
        "  [[0, 20, 30],\n",
        "   [2,  5,  0]],\n",
        "  [[40, 0, 30],\n",
        "   [ 0, 5,  7]]\n",
        "], 'y1 correct'"
      ]
    },
    {
      "cell_type": "code",
      "execution_count": null,
      "metadata": {
        "deletable": false,
        "editable": false,
        "nbgrader": {
          "cell_type": "code",
          "checksum": "58b696229eca0dd831fa5d8a7cbd24da",
          "grade": true,
          "grade_id": "cell-e6f266f121af199b",
          "locked": true,
          "points": 2,
          "schema_version": 3,
          "solution": false,
          "task": false
        },
        "id": "96zJXKaSnkZW",
        "colab": {
          "base_uri": "https://localhost:8080/"
        },
        "outputId": "c16b0f1c-add6-47e1-b18e-402e2612254e"
      },
      "outputs": [
        {
          "output_type": "stream",
          "name": "stdout",
          "text": [
            "Here is x2:\n",
            "tensor([[[[ 10,  20,  30],\n",
            "          [  2,   5,   1]],\n",
            "\n",
            "         [[ 40,  20,  30],\n",
            "          [  2,   5,   7]]],\n",
            "\n",
            "\n",
            "        [[[ 10, -20,  30],\n",
            "          [ -2,   5,   1]],\n",
            "\n",
            "         [[-40,  20,  30],\n",
            "          [  2,  -5,   7]]]])\n",
            "Here is y2:\n",
            "tensor([[[[ 0, 20, 30],\n",
            "          [ 2,  5,  0]],\n",
            "\n",
            "         [[40,  0, 30],\n",
            "          [ 0,  5,  7]]],\n",
            "\n",
            "\n",
            "        [[[10,  0, 30],\n",
            "          [ 0,  5,  1]],\n",
            "\n",
            "         [[ 0, 20, 30],\n",
            "          [ 2,  0,  7]]]])\n"
          ]
        }
      ],
      "source": [
        "x2 = torch.tensor([\n",
        "  [[[ 10,  20,  30],\n",
        "    [  2,   5,   1]],\n",
        "   [[ 40,  20,  30],\n",
        "    [  2,   5,   7]]],\n",
        "  [[[ 10, -20,  30],\n",
        "    [ -2,   5,   1]],\n",
        "   [[-40,  20,  30],\n",
        "    [  2,  -5,   7]]]\n",
        "])\n",
        "print('Here is x2:')\n",
        "print(x2)\n",
        "y2 = zero_row_min(x2)\n",
        "print('Here is y2:')\n",
        "print(y2)\n",
        "assert y2.tolist() == [\n",
        "  [[[ 0, 20, 30],\n",
        "    [ 2,  5,  0]],\n",
        "   [[40,  0, 30],\n",
        "    [ 0,  5,  7]]],\n",
        "  [[[10,  0, 30],\n",
        "    [ 0,  5,  1]],\n",
        "   [[ 0, 20, 30],\n",
        "    [ 2,  0,  7]]]\n",
        "], 'y2 correct'"
      ]
    },
    {
      "cell_type": "markdown",
      "metadata": {
        "id": "J5PsteMVnkZX"
      },
      "source": [
        "### Matrix operations"
      ]
    },
    {
      "cell_type": "markdown",
      "metadata": {
        "id": "_VN_Fp8snkZX"
      },
      "source": [
        "Note that `*` is elementwise multiplication, not matrix multiplication. PyTorch provides a number of linear algebra functions that compute different types of vector and matrix products. The most commonly used are:\n",
        "\n",
        "- [`torch.dot()`](https://pytorch.org/docs/stable/generated/torch.dot.html#torch.dot): Computes inner product of vectors.\n",
        "- [`torch.mm()`](https://pytorch.org/docs/stable/generated/torch.mm.html#torch.mm): Computes matrix-matrix products.\n",
        "- [`torch.mv()`](https://pytorch.org/docs/stable/generated/torch.mv.html#torch.mv): Computes matrix-vector products.\n",
        "- [`torch.addmm()`](https://pytorch.org/docs/stable/generated/torch.addmm.html#torch.addmm) / [`torch.addmv()`](https://pytorch.org/docs/stable/generated/torch.addmv.html#torch.addmv): Computes matrix-matrix and matrix-vector multiplications plus a bias.\n",
        "- [`torch.bmm()`](https://pytorch.org/docs/stable/generated/torch.bmm.html#torch.bmm) / [`torch.baddbmm()`](https://pytorch.org/docs/stable/generated/torch.baddbmm.html?highlight=baddbmm#torch.baddbmm): Batched versions of `torch.mm()` and `torch.addmm()`, respectively.\n",
        "- [`torch.matmul()`](https://pytorch.org/docs/stable/generated/torch.matmul.html#torch.matmul): General matrix product that performs different operations depending on the order of the inputs.\n",
        "\n",
        "You can find a full list of the available linear algebra operators in the [documentation](https://pytorch.org/docs/stable/torch.html#blas-and-lapack-operations).\n",
        "\n",
        "Here is an example of using `torch.dot()` to compute inner products. Like the other mathematical operators we've seen, most linear algebra operators are available both as functions in the `torch` module and as instance methods of tensors:"
      ]
    },
    {
      "cell_type": "code",
      "execution_count": null,
      "metadata": {
        "id": "1JIp0osqnkZX",
        "colab": {
          "base_uri": "https://localhost:8080/"
        },
        "outputId": "c548eb25-0c04-4e34-9907-f3d1b1417de9"
      },
      "outputs": [
        {
          "output_type": "stream",
          "name": "stdout",
          "text": [
            "Dot products:\n",
            "tensor(219.)\n",
            "tensor(219.)\n",
            "1D tensors expected, but got 2D and 2D tensors\n",
            "\n",
            "Matrix-matrix product:\n",
            "tensor([[19., 22.],\n",
            "        [43., 50.]])\n",
            "tensor([[19., 22.],\n",
            "        [43., 50.]])\n"
          ]
        }
      ],
      "source": [
        "v = torch.tensor([9, 10], dtype=torch.float32)\n",
        "w = torch.tensor([11, 12], dtype=torch.float32)\n",
        "\n",
        "# Inner product of vectors\n",
        "print('Dot products:')\n",
        "print(torch.dot(v, w))\n",
        "print(v.dot(w))\n",
        "\n",
        "# .dot() only works for vectors -- it will give an error for tensors of order > 1\n",
        "x = torch.tensor([[1, 2], [3, 4]], dtype=torch.float32)\n",
        "y = torch.tensor([[5, 6], [7, 8]], dtype=torch.float32)\n",
        "try:\n",
        "  print(x.dot(y))\n",
        "except RuntimeError as e:\n",
        "  print(e)\n",
        "  \n",
        "# Instead we use .mm() for matrix-matrix products:\n",
        "print('\\nMatrix-matrix product:')\n",
        "print(torch.mm(x, y))\n",
        "print(x.mm(y))"
      ]
    },
    {
      "cell_type": "markdown",
      "metadata": {
        "id": "joTGM9C7nkZX"
      },
      "source": [
        "With all the different linear algebra operators that PyTorch provides, there is usually more than one way to compute something. For example, to compute matrix-vector products we can use `torch.mv()`; we can reshape the vector to have order 2 and use `torch.mm()`; or we can use `torch.matmul()`. All give the same results, but the outputs might have different orders:"
      ]
    },
    {
      "cell_type": "code",
      "execution_count": null,
      "metadata": {
        "id": "nhCYZpVknkZX",
        "colab": {
          "base_uri": "https://localhost:8080/"
        },
        "outputId": "355638c0-a688-44ef-d986-efddc895c517"
      },
      "outputs": [
        {
          "output_type": "stream",
          "name": "stdout",
          "text": [
            "Here is x (order 2):\n",
            "tensor([[1., 2.],\n",
            "        [3., 4.]])\n",
            "\n",
            "Here is v (order 1):\n",
            "tensor([ 9., 10.])\n",
            "\n",
            "Matrix-vector product with torch.mv() (order 1 output):\n",
            "tensor([29., 67.])\n",
            "tensor([29., 67.])\n",
            "\n",
            "Matrix-vector product with torch.mm() (order 2 output):\n",
            "tensor([[29.],\n",
            "        [67.]])\n",
            "tensor([[29.],\n",
            "        [67.]])\n",
            "\n",
            "Matrix-vector product with torch.matmul() (order 1 output):\n",
            "tensor([29., 67.])\n",
            "tensor([29., 67.])\n"
          ]
        }
      ],
      "source": [
        "print('Here is x (order 2):')\n",
        "print(x)\n",
        "print('\\nHere is v (order 1):')\n",
        "print(v)\n",
        "\n",
        "# Matrix-vector multiply with torch.mv() produces an order 1 output\n",
        "print('\\nMatrix-vector product with torch.mv() (order 1 output):')\n",
        "print(torch.mv(x, v))\n",
        "print(x.mv(v))\n",
        "\n",
        "# We can reshape the vector to have order 2 and use torch.mm() to perform\n",
        "# matrix-vector products, but the result will have order 2\n",
        "print('\\nMatrix-vector product with torch.mm() (order 2 output):')\n",
        "print(torch.mm(x, v.view(2, 1)))\n",
        "print(x.mm(v.view(2, 1)))\n",
        "\n",
        "print('\\nMatrix-vector product with torch.matmul() (order 1 output):')\n",
        "print(torch.matmul(x, v))\n",
        "print(x.matmul(v))"
      ]
    },
    {
      "cell_type": "markdown",
      "metadata": {
        "id": "lF0k9p8JnkZX"
      },
      "source": [
        "Your turn: Use [`torch.bmm()`](https://pytorch.org/docs/1.1.0/torch.html#torch.bmm) to perform a batched matrix multiply.\n",
        "\n",
        "\n"
      ]
    },
    {
      "cell_type": "code",
      "execution_count": null,
      "metadata": {
        "deletable": false,
        "editable": false,
        "nbgrader": {
          "cell_type": "code",
          "checksum": "0834ffd2390b3189e244388a1da83708",
          "grade": false,
          "grade_id": "cell-c074d305ad866298",
          "locked": true,
          "schema_version": 3,
          "solution": false,
          "task": false
        },
        "id": "DdgHVCFonkZY",
        "colab": {
          "base_uri": "https://localhost:8080/"
        },
        "outputId": "c5b046bf-66b3-421e-ee84-b6cae203183c"
      },
      "outputs": [
        {
          "output_type": "stream",
          "name": "stdout",
          "text": [
            "Here is the result of batched matrix multiply with a loop:\n",
            "tensor([[[0.5550, 0.8514, 0.7259, 0.3675],\n",
            "         [0.9779, 1.9219, 1.5592, 1.0161]],\n",
            "\n",
            "        [[0.7893, 1.7845, 1.0822, 0.9000],\n",
            "         [0.6118, 1.3766, 0.6704, 0.8305]],\n",
            "\n",
            "        [[2.1691, 2.3272, 1.5655, 1.1355],\n",
            "         [1.6760, 2.1958, 1.3439, 1.3472]]])\n"
          ]
        }
      ],
      "source": [
        "B, N, M, P = 3, 2, 5, 4\n",
        "x = torch.rand(B, N, M)  # Random tensor of shape (B, N, M)\n",
        "y = torch.rand(B, M, P)  # Random tensor of shape (B, M, P)\n",
        "\n",
        "# We can use a for loop to (inefficiently) compute a batch of matrix multiply\n",
        "# operations\n",
        "z1 = torch.empty(B, N, P)  # Empty tensor of shape (B, N, P)\n",
        "for i in range(B):\n",
        "  z1[i] = x[i].mm(y[i])\n",
        "print('Here is the result of batched matrix multiply with a loop:')\n",
        "print(z1)"
      ]
    },
    {
      "cell_type": "code",
      "execution_count": null,
      "metadata": {
        "deletable": false,
        "nbgrader": {
          "cell_type": "code",
          "checksum": "f9063760dd183ce118bf85f62661d1ea",
          "grade": false,
          "grade_id": "cell-3eff6e900ec169fe",
          "locked": false,
          "schema_version": 3,
          "solution": true,
          "task": false
        },
        "id": "55HrPY3KnkZY"
      },
      "outputs": [],
      "source": [
        "z2 = None\n",
        "##############################################################################\n",
        "# TODO: Use torch.bmm() to compute a batched matrix multiply between x and   #\n",
        "# y; store the result in z2.                                                 #\n",
        "##############################################################################\n",
        "# Replace \"pass\" statement with your code\n",
        "z2 = torch.bmm(x, y)\n",
        "# END OF YOUR CODE"
      ]
    },
    {
      "cell_type": "code",
      "execution_count": null,
      "metadata": {
        "deletable": false,
        "editable": false,
        "nbgrader": {
          "cell_type": "code",
          "checksum": "34bc748d87f712186640a78af4a92cfb",
          "grade": true,
          "grade_id": "cell-bb56cd74af336c49",
          "locked": true,
          "points": 1,
          "schema_version": 3,
          "solution": false,
          "task": false
        },
        "id": "qGE99TMSnkZY",
        "colab": {
          "base_uri": "https://localhost:8080/"
        },
        "outputId": "46c132d2-12ef-4dc0-eae8-ff6e60b72be9"
      },
      "outputs": [
        {
          "output_type": "stream",
          "name": "stdout",
          "text": [
            "Here is the result of batched matrix multiply with torch.bmm():\n",
            "tensor([[[0.5550, 0.8514, 0.7259, 0.3675],\n",
            "         [0.9779, 1.9219, 1.5592, 1.0161]],\n",
            "\n",
            "        [[0.7893, 1.7845, 1.0822, 0.9000],\n",
            "         [0.6118, 1.3766, 0.6704, 0.8305]],\n",
            "\n",
            "        [[2.1691, 2.3272, 1.5655, 1.1355],\n",
            "         [1.6760, 2.1958, 1.3439, 1.3472]]])\n",
            "\n",
            "Difference: 2.384185791015625e-07\n"
          ]
        }
      ],
      "source": [
        "print('Here is the result of batched matrix multiply with torch.bmm():')\n",
        "print(z2)\n",
        "\n",
        "# The two may not return exactly the same result; different linear algebra\n",
        "# routines often return slightly different results due to the fact that\n",
        "# floating-point math is non-exact and non-associative.\n",
        "diff = (z1 - z2).abs().max().item()\n",
        "print('\\nDifference:', diff)\n",
        "assert diff < 1e-6, 'Difference within threshold'"
      ]
    },
    {
      "cell_type": "markdown",
      "metadata": {
        "id": "AF4DuvlFnkZY"
      },
      "source": [
        "## Broadcasting"
      ]
    },
    {
      "cell_type": "markdown",
      "metadata": {
        "id": "mY_MfHz2nkZY"
      },
      "source": [
        "Broadcasting is a powerful mechanism that allows PyTorch to work with arrays of different shapes when performing arithmetic operations. Frequently we have a smaller tensor and a larger tensor, and we want to use the smaller tensor multiple times to perform some operation on the larger tensor.\n",
        "\n",
        "For example, suppose that we want to add a constant vector to each row of a tensor. We could do it like this:\n"
      ]
    },
    {
      "cell_type": "code",
      "execution_count": null,
      "metadata": {
        "id": "Lk6XdtzJnkZZ",
        "colab": {
          "base_uri": "https://localhost:8080/"
        },
        "outputId": "bf6ae165-bf95-4817-a8b5-220751d86988"
      },
      "outputs": [
        {
          "output_type": "stream",
          "name": "stdout",
          "text": [
            "tensor([[ 2,  2,  4],\n",
            "        [ 5,  5,  7],\n",
            "        [ 8,  8, 10],\n",
            "        [11, 11, 13]])\n"
          ]
        }
      ],
      "source": [
        "# We will add the vector v to each row of the matrix x,\n",
        "# storing the result in the matrix y\n",
        "x = torch.tensor([[1, 2, 3], [4, 5, 6], [7, 8, 9], [10, 11, 12]])\n",
        "v = torch.tensor([1, 0, 1])\n",
        "y = torch.zeros_like(x)   # Create an empty matrix with the same shape as x\n",
        "\n",
        "# Add the vector v to each row of the matrix x with an explicit loop\n",
        "for i in range(4):\n",
        "    y[i, :] = x[i, :] + v\n",
        "\n",
        "print(y)"
      ]
    },
    {
      "cell_type": "markdown",
      "metadata": {
        "id": "E792-3U9nkZZ"
      },
      "source": [
        "This works; however when the tensor `x` is very large, computing an explicit loop in Python could be slow. Note that adding the vector `v` to each row of the tensor `x` is equivalent to forming a tensor `vv` by stacking multiple copies of `v` vertically, then performing elementwise summation of `x` and `vv`. We could implement this approach like this:\n"
      ]
    },
    {
      "cell_type": "code",
      "execution_count": null,
      "metadata": {
        "id": "cVFChnj7nkZZ",
        "colab": {
          "base_uri": "https://localhost:8080/"
        },
        "outputId": "4f882891-6ebf-4bf0-f892-c25d08e57715"
      },
      "outputs": [
        {
          "output_type": "stream",
          "name": "stdout",
          "text": [
            "tensor([[1, 0, 1],\n",
            "        [1, 0, 1],\n",
            "        [1, 0, 1],\n",
            "        [1, 0, 1]])\n"
          ]
        }
      ],
      "source": [
        "vv = v.repeat((4, 1))  # Stack 4 copies of v on top of each other\n",
        "print(vv)              # Prints \"[[1 0 1]\n",
        "                       #          [1 0 1]\n",
        "                       #          [1 0 1]\n",
        "                       #          [1 0 1]]\""
      ]
    },
    {
      "cell_type": "code",
      "execution_count": null,
      "metadata": {
        "id": "zok5ygmqnkZa",
        "colab": {
          "base_uri": "https://localhost:8080/"
        },
        "outputId": "fb8bc040-3a5d-4347-d611-08094c45156f"
      },
      "outputs": [
        {
          "output_type": "stream",
          "name": "stdout",
          "text": [
            "tensor([[ 2,  2,  4],\n",
            "        [ 5,  5,  7],\n",
            "        [ 8,  8, 10],\n",
            "        [11, 11, 13]])\n"
          ]
        }
      ],
      "source": [
        "y = x + vv  # Add x and vv elementwise\n",
        "print(y)"
      ]
    },
    {
      "cell_type": "markdown",
      "metadata": {
        "id": "5JAw4ejFnkZa"
      },
      "source": [
        "PyTorch broadcasting allows us to perform this computation without actually creating multiple copies of `v`. Consider this version, using broadcasting:"
      ]
    },
    {
      "cell_type": "code",
      "execution_count": null,
      "metadata": {
        "id": "MyTuJnzrnkZa",
        "colab": {
          "base_uri": "https://localhost:8080/"
        },
        "outputId": "b4a7ecf4-eaea-4b42-cef3-d429a2b4a766"
      },
      "outputs": [
        {
          "output_type": "stream",
          "name": "stdout",
          "text": [
            "tensor([[ 2,  2,  4],\n",
            "        [ 5,  5,  7],\n",
            "        [ 8,  8, 10],\n",
            "        [11, 11, 13]])\n"
          ]
        }
      ],
      "source": [
        "# We will add the vector v to each row of the matrix x,\n",
        "# storing the result in the matrix y\n",
        "x = torch.tensor([[1, 2, 3], [4, 5, 6], [7, 8, 9], [10, 11, 12]])\n",
        "v = torch.tensor([1, 0, 1])\n",
        "y = x + v  # Add v to each row of x using broadcasting\n",
        "print(y)"
      ]
    },
    {
      "cell_type": "markdown",
      "metadata": {
        "id": "rLcZ4g4dnkZa"
      },
      "source": [
        "Due to broadcasting, the line `y = x + v` works even though `x` has shape (4, 3) and `v` has shape (3,); it works as if `v` actually had shape (4, 3), where each row was a copy of `v`, and the sum was performed elementwise.\n",
        "\n",
        "Broadcasting two tensors together follows these rules:\n",
        "\n",
        "1.   If the tensors do not have the same order, prepend the shape of the lower order tensor with 1's until both shapes have the same length.\n",
        "2.   The two tensors are said to be *compatible* in a dimension if they have the same size in the dimension, or if one of the tensors has size 1 in that dimension.\n",
        "3.   The tensors can be broadcast together if they are compatible in all dimensions.\n",
        "4.   After broadcasting, each tensor behaves as if it had shape equal to the elementwise maximum of shapes of the two input tensors.\n",
        "5.   In any dimension where one tensor had size 1 and the other tensor had size greater than 1, the first tensor behaves as if it were copied along that dimension.\n",
        "\n",
        "If this explanation does not make sense, try reading the explanation from the [documentation](https://pytorch.org/docs/stable/notes/broadcasting.html).\n",
        "\n",
        "Not all functions support broadcasting. For example, [`torch.mm()`](https://pytorch.org/docs/stable/generated/torch.mm.html#torch.mm) does not support broadcasting, but [`torch.matmul()`](https://pytorch.org/docs/stable/generated/torch.matmul.html#torch.matmul) does.\n",
        "\n",
        "Broadcasting can let us easily implement many different operations. For example we can compute an outer product of vectors:"
      ]
    },
    {
      "cell_type": "code",
      "execution_count": null,
      "metadata": {
        "id": "TfOZtSqBnkZb",
        "colab": {
          "base_uri": "https://localhost:8080/"
        },
        "outputId": "bd2e5416-72f9-4ffd-bc42-6097a15e9fd9"
      },
      "outputs": [
        {
          "output_type": "stream",
          "name": "stdout",
          "text": [
            "tensor([[ 4,  5],\n",
            "        [ 8, 10],\n",
            "        [12, 15]])\n"
          ]
        }
      ],
      "source": [
        "# Compute outer product of vectors\n",
        "v = torch.tensor([1, 2, 3])  # v has shape (3,)\n",
        "w = torch.tensor([4, 5])     # w has shape (2,)\n",
        "# To compute an outer product, we first reshape v to be a column\n",
        "# vector of shape (3, 1); we can then broadcast it against w to yield\n",
        "# an output of shape (3, 2), which is the outer product of v and w:\n",
        "print(v.view(3, 1) * w)"
      ]
    },
    {
      "cell_type": "markdown",
      "metadata": {
        "id": "x--yCWcynkZb"
      },
      "source": [
        "We can add a vector to each row of a matrix:"
      ]
    },
    {
      "cell_type": "code",
      "execution_count": null,
      "metadata": {
        "id": "AMDWrzfYnkZc",
        "colab": {
          "base_uri": "https://localhost:8080/"
        },
        "outputId": "5538244d-38f7-4571-de79-3d6ab22734fc"
      },
      "outputs": [
        {
          "output_type": "stream",
          "name": "stdout",
          "text": [
            "Here is the matrix:\n",
            "tensor([[1, 2, 3],\n",
            "        [4, 5, 6]])\n",
            "\n",
            "Here is the vector:\n",
            "tensor([1, 2, 3])\n",
            "\n",
            "Add the vector to each row of the matrix:\n",
            "tensor([[2, 4, 6],\n",
            "        [5, 7, 9]])\n"
          ]
        }
      ],
      "source": [
        "x = torch.tensor([[1, 2, 3], [4, 5, 6]])  # x has shape (2, 3)\n",
        "v = torch.tensor([1, 2, 3])               # v has shape (3,)\n",
        "print('Here is the matrix:')\n",
        "print(x)\n",
        "print('\\nHere is the vector:')\n",
        "print(v)\n",
        "\n",
        "# x has shape (2, 3) and v has shape (3,) so they broadcast to (2, 3),\n",
        "# giving the following matrix:\n",
        "print('\\nAdd the vector to each row of the matrix:')\n",
        "print(x + v)"
      ]
    },
    {
      "cell_type": "markdown",
      "metadata": {
        "id": "e4dHT_mRnkZc"
      },
      "source": [
        "We can add a vector to each column of a matrix:"
      ]
    },
    {
      "cell_type": "code",
      "execution_count": null,
      "metadata": {
        "id": "eK_5W9lOnkZc",
        "colab": {
          "base_uri": "https://localhost:8080/"
        },
        "outputId": "35264ebe-6308-4fde-e939-1aa1c534ca54"
      },
      "outputs": [
        {
          "output_type": "stream",
          "name": "stdout",
          "text": [
            "Here is the matrix:\n",
            "tensor([[1, 2, 3],\n",
            "        [4, 5, 6]])\n",
            "\n",
            "Here is the vector:\n",
            "tensor([4, 5])\n",
            "\n",
            "Add the vector to each column of the matrix:\n",
            "tensor([[ 5,  6,  7],\n",
            "        [ 9, 10, 11]])\n",
            "tensor([[ 5,  6,  7],\n",
            "        [ 9, 10, 11]])\n"
          ]
        }
      ],
      "source": [
        "x = torch.tensor([[1, 2, 3], [4, 5, 6]])  # x has shape (2, 3)\n",
        "w = torch.tensor([4, 5])                  # w has shape (2,)\n",
        "print('Here is the matrix:')\n",
        "print(x)\n",
        "print('\\nHere is the vector:')\n",
        "print(w)\n",
        "\n",
        "# x has shape (2, 3) and w has shape (2,). We reshape w to (2, 1);\n",
        "# then when we add the two the result broadcasts to (2, 3):\n",
        "print('\\nAdd the vector to each column of the matrix:')\n",
        "print(x + w.view(-1, 1))\n",
        "\n",
        "# Another solution is the following:\n",
        "# 1. Transpose x so it has shape (3, 2)\n",
        "# 2. Since w has shape (2,), adding will broadcast to (3, 2)\n",
        "# 3. Transpose the result, resulting in a shape (2, 3)\n",
        "print((x.t() + w).t())"
      ]
    },
    {
      "cell_type": "markdown",
      "metadata": {
        "id": "HulxY6tWnkZc"
      },
      "source": [
        "Multiply a tensor by a set of constants:"
      ]
    },
    {
      "cell_type": "code",
      "execution_count": null,
      "metadata": {
        "id": "-7fb6hpOnkZc",
        "colab": {
          "base_uri": "https://localhost:8080/"
        },
        "outputId": "c7c175f2-b09b-4718-8a16-9cfab2100588"
      },
      "outputs": [
        {
          "output_type": "stream",
          "name": "stdout",
          "text": [
            "Here is the matrix:\n",
            "tensor([[1, 2, 3],\n",
            "        [4, 5, 6]])\n",
            "\n",
            "Here is the vector:\n",
            "tensor([  1,  10,  11, 100])\n",
            "\n",
            "Multiply x by a set of constants:\n",
            "tensor([[[  1,   2,   3],\n",
            "         [  4,   5,   6]],\n",
            "\n",
            "        [[ 10,  20,  30],\n",
            "         [ 40,  50,  60]],\n",
            "\n",
            "        [[ 11,  22,  33],\n",
            "         [ 44,  55,  66]],\n",
            "\n",
            "        [[100, 200, 300],\n",
            "         [400, 500, 600]]])\n"
          ]
        }
      ],
      "source": [
        "x = torch.tensor([[1, 2, 3], [4, 5, 6]])  # x has shape (2, 3)\n",
        "c = torch.tensor([1, 10, 11, 100])        # c has shape (4)\n",
        "print('Here is the matrix:')\n",
        "print(x)\n",
        "print('\\nHere is the vector:')\n",
        "print(c)\n",
        "\n",
        "# We do the following:\n",
        "# 1. Reshape c from (4,) to (4, 1, 1)\n",
        "# 2. x has shape (2, 3). Since they have different orders, when we multiply the\n",
        "#    two, x behaves as if its shape were (1, 2, 3)\n",
        "# 3. The result of the broadcast multiplication between tensors of shape\n",
        "#    (4, 1, 1) and (1, 2, 3) has shape (4, 2, 3)\n",
        "# 4. The result y has shape (4, 2, 3), and y[i] (shape (2, 3)) is equal to\n",
        "#    c[i] * x\n",
        "y = c.view(-1, 1, 1) * x\n",
        "print('\\nMultiply x by a set of constants:')\n",
        "print(y)"
      ]
    },
    {
      "cell_type": "markdown",
      "metadata": {
        "id": "cCWYFIUknkZd"
      },
      "source": [
        "Your turn: Write a function that normalizes the columns of a matrix. It should compute the mean and standard deviation of each column, then subtract the mean and divide by the standard deviation for each element in the column.\n",
        "\n",
        "Example:\n",
        "```\n",
        "x = [[ 0,  30,  600],\n",
        "     [ 1,  10,  200],\n",
        "     [-1,  20,  400]]\n",
        "```\n",
        "- The first column has mean 0 and std 1.\n",
        "- The second column has mean 20 and std 10.\n",
        "- The third column has mean 400 and std 200.\n",
        "\n",
        "After normalizing the columns, the result should be:\n",
        "```\n",
        "y = [[ 0,  1,  1],\n",
        "     [ 1, -1, -1],\n",
        "     [-1,  0,  0]]\n",
        "```"
      ]
    },
    {
      "cell_type": "code",
      "execution_count": null,
      "metadata": {
        "deletable": false,
        "nbgrader": {
          "cell_type": "code",
          "checksum": "a38a67a2297dfe895b4f50a3e7881c02",
          "grade": false,
          "grade_id": "cell-cc019815e8d036d2",
          "locked": false,
          "schema_version": 3,
          "solution": true,
          "task": false
        },
        "id": "BmCxv060nkZd"
      },
      "outputs": [],
      "source": [
        "def normalize_columns(x):\n",
        "  \"\"\"\n",
        "  Normalize the columns of a matrix by subtracting the mean and dividing by the\n",
        "  (unbiased) standard deviation.\n",
        "\n",
        "  Inputs:\n",
        "  - x: Tensor of shape (N, M).\n",
        "\n",
        "  Returns:\n",
        "  - y: Tensor of shape (N, M) which is a copy of x with normalized columns.\n",
        "  \"\"\"\n",
        "  y = x.clone()\n",
        "  ##############################################################################\n",
        "  # TODO: Complete the implementation of this function. Do not modify x.       #\n",
        "  # Your implementation should not use any loops; instead you should use       #\n",
        "  # reduction and broadcasting operations.                                     #\n",
        "  ##############################################################################\n",
        "  # Replace \"pass\" statement with your code\n",
        "  col_mean = torch.mean(y, dim=0)\n",
        "  col_std = torch.std(y, dim=0)\n",
        "  y = torch.div(torch.sub(y, col_mean), col_std)\n",
        "  # END OF YOUR CODE\n",
        "  return y"
      ]
    },
    {
      "cell_type": "code",
      "execution_count": null,
      "metadata": {
        "deletable": false,
        "editable": false,
        "nbgrader": {
          "cell_type": "code",
          "checksum": "49cfc868234ff1e4744e653368472622",
          "grade": true,
          "grade_id": "cell-333af9a768274e70",
          "locked": true,
          "points": 2,
          "schema_version": 3,
          "solution": false,
          "task": false
        },
        "id": "c1158qJDnkZd",
        "colab": {
          "base_uri": "https://localhost:8080/"
        },
        "outputId": "0a66957f-6b03-4788-dbf3-6bb39a1f30ab"
      },
      "outputs": [
        {
          "output_type": "stream",
          "name": "stdout",
          "text": [
            "Here is x0:\n",
            "tensor([[  0.,  30., 600.],\n",
            "        [  1.,  10., 200.],\n",
            "        [ -1.,  20., 400.]])\n",
            "Here is y0:\n",
            "tensor([[ 0.,  1.,  1.],\n",
            "        [ 1., -1., -1.],\n",
            "        [-1.,  0.,  0.]])\n"
          ]
        }
      ],
      "source": [
        "x0 = torch.tensor([[0., 30., 600.], [1., 10., 200.], [-1., 20., 400.]])\n",
        "y0 = normalize_columns(x0)\n",
        "print('Here is x0:')\n",
        "print(x0)\n",
        "print('Here is y0:')\n",
        "print(y0)\n",
        "assert x0.tolist() == [[0., 30., 600.], [1., 10., 200.], [-1., 20., 400.]]\n",
        "assert y0.tolist() == [[0., 1., 1.], [1., -1., -1.], [-1., 0., 0.]]"
      ]
    },
    {
      "cell_type": "markdown",
      "metadata": {
        "id": "cH_w7VLcnkZd"
      },
      "source": [
        "## Running on GPU"
      ]
    },
    {
      "cell_type": "markdown",
      "metadata": {
        "id": "VxWOasF7nkZe"
      },
      "source": [
        "One of the most important features of PyTorch is that it can use graphics processing units (GPUs) to accelerate its tensor operations.\n",
        "\n",
        "You can enable GPUs in Colab via Runtime -> Change Runtime Type -> Hardware Accelerator -> GPU.\n",
        "\n",
        "This may cause the Colab runtime to restart, so we will re-import `torch` in the next cell."
      ]
    },
    {
      "cell_type": "code",
      "execution_count": null,
      "metadata": {
        "deletable": false,
        "editable": false,
        "nbgrader": {
          "cell_type": "code",
          "checksum": "f79739a727dda74a7567efa6fe9d8df0",
          "grade": false,
          "grade_id": "cell-772055cfbfadd416",
          "locked": true,
          "schema_version": 3,
          "solution": false,
          "task": false
        },
        "id": "iPvCN7yGnkZe",
        "colab": {
          "base_uri": "https://localhost:8080/"
        },
        "outputId": "bd24108c-a139-4466-d22e-0b275c3aa20c"
      },
      "outputs": [
        {
          "output_type": "stream",
          "name": "stdout",
          "text": [
            "PyTorch can use GPUs!\n"
          ]
        }
      ],
      "source": [
        "import torch\n",
        "\n",
        "if torch.cuda.is_available:\n",
        "  print('PyTorch can use GPUs!')\n",
        "else:\n",
        "  print('PyTorch cannot use GPUs.')"
      ]
    },
    {
      "cell_type": "markdown",
      "metadata": {
        "id": "F4ulCubRnkZe"
      },
      "source": [
        "We have already seen that PyTorch tensors have a [`dtype`](https://pytorch.org/docs/stable/tensor_attributes.html#torch-dtype) attribute specifying their data type. All PyTorch tensors also have a [`device`](https://pytorch.org/docs/stable/tensor_attributes.html#torch-device) attribute that specifies the device where the tensor is stored -- either CPU or CUDA (for NVIDIA GPUs). A tensor on a CUDA device will automatically use that device to accelerate all of its operations.\n",
        "\n",
        "Just as with data types, we can use the [`.to()`](https://pytorch.org/docs/stable/generated/torch.Tensor.to.html?highlight=tensor#torch.Tensor.to) method to change the device of a tensor. We can also use the convenience methods [`.cuda()`](https://pytorch.org/docs/stable/generated/torch.Tensor.cuda.html?highlight=tensor+cuda#torch.Tensor.cuda) and [`.cpu()`](https://pytorch.org/docs/stable/generated/torch.Tensor.cpu.html?highlight=cpu#torch.Tensor.cpu) methods to move tensors between CPU and GPU: "
      ]
    },
    {
      "cell_type": "code",
      "execution_count": null,
      "metadata": {
        "id": "QaeXhEXvnkZe",
        "colab": {
          "base_uri": "https://localhost:8080/"
        },
        "outputId": "d0e4a42f-2319-42be-ec4e-e783e6db2249"
      },
      "outputs": [
        {
          "output_type": "stream",
          "name": "stdout",
          "text": [
            "x0 device: cpu\n",
            "x1 device: cuda:0\n",
            "x2 device: cuda:0\n",
            "x3 device: cpu\n",
            "x4 device: cpu\n",
            "y device / dtype: cuda:0 / torch.float64\n",
            "x5 device / dtype: cuda:0 / torch.float64\n"
          ]
        }
      ],
      "source": [
        "# Construct a tensor on the CPU\n",
        "x0 = torch.tensor([[1, 2], [3, 4]], dtype=torch.float32)\n",
        "print('x0 device:', x0.device)\n",
        "\n",
        "# Move it to the GPU using .to()\n",
        "x1 = x0.to('cuda')\n",
        "print('x1 device:', x1.device)\n",
        "\n",
        "# Move it to the GPU using .cuda()\n",
        "x2 = x0.cuda()\n",
        "print('x2 device:', x2.device)\n",
        "\n",
        "# Move it back to the CPU using .to()\n",
        "x3 = x1.to('cpu')\n",
        "print('x3 device:', x3.device)\n",
        "\n",
        "# Move it back to the CPU using .cpu()\n",
        "x4 = x2.cpu()\n",
        "print('x4 device:', x4.device)\n",
        "\n",
        "# We can construct tensors directly on the GPU as well\n",
        "y = torch.tensor([[1, 2, 3], [4, 5, 6]], dtype=torch.float64, device='cuda')\n",
        "print('y device / dtype:', y.device, '/', y.dtype)\n",
        "\n",
        "# Calling x.to(y) where y is a tensor will return a copy of x with the same\n",
        "# device and dtype as y\n",
        "x5 = x0.to(y)\n",
        "print('x5 device / dtype:', x5.device, '/', x5.dtype)"
      ]
    },
    {
      "cell_type": "markdown",
      "metadata": {
        "id": "oe3wSyQJnkZe"
      },
      "source": [
        "Performing large tensor operations on a GPU can be **a lot faster** than running the equivalent operation on CPU.\n",
        "\n",
        "Here we compare the speed of adding two tensors of shape (10000, 10000) on CPU and GPU.  If your first run seems slow, run again.\n",
        "\n",
        "Note that GPU code may run asynchronously with CPU code, so when timing the speed of operations on the GPU it is important to use [`torch.cuda.synchronize()`](https://pytorch.org/docs/stable/generated/torch.cuda.synchronize.html?highlight=synchronize#torch.cuda.synchronize) to synchronize the CPU and GPU:"
      ]
    },
    {
      "cell_type": "code",
      "execution_count": null,
      "metadata": {
        "id": "kDvnlTLInkZf",
        "colab": {
          "base_uri": "https://localhost:8080/"
        },
        "outputId": "4a3ea4ed-d2ac-4b85-af79-bc6c15ef51b6"
      },
      "outputs": [
        {
          "output_type": "stream",
          "name": "stdout",
          "text": [
            "Max difference between c_gpu and c_cpu: 0.0\n",
            "CPU time: 248.80 ms\n",
            "GPU time: 5.03 ms\n",
            "GPU speedup: 49.46 x\n"
          ]
        }
      ],
      "source": [
        "import time\n",
        "\n",
        "a_cpu = torch.randn(10000, 10000, dtype=torch.float32)\n",
        "b_cpu = torch.randn(10000, 10000, dtype=torch.float32)\n",
        "\n",
        "a_gpu = a_cpu.cuda()\n",
        "b_gpu = b_cpu.cuda()\n",
        "torch.cuda.synchronize()\n",
        "\n",
        "t0 = time.time()\n",
        "c_cpu = a_cpu + b_cpu\n",
        "t1 = time.time()\n",
        "c_gpu = a_gpu + b_gpu\n",
        "torch.cuda.synchronize()\n",
        "t2 = time.time()\n",
        "\n",
        "# Check that they computed the same thing\n",
        "diff = (c_gpu.cpu() - c_cpu).abs().max().item()\n",
        "print('Max difference between c_gpu and c_cpu:', diff)\n",
        "\n",
        "cpu_time = 1000.0 * (t1 - t0)\n",
        "gpu_time = 1000.0 * (t2 - t1)\n",
        "print('CPU time: %.2f ms' % cpu_time)\n",
        "print('GPU time: %.2f ms' % gpu_time)\n",
        "print('GPU speedup: %.2f x' % (cpu_time / gpu_time))"
      ]
    },
    {
      "cell_type": "markdown",
      "metadata": {
        "id": "L84eu6GsnkZf"
      },
      "source": [
        "Your turn: Use the GPU to accelerate the following matrix multiplication operation. You should see >10x speedup by using the GPU. If your first run seems slow, run again."
      ]
    },
    {
      "cell_type": "code",
      "execution_count": null,
      "metadata": {
        "deletable": false,
        "editable": false,
        "nbgrader": {
          "cell_type": "code",
          "checksum": "93b1ed0fb4a30a8554b7db5c28d6c202",
          "grade": false,
          "grade_id": "cell-6b200dc329fda2ba",
          "locked": true,
          "schema_version": 3,
          "solution": false,
          "task": false
        },
        "id": "QCeYjVmUnkZf"
      },
      "outputs": [],
      "source": [
        "import time\n",
        "\n",
        "x = torch.rand(512, 4096)\n",
        "w = torch.rand(4096, 4096)\n",
        "\n",
        "t0 = time.time()\n",
        "y0 = x.mm(w)\n",
        "t1 = time.time()\n",
        "\n",
        "x_gpu = None\n",
        "w_gpu = None\n",
        "t2 = 0\n",
        "y1 = None\n",
        "t3 = 0"
      ]
    },
    {
      "cell_type": "code",
      "execution_count": null,
      "metadata": {
        "deletable": false,
        "nbgrader": {
          "cell_type": "code",
          "checksum": "3e09308b551800c0a993c44e59866391",
          "grade": true,
          "grade_id": "cell-d15a618f21342460",
          "locked": false,
          "points": 0,
          "schema_version": 3,
          "solution": true,
          "task": false
        },
        "id": "gDsk2lVMnkZf"
      },
      "outputs": [],
      "source": [
        "##############################################################################\n",
        "# TODO: Write a bit of code that:                                            #\n",
        "# - Moves x and w to the GPU (store them in x_gpu and w_gpu, respectively).  #\n",
        "# - Performs matrix multiplication of x_gpu and w_gpu.                       #\n",
        "# - Moves the result back to the CPU (store the result in y1).               #\n",
        "#                                                                            #\n",
        "# Properly set the start time t2 and end time t3 so that you only time the   #\n",
        "# matrix multiplication on the GPU (i.e., excluding the time for moving the  #\n",
        "# tensors between CPU and GPU). Use torch.cuda.synchronize() when            #\n",
        "# appropriate.                                                               #\n",
        "##############################################################################\n",
        "# Replace \"pass\" statement with your code\n",
        "t2=time.time()\n",
        "x_gpu = x.cuda()\n",
        "w_gpu = w.to('cuda')\n",
        "y1 = x_gpu.mm(w_gpu)\n",
        "y1 = y1.cpu()\n",
        "torch.cuda.synchronize()\n",
        "t3=time.time()\n",
        "# END OF YOUR CODE"
      ]
    },
    {
      "cell_type": "code",
      "execution_count": null,
      "metadata": {
        "deletable": false,
        "editable": false,
        "nbgrader": {
          "cell_type": "code",
          "checksum": "765eddd69ac54a3dc798553a69dfb1e9",
          "grade": true,
          "grade_id": "cell-b78744fee7db2264",
          "locked": true,
          "points": 4,
          "schema_version": 3,
          "solution": false,
          "task": false
        },
        "id": "JS433TA5nkZf",
        "colab": {
          "base_uri": "https://localhost:8080/"
        },
        "outputId": "06bf8721-206c-454a-b2aa-8f2d11c84f1f"
      },
      "outputs": [
        {
          "output_type": "stream",
          "name": "stdout",
          "text": [
            "Max difference between y0 and y1: 0.0013427734375\n",
            "CPU time: 209.56 ms\n",
            "GPU time: 30.99 ms\n",
            "GPU speedup: 6.76 x\n"
          ]
        }
      ],
      "source": [
        "diff = (y0 - y1).abs().max().item()\n",
        "print('Max difference between y0 and y1:', diff)\n",
        "assert diff < 5e-3, 'Difference within tolerance'\n",
        "\n",
        "cpu_time = 1000.0 * (t1 - t0)\n",
        "gpu_time = 1000.0 * (t3 - t2)\n",
        "print('CPU time: %.2f ms' % cpu_time)\n",
        "print('GPU time: %.2f ms' % gpu_time)\n",
        "print('GPU speedup: %.2f x' % (cpu_time / gpu_time))"
      ]
    }
  ],
  "metadata": {
    "kernelspec": {
      "display_name": "Python 3 (ipykernel)",
      "language": "python",
      "name": "python3"
    },
    "language_info": {
      "codemirror_mode": {
        "name": "ipython",
        "version": 3
      },
      "file_extension": ".py",
      "mimetype": "text/x-python",
      "name": "python",
      "nbconvert_exporter": "python",
      "pygments_lexer": "ipython3",
      "version": "3.8.16"
    },
    "colab": {
      "provenance": []
    },
    "accelerator": "GPU",
    "gpuClass": "standard"
  },
  "nbformat": 4,
  "nbformat_minor": 0
}