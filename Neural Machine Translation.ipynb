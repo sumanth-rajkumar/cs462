{
  "cells": [
    {
      "cell_type": "markdown",
      "id": "db0ed2df",
      "metadata": {
        "id": "db0ed2df"
      },
      "source": [
        "Please fill in your name and netid (double-click the cell to edit).\n",
        "\n",
        "Name: Sumanth Rajkumar\n",
        "\n",
        "netid: ss3657"
      ]
    },
    {
      "cell_type": "markdown",
      "id": "starting-wedding",
      "metadata": {
        "id": "starting-wedding"
      },
      "source": [
        "---\n",
        "# Neural Machine Translation with Vanilla RNNs, LSTMs, and Attention\n",
        "\n",
        "In this assignment, you will implement Neural Machine Translation (NMT) models using:\n",
        "1. Vanilla RNNs\n",
        "2. LSTMs\n",
        "3. LSTMs with attention\n",
        "\n",
        "As in previous assignments, you will see code blocks that look like this:\n",
        "```python\n",
        "###############################################################################\n",
        "# TODO: Create a variable x with value 462.                                   #\n",
        "###############################################################################\n",
        "# Replace \"pass\" statement with your code\n",
        "pass\n",
        "# END OF YOUR CODE\n",
        "```\n",
        "\n",
        "You should replace the `pass` statement with your own code and leave the blocks intact, like this:\n",
        "```python\n",
        "###############################################################################\n",
        "# TODO: Create a variable x with value 462.                                   #\n",
        "###############################################################################\n",
        "# Replace \"pass\" statement with your code\n",
        "x = 462\n",
        "# END OF YOUR CODE\n",
        "```\n",
        "\n",
        "Also, please remember:\n",
        "- Do not write or modify any code outside of code blocks unless otherwise stated.\n",
        "- Do not delete any cells from the notebook. You may add new cells to perform scratch work, but please delete them before submitting.\n",
        "- Run all cells before submitting, so that your results are stored in the notebook.\n",
        "- Submit your notebook as `netid.ipynb`, where `netid` is your actual netid."
      ]
    },
    {
      "cell_type": "code",
      "execution_count": 1,
      "id": "partial-filling",
      "metadata": {
        "deletable": false,
        "editable": false,
        "nbgrader": {
          "cell_type": "code",
          "checksum": "9027852d08e9c4839fbade409c378d55",
          "grade": false,
          "grade_id": "cell-635e96eb05746e6f",
          "locked": true,
          "schema_version": 3,
          "solution": false,
          "task": false
        },
        "id": "partial-filling"
      },
      "outputs": [],
      "source": [
        "from __future__ import print_function\n",
        "from __future__ import division\n",
        "\n",
        "import math\n",
        "import pickle\n",
        "import random\n",
        "import torch\n",
        "import torch.nn as nn\n",
        "import torch.nn.functional as F\n",
        "import torch.optim as optim\n",
        "\n",
        "from collections import Counter\n",
        "from torch.utils.data import DataLoader, TensorDataset\n",
        "from torch.nn.utils.rnn import pack_padded_sequence, invert_permutation\n",
        "from torch.nn.utils import clip_grad_norm_\n",
        "\n",
        "import matplotlib.pyplot as plt\n",
        "\n",
        "%matplotlib inline\n",
        "plt.rcParams['figure.figsize'] = (10.0, 8.0)"
      ]
    },
    {
      "cell_type": "code",
      "execution_count": 2,
      "id": "italic-compromise",
      "metadata": {
        "id": "italic-compromise"
      },
      "outputs": [],
      "source": [
        "assert torch.cuda.is_available(), 'GPU unavailable'"
      ]
    },
    {
      "cell_type": "markdown",
      "id": "endless-symbol",
      "metadata": {
        "id": "endless-symbol"
      },
      "source": [
        "## Data Preparation\n",
        "\n",
        "We will use the dataset from this PyTorch [tutorial](https://pytorch.org/tutorials/intermediate/seq2seq_translation_tutorial.html), and train neural networks to perform French-to-English translation. A preprocessed version is provided in `data.pickle`. Please put the file in the same directory as this notebook. In Google Colab, you have the option to upload files.\n",
        "\n",
        "The preprocessed dataset contains 10K French and English sentence pairs. Each sentence consists of 9-16 tokens. We will use 8K sentence pairs for training, and the remaining 2K for validation."
      ]
    },
    {
      "cell_type": "code",
      "execution_count": 3,
      "id": "flexible-isaac",
      "metadata": {
        "deletable": false,
        "editable": false,
        "nbgrader": {
          "cell_type": "code",
          "checksum": "8e110f4af61cf1e20523e3970e17936d",
          "grade": false,
          "grade_id": "cell-46316296fee2d7c2",
          "locked": true,
          "schema_version": 3,
          "solution": false,
          "task": false
        },
        "id": "flexible-isaac",
        "colab": {
          "base_uri": "https://localhost:8080/"
        },
        "outputId": "97d81d77-f3b5-4a66-8bc5-a00b117df38c"
      },
      "outputs": [
        {
          "output_type": "stream",
          "name": "stdout",
          "text": [
            "There are 10000 fra-eng sentence pairs.\n",
            "Here is a random sample:\n",
            "source sentence (fra): mes affaires sont pretes et je suis pret a y aller .\n",
            "target sentence (eng): i m all packed and ready to go .\n",
            "The maximum sentence length is 16.\n"
          ]
        }
      ],
      "source": [
        "# Load data\n",
        "with open('data.pickle', 'rb') as f:\n",
        "  target_text, source_text = pickle.load(f)\n",
        "print(f'There are {len(source_text)} fra-eng sentence pairs.')\n",
        "\n",
        "# Show a random sample\n",
        "idx = random.randrange(len(source_text))\n",
        "print('Here is a random sample:')\n",
        "print('source sentence (fra):', source_text[idx])\n",
        "print('target sentence (eng):', target_text[idx])\n",
        "\n",
        "# Split sentences into words\n",
        "source_text = [sentence.split(' ') for sentence in source_text]\n",
        "target_text = [sentence.split(' ') for sentence in target_text]\n",
        "MAX_LEN = max(max([len(sentence) for sentence in source_text]),\n",
        "              max([len(sentence) for sentence in target_text]))\n",
        "print(f'The maximum sentence length is {MAX_LEN}.')"
      ]
    },
    {
      "cell_type": "markdown",
      "id": "placed-semiconductor",
      "metadata": {
        "id": "placed-semiconductor"
      },
      "source": [
        "## Vocabulary\n",
        "\n",
        "NMT models usually learn an embedding for each token. For this, PyTorch provides [`nn.Embedding`](https://pytorch.org/docs/stable/generated/torch.nn.Embedding.html?highlight=embedding#torch.nn.Embedding) that stores these embeddings as a lookup table. When given the index of a token, this module can retrieve the token's embedding.\n",
        "\n",
        "To make use of `nn.Embedding`, we need to map each token to an index. To convert model outputs back to readable tokens, we also need a reverse mapping that can retrieve the token given its index. The `Vocab` class below maintains exactly these two mappings. Note that to limit the vocabulary size and improve generalization, we do not store rare words in the vocabulary. They are replaced with the `'unk'` token."
      ]
    },
    {
      "cell_type": "code",
      "execution_count": 4,
      "id": "endless-designation",
      "metadata": {
        "deletable": false,
        "editable": false,
        "nbgrader": {
          "cell_type": "code",
          "checksum": "a478d297a477cdf7d79ec663f8d219ae",
          "grade": false,
          "grade_id": "cell-f45af2b474dd22b9",
          "locked": true,
          "schema_version": 3,
          "solution": false,
          "task": false
        },
        "id": "endless-designation"
      },
      "outputs": [],
      "source": [
        "class Vocab:\n",
        "  \n",
        "  def __init__(self, text, min_freq=5):\n",
        "    \n",
        "    # Initialize the vocabulary with special tokens\n",
        "    self.index2word = {\n",
        "      0: 'pad',  # padding\n",
        "      1: 'bos',  # begin of sentence\n",
        "      2: 'eos',  # end of sentence\n",
        "      3: 'unk',  # unknown\n",
        "    }\n",
        "    self.word2index = {v: k for k, v in self.index2word.items()}\n",
        "    self.size = 4  # initial vocabulary size\n",
        "    \n",
        "    # Only add tokens that appear more than `min_freq` times in the training data\n",
        "    tokens = [token for sentence in text for token in sentence]\n",
        "    token_freq = Counter(tokens)\n",
        "    tokens = [token for token in token_freq if token_freq[token] >= min_freq]\n",
        "    self._build_vocab(tokens)\n",
        "  \n",
        "  \n",
        "  def _build_vocab(self, tokens):\n",
        "    \n",
        "    for token in tokens:\n",
        "      if token not in self.word2index:\n",
        "        self.word2index[token] = self.size\n",
        "        self.index2word[self.size] = token\n",
        "        self.size += 1\n",
        "  \n",
        "  \n",
        "  def __getitem__(self, tokens):\n",
        "    \n",
        "    if not isinstance(tokens, (list, tuple)):\n",
        "      return self.word2index.get(tokens, self.word2index['unk'])\n",
        "    else:\n",
        "      return [self.__getitem__(token) for token in tokens]"
      ]
    },
    {
      "cell_type": "code",
      "execution_count": 5,
      "id": "declared-southwest",
      "metadata": {
        "deletable": false,
        "editable": false,
        "nbgrader": {
          "cell_type": "code",
          "checksum": "d65f4c05a6db0760822d7023c39dbd3c",
          "grade": false,
          "grade_id": "cell-77998c10f676c8e2",
          "locked": true,
          "schema_version": 3,
          "solution": false,
          "task": false
        },
        "id": "declared-southwest"
      },
      "outputs": [],
      "source": [
        "def get_data_loader(source_text, target_text, batch_size):\n",
        "  \"\"\"\n",
        "  Build vocabulary and prepare data.\n",
        "  \"\"\"\n",
        "  # Use the first 8000 pairs as training data, and the rest for validation\n",
        "  source_vocab = Vocab(source_text[:8000])\n",
        "  target_vocab = Vocab(target_text[:8000])\n",
        "  \n",
        "  # Convert each word to its index in the vocabulary\n",
        "  source_text = source_vocab[source_text]\n",
        "  # Record the length of each sentence\n",
        "  source_len = [len(sentence) for sentence in source_text]\n",
        "  # Pad each sentence to `MAX_LEN`\n",
        "  source_text = [sentence + [source_vocab['pad']] * (MAX_LEN - len(sentence))\n",
        "                 for sentence in source_text]\n",
        "  # Convert to PyTorch tensors\n",
        "  source_text = torch.LongTensor(source_text)  # shape: (num_sentences, MAX_LEN)\n",
        "  source_len = torch.LongTensor(source_len)  # shape: (num_sentences,)\n",
        "  \n",
        "  # Convert each word to its index in the vocabulary\n",
        "  target_text = target_vocab[target_text]\n",
        "  # Add 'bos' and 'eos' tokens\n",
        "  target_text = [[target_vocab['bos']] + sentence + [target_vocab['eos']]\n",
        "                 for sentence in target_text]\n",
        "  # Record the length of each sentence\n",
        "  target_len = [len(sentence) for sentence in target_text]\n",
        "  # Pad each sentence to `MAX_LEN` (+2 for 'bos' and 'eos')\n",
        "  target_text = [sentence + [target_vocab['pad']] * (MAX_LEN + 2 - len(sentence))\n",
        "                 for sentence in target_text]\n",
        "  # Convert to PyTorch tensors\n",
        "  target_text = torch.LongTensor(target_text)  # shape: (num_sentences, MAX_LEN+2)\n",
        "  target_len = torch.LongTensor(target_len)  # shape: (num_sentences,)\n",
        "  \n",
        "  train_set = TensorDataset(\n",
        "    source_text[:8000], source_len[:8000],\n",
        "    target_text[:8000], target_len[:8000])\n",
        "  \n",
        "  val_set = TensorDataset(\n",
        "    source_text[8000:], source_len[8000:],\n",
        "    target_text[8000:], target_len[8000:])\n",
        "  \n",
        "  loader_kwargs = {\n",
        "    'batch_size': batch_size,\n",
        "    'shuffle': True,\n",
        "    'num_workers': 4,\n",
        "    'pin_memory': True,\n",
        "    'drop_last': True,\n",
        "  }\n",
        "  \n",
        "  train_loader = DataLoader(train_set, **loader_kwargs)\n",
        "  val_loader = DataLoader(val_set, **loader_kwargs)\n",
        "  \n",
        "  return source_vocab, target_vocab, train_loader, val_loader"
      ]
    },
    {
      "cell_type": "code",
      "execution_count": 6,
      "id": "international-indian",
      "metadata": {
        "id": "international-indian",
        "colab": {
          "base_uri": "https://localhost:8080/"
        },
        "outputId": "91964216-b289-4903-d6bc-a1e34a574d71"
      },
      "outputs": [
        {
          "output_type": "stream",
          "name": "stdout",
          "text": [
            "source_vocab size: 1462\n",
            "target_vocab size: 1237\n"
          ]
        },
        {
          "output_type": "stream",
          "name": "stderr",
          "text": [
            "/usr/local/lib/python3.10/dist-packages/torch/utils/data/dataloader.py:561: UserWarning: This DataLoader will create 4 worker processes in total. Our suggested max number of worker in current system is 2, which is smaller than what this DataLoader is going to create. Please be aware that excessive worker creation might get DataLoader running slow or even freeze, lower the worker number to avoid potential slowness/freeze if necessary.\n",
            "  warnings.warn(_create_warning_msg(\n"
          ]
        }
      ],
      "source": [
        "source_vocab, target_vocab, train_loader, val_loader = get_data_loader(\n",
        "  source_text, target_text, batch_size=40)\n",
        "print('source_vocab size:', source_vocab.size)\n",
        "print('target_vocab size:', target_vocab.size)"
      ]
    },
    {
      "cell_type": "markdown",
      "id": "rental-burden",
      "metadata": {
        "id": "rental-burden"
      },
      "source": [
        "## Sequence to Sequence Models for Neural Machine Translation\n",
        "\n",
        "A popular approach to neural machine translation is to use sequence to sequence (seq2seq) models, as shown below.\n",
        "\n",
        "<img src=\"https://raw.githubusercontent.com/dsgiitr/d2l-pytorch/master/img/seq2seq_predict.svg\" width=600>\n",
        "\n",
        "We first use the encoder to obtain an encoding of the source sentence. This encoding is then passed to the decoder which generates the translation one word at a time. Note that to start translation, we feed in the `'bos'` token. The generated word is then used as input for the next step. The translation is considered finished when the decoder outputs the `'eos'` token (i.e., all subsequent outputs are ignored).\n",
        "\n",
        "During training, we use teacher forcing, which means we feed in the ground truth words to the decoder instead of the generated words, as shown below.\n",
        "\n",
        "<img src=\"https://raw.githubusercontent.com/dsgiitr/d2l-pytorch/master/img/seq2seq.svg\" width=600>"
      ]
    },
    {
      "cell_type": "markdown",
      "id": "quality-reply",
      "metadata": {
        "id": "quality-reply"
      },
      "source": [
        "## Sequence to Sequence with Vanilla RNNs (15 points)\n",
        "\n",
        "Let us first implement the simplest seq2seq model, which uses vanilla RNNs for both the encoder and the decoder.\n",
        "\n",
        "- **Encoder**\n",
        "\n",
        "    The encoder RNN has its hidden state initialized to zero. At each step, the encoder takes in a word in the source sentence, and updates the hidden state. The hidden state at the last step is thus an encoding of all the words in the source sentence.\n",
        "\n",
        "- **Decoder**\n",
        "\n",
        "    The encoder hidden state at the last step is used to directly initialize the decoder hidden state, which is then updated using the decoder RNN. The encoder and decoder RNNs do not share parameters. A fully connected layer is used to predict the next word from the decoder hidden state at each step. Its output is an unnormalized probability distribution over the target vocabulary.\n",
        "\n",
        "<img src=\"https://raw.githubusercontent.com/dsgiitr/d2l-pytorch/master/img/seq2seq-details.svg\" width=450>"
      ]
    },
    {
      "cell_type": "markdown",
      "id": "incorporate-brunei",
      "metadata": {
        "id": "incorporate-brunei"
      },
      "source": [
        "Implement `EncoderRNN` and `DecoderRNN` below:"
      ]
    },
    {
      "cell_type": "code",
      "execution_count": 7,
      "id": "sticky-telephone",
      "metadata": {
        "deletable": false,
        "nbgrader": {
          "cell_type": "code",
          "checksum": "37598304964b9790f0ab07abbcf0ada5",
          "grade": false,
          "grade_id": "cell-1bd4dbb9c8d51f05",
          "locked": false,
          "schema_version": 3,
          "solution": true,
          "task": false
        },
        "id": "sticky-telephone"
      },
      "outputs": [],
      "source": [
        "class EncoderRNN(nn.Module):\n",
        "  \n",
        "  def __init__(self, vocab_size, embedding_dim, hidden_size):\n",
        "    super().__init__()\n",
        "    \n",
        "    self.embedding = nn.Embedding(vocab_size, embedding_dim, padding_idx=0)  # word embeddings\n",
        "    self.rnn = nn.RNN(embedding_dim, hidden_size, batch_first=True)\n",
        "  \n",
        "  \n",
        "  def forward(self, source_text, source_len):\n",
        "    # type: (Tensor, Tensor) -> Tensor\n",
        "    \"\"\"\n",
        "    Inputs:\n",
        "    - source_text: A LongTensor of shape (batch_size, source_seq_len)\n",
        "      containing a mini-batch of source sentences padded to `source_seq_len`.\n",
        "      Each token is represented by its index in the vocabulary.\n",
        "    - source_len: A LongTensor of shape (batch_size,)\n",
        "      containing the actual length of each source sentence (before being padded).\n",
        "    \n",
        "    Returns:\n",
        "    - source_hT: A PyTorch tensor of shape (batch_size, hidden_size)\n",
        "      containing the RNN hidden state at the end of each source sentence\n",
        "      (i.e., `source_hT` encodes all tokens before the padding tokens).\n",
        "    \"\"\"\n",
        "    #########################################################################\n",
        "    # TODO:                                                                 #\n",
        "    # Implement the forward pass.                                           #\n",
        "    #########################################################################\n",
        "    # Replace \"pass\" statement with your code\n",
        "    embedded = self.embedding(source_text)  # (batch_size, source_seq_len, embedding_dim)\n",
        "    \n",
        "    # Pack the input sequences into a PackedSequence object\n",
        "    packed = pack_padded_sequence(embedded, source_len.cpu(), batch_first=True, enforce_sorted=False)\n",
        "    \n",
        "    # Initialize the RNN hidden state\n",
        "    h0 = torch.zeros(1, source_text.size(0), self.rnn.hidden_size).to(source_text.device)\n",
        "    \n",
        "    # Apply the RNN to the packed sequences\n",
        "    _, source_hT = self.rnn(packed, h0)\n",
        "    source_hT = source_hT.squeeze(0)  # (batch_size, hidden_size)\n",
        "    \n",
        "    # END OF YOUR CODE\n",
        "    return source_hT"
      ]
    },
    {
      "cell_type": "code",
      "execution_count": 8,
      "id": "round-ancient",
      "metadata": {
        "deletable": false,
        "nbgrader": {
          "cell_type": "code",
          "checksum": "54239fde96363451a25b9bdafac434cf",
          "grade": false,
          "grade_id": "cell-697a33eabe4ebc94",
          "locked": false,
          "schema_version": 3,
          "solution": true,
          "task": false
        },
        "id": "round-ancient"
      },
      "outputs": [],
      "source": [
        "class DecoderRNN(nn.Module):\n",
        "  \n",
        "  def __init__(self, vocab_size, embedding_dim, hidden_size):\n",
        "    super().__init__()\n",
        "    \n",
        "    self.embedding = nn.Embedding(vocab_size, embedding_dim, padding_idx=0)  # word embeddings\n",
        "    self.rnn = nn.RNN(embedding_dim, hidden_size, batch_first=True)\n",
        "    self.out = nn.Linear(hidden_size, vocab_size)\n",
        "  \n",
        "  \n",
        "  def forward(self, target_text, source_hT):\n",
        "    # type: (Tensor, Tensor) -> Tensor\n",
        "    \"\"\"\n",
        "    For each word in each target sentence, predict its next word.\n",
        "    \n",
        "    Inputs:\n",
        "    - target_text: A LongTensor of shape (batch_size, target_seq_len)\n",
        "      containing a mini-batch of target sentences padded to `target_seq_len`.\n",
        "      Each token is represented by its index in the vocabulary.\n",
        "    - source_hT: A PyTorch tensor of shape (batch_size, hidden_size)\n",
        "      containing the RNN hidden state at the end of each source sentence\n",
        "      (i.e., `source_hT` encodes all tokens before the padding tokens).\n",
        "    \n",
        "    Returns:\n",
        "    - pred: A PyTorch tensor of shape (batch_size, target_seq_len, vocab_size)\n",
        "      containing the next word predictions in the form of unnormalized scores\n",
        "      for each possible word in the vocabulary.\n",
        "    \"\"\"\n",
        "    #########################################################################\n",
        "    # TODO:                                                                 #\n",
        "    # Implement the forward pass.                                           #\n",
        "    #########################################################################\n",
        "    # Replace \"pass\" statement with your code\n",
        "    embedded = self.embedding(target_text)  # (batch_size, target_seq_len, embedding_dim)\n",
        "    \n",
        "    # Initialize the RNN hidden state with the encoder hidden state\n",
        "    h0 = source_hT.unsqueeze(0)  # (1, batch_size, hidden_size)\n",
        "    \n",
        "    # Apply the RNN to the embedded sequences\n",
        "    output, _ = self.rnn(embedded, h0)\n",
        "    \n",
        "    # Apply the fully connected layer to each output token\n",
        "    pred = self.out(output)  # (batch_size, target_seq_len, vocab_size)\n",
        "    # END OF YOUR CODE\n",
        "    return pred\n",
        "  \n",
        "  \n",
        "  def predict(self, input_token, h_prev):\n",
        "    # type: (Tensor, Tensor) -> Tuple[Tensor, Tensor]\n",
        "    \"\"\"\n",
        "    Single-step prediction: For each input word, predict its next word.\n",
        "    \n",
        "    Inputs:\n",
        "    - input_token: A LongTensor of shape (batch_size, 1)\n",
        "      containing a mini-batch of input tokens.\n",
        "      Each token is represented by its index in the vocabulary.\n",
        "    - h_prev: A PyTorch tensor of shape (1, batch_size, hidden_size)\n",
        "      containing the RNN encoding of all previous input tokens.\n",
        "    \n",
        "    Returns:\n",
        "    - pred_token: A LongTensor of shape (batch_size, 1)\n",
        "      containing the next word predictions.\n",
        "      Each token is represented by its index in the vocabulary.\n",
        "    - h: A PyTorch tensor of shape (1, batch_size, hidden_size)\n",
        "      containing the updated RNN encoding that consumes the current input tokens.\n",
        "    \"\"\"\n",
        "    #########################################################################\n",
        "    # TODO:                                                                 #\n",
        "    # Implement the prediction phase.                                       #\n",
        "    #########################################################################\n",
        "    # Replace \"pass\" statement with your code\n",
        "    embedded = self.embedding(input_token)  # (batch_size, 1, embedding_dim)\n",
        "    \n",
        "    output, h = self.rnn(embedded, h_prev)\n",
        "    \n",
        "    pred_token = self.out(output.squeeze(1)).argmax(dim=-1, keepdim=True)  # (batch_size, 1)\n",
        "    # END OF YOUR CODE\n",
        "    return pred_token, h"
      ]
    },
    {
      "cell_type": "markdown",
      "id": "deluxe-stretch",
      "metadata": {
        "id": "deluxe-stretch"
      },
      "source": [
        "We now combine `EncoderRNN` and `DecoderRNN` to make a seq2seq model. You should not modify the code here."
      ]
    },
    {
      "cell_type": "code",
      "execution_count": 9,
      "id": "becoming-elimination",
      "metadata": {
        "deletable": false,
        "editable": false,
        "nbgrader": {
          "cell_type": "code",
          "checksum": "822ec654076b2bab7180766ddb58dc6e",
          "grade": false,
          "grade_id": "cell-03a724da8183ab80",
          "locked": true,
          "schema_version": 3,
          "solution": false,
          "task": false
        },
        "id": "becoming-elimination"
      },
      "outputs": [],
      "source": [
        "class NMT_RNN(nn.Module):\n",
        "  \n",
        "  def __init__(self, source_vocab_size, target_vocab_size, embedding_dim, hidden_size, max_pred_len):\n",
        "    super().__init__()\n",
        "    \n",
        "    self.enc = EncoderRNN(source_vocab_size, embedding_dim, hidden_size)\n",
        "    self.dec = DecoderRNN(target_vocab_size, embedding_dim, hidden_size)\n",
        "    self.max_pred_len = max_pred_len\n",
        "  \n",
        "  \n",
        "  def forward(self, source_text, source_len, target_text, target_len):\n",
        "    # type: (Tensor, Tensor, Tensor, Tensor) -> Tensor\n",
        "    \"\"\"\n",
        "    Perform next word prediction and compute loss.\n",
        "    \n",
        "    Inputs:\n",
        "    - source_text: A LongTensor of shape (batch_size, source_seq_len)\n",
        "      containing a mini-batch of source sentences padded to `source_seq_len`.\n",
        "      Each token is represented by its index in the vocabulary.\n",
        "    - source_len: A LongTensor of shape (batch_size,)\n",
        "      containing the actual length of each source sentence (before being padded).\n",
        "    - target_text: A LongTensor of shape (batch_size, target_seq_len)\n",
        "      containing a mini-batch of target sentences padded to `target_seq_len`.\n",
        "      Each token is represented by its index in the vocabulary.\n",
        "    - target_len: A LongTensor of shape (batch_size,)\n",
        "      containing the actual length of each target sentence (before being padded).\n",
        "    \n",
        "    Returns:\n",
        "    - loss: A PyTorch scalar containing the loss for the mini-batch.\n",
        "    \"\"\"\n",
        "    source_hT = self.enc(source_text, source_len)\n",
        "    pred = self.dec(target_text, source_hT)\n",
        "    \n",
        "    # Note that `target_text` contains many 'pad' tokens.\n",
        "    # They should be excluded when we compute the loss.\n",
        "    # To remove these 'pad' tokens, we can use `pack_padded_sequence()`.\n",
        "    # Before doing that, we need to first sort target sentences in descending length.\n",
        "    target_len, sorted_indices = torch.sort(target_len, descending=True)\n",
        "    target_text = target_text.index_select(0, sorted_indices)\n",
        "    pred = pred.index_select(0, sorted_indices)\n",
        "    target_len = target_len.cpu()\n",
        "    \n",
        "    # Use `pack_padded_sequence()` to remove 'pad' tokens\n",
        "    target_text_packed = pack_padded_sequence(\n",
        "      target_text[:, 1:], target_len - 1,  # notice the shift in `target_text`\n",
        "      batch_first=True, enforce_sorted=True)\n",
        "    \n",
        "    pred_packed = pack_padded_sequence(\n",
        "      pred, target_len - 1,\n",
        "      batch_first=True, enforce_sorted=True)\n",
        "    \n",
        "    loss = F.cross_entropy(pred_packed.data, target_text_packed.data, ignore_index=0)\n",
        "    return loss\n",
        "  \n",
        "  \n",
        "  def predict(self, source_text, source_len):\n",
        "    # type: (Tensor, Tensor) -> Tensor\n",
        "    \"\"\"\n",
        "    Predict the target sentence for each source sentence.\n",
        "    The predicted word at step t will be used as input for step t+1.\n",
        "    This is different from what is done in the forward pass.\n",
        "    \n",
        "    Inputs:\n",
        "    - source_text: A LongTensor of shape (batch_size, source_seq_len)\n",
        "      containing a mini-batch of source sentences padded to `source_seq_len`.\n",
        "      Each token is represented by its index in the vocabulary.\n",
        "    - source_len: A LongTensor of shape (batch_size,)\n",
        "      containing the actual length of each source sentence (before being padded).\n",
        "    \n",
        "    Returns:\n",
        "    - pred: A LongTensor of shape (batch_size, max_pred_len)\n",
        "      containing the predicted target sentences.\n",
        "      Each token is represented by its index in the vocabulary.\n",
        "    \"\"\"\n",
        "    h = self.enc(source_text, source_len).unsqueeze(0)\n",
        "    input_token = torch.ones_like(source_len).view(-1, 1)  # feed in 'bos' to start\n",
        "    pred_list = []\n",
        "    \n",
        "    for t in range(self.max_pred_len):  # predict up to `max_pred_len` steps\n",
        "      pred_token, h = self.dec.predict(input_token, h)\n",
        "      pred_list.append(pred_token)\n",
        "      input_token = pred_token  # use the predicted token as input for next step\n",
        "    \n",
        "    pred = torch.cat(pred_list, dim=1)\n",
        "    return pred"
      ]
    },
    {
      "cell_type": "markdown",
      "id": "endangered-devices",
      "metadata": {
        "id": "endangered-devices"
      },
      "source": [
        "### Evaluation\n",
        "\n",
        "To evaluate a trained NMT model, we use it to perform translation on some source sentences. The translation is generated by picking the most probable word predicted by the decoder at each step. We then compare the model translation with the ground truth translation, and compute the accuracy of the predicted words.\n",
        "\n",
        "Please know that we choose the evaluation protocol here for simplicity. There are better decoding techniques (e.g., beam search) and evaluation metrics (e.g., BLEU scores) that you should use in your own projects."
      ]
    },
    {
      "cell_type": "code",
      "execution_count": 10,
      "id": "transparent-malaysia",
      "metadata": {
        "deletable": false,
        "editable": false,
        "nbgrader": {
          "cell_type": "code",
          "checksum": "4bbed5e20c4316bd35f5b06c7d01bdca",
          "grade": false,
          "grade_id": "cell-bd9f5b57afbdf5d8",
          "locked": true,
          "schema_version": 3,
          "solution": false,
          "task": false
        },
        "id": "transparent-malaysia"
      },
      "outputs": [],
      "source": [
        "def eval_acc(model, data_loader, num_samples=5):\n",
        "  \n",
        "  with torch.no_grad():\n",
        "    model.eval()\n",
        "    \n",
        "    total = 0\n",
        "    correct = 0\n",
        "    \n",
        "    for batch, data in enumerate(data_loader):\n",
        "      data = [d.cuda() for d in data]\n",
        "      \n",
        "      pred = model.predict(data[0], data[1])\n",
        "      \n",
        "      if batch < num_samples:  # show some samples\n",
        "        source_sentence = [source_vocab.index2word[token] for token in data[0][0].tolist()]\n",
        "        target_sentence = [target_vocab.index2word[token] for token in data[2][0].tolist()]\n",
        "        pred_sentence = [target_vocab.index2word[token] for token in pred[0].tolist()]\n",
        "        \n",
        "        print(f'=== Sample {batch + 1} ===')\n",
        "        print('source_sentence:', source_sentence)\n",
        "        print('target_sentence:', target_sentence)\n",
        "        print('pred_sentence:  ', pred_sentence)\n",
        "      \n",
        "      target_len, sorted_indices = torch.sort(data[3], descending=True)\n",
        "      target_text = data[2].index_select(0, sorted_indices)\n",
        "      pred = pred.index_select(0, sorted_indices)\n",
        "      target_len = target_len.cpu()\n",
        "      \n",
        "      target_text_packed = pack_padded_sequence(\n",
        "        target_text[:, 1:], target_len - 1,  # notice the shift in `target_text`\n",
        "        batch_first=True, enforce_sorted=True)\n",
        "      \n",
        "      pred_packed = pack_padded_sequence(\n",
        "        pred, target_len - 1,\n",
        "        batch_first=True, enforce_sorted=True)\n",
        "      \n",
        "      total += target_text_packed.data.shape[0]\n",
        "      correct += (pred_packed.data == target_text_packed.data).sum().item()\n",
        "    \n",
        "    acc = 100 * correct / total\n",
        "  \n",
        "  return acc"
      ]
    },
    {
      "cell_type": "markdown",
      "id": "considered-alexander",
      "metadata": {
        "id": "considered-alexander"
      },
      "source": [
        "### Training\n",
        "\n",
        "A basic training script is provided below. You can make modifications as appropriate.\n",
        "\n",
        "To get full credit, your model should **achieve at least 20% validation accuracy**."
      ]
    },
    {
      "cell_type": "code",
      "execution_count": 11,
      "id": "dental-massage",
      "metadata": {
        "id": "dental-massage"
      },
      "outputs": [],
      "source": [
        "def train(model, train_loader, val_loader, num_epochs, learning_rate, weight_decay):\n",
        "  \n",
        "  optimizer = optim.Adam(model.parameters(), lr=learning_rate, weight_decay=weight_decay)\n",
        "  \n",
        "  loss_history = []\n",
        "  for epoch in range(num_epochs):\n",
        "    \n",
        "    val_acc = eval_acc(model, val_loader, num_samples=0)\n",
        "    \n",
        "    model.train()\n",
        "    \n",
        "    for batch, data in enumerate(train_loader):\n",
        "      data = [d.cuda() for d in data]\n",
        "      \n",
        "      optimizer.zero_grad()\n",
        "      loss = model(*data)\n",
        "      loss.backward()\n",
        "      clip_grad_norm_(model.parameters(), 1)  # gradient clipping\n",
        "      optimizer.step()\n",
        "      \n",
        "      with torch.no_grad():\n",
        "        loss_history.append(loss.item())\n",
        "        if batch == 0:\n",
        "          print('Train Epoch: {:3} \\t Loss: {:F} \\t Val Acc: {:F}'.format(\n",
        "            epoch, loss.item(), val_acc))\n",
        "  \n",
        "  return model, loss_history"
      ]
    },
    {
      "cell_type": "code",
      "execution_count": 12,
      "id": "sporting-hobby",
      "metadata": {
        "id": "sporting-hobby",
        "colab": {
          "base_uri": "https://localhost:8080/"
        },
        "outputId": "0f55203d-0d01-4910-b8ab-4d02dc651291"
      },
      "outputs": [
        {
          "output_type": "stream",
          "name": "stdout",
          "text": [
            "Train Epoch:   0 \t Loss: 7.158060 \t Val Acc: 0.039068\n",
            "Train Epoch:   1 \t Loss: 3.762944 \t Val Acc: 10.713201\n",
            "Train Epoch:   2 \t Loss: 3.397671 \t Val Acc: 12.740374\n",
            "Train Epoch:   3 \t Loss: 3.313554 \t Val Acc: 15.809350\n",
            "Train Epoch:   4 \t Loss: 3.080198 \t Val Acc: 15.839736\n",
            "Train Epoch:   5 \t Loss: 2.887991 \t Val Acc: 15.622694\n",
            "Train Epoch:   6 \t Loss: 2.595711 \t Val Acc: 16.091505\n",
            "Train Epoch:   7 \t Loss: 2.726355 \t Val Acc: 17.406780\n",
            "Train Epoch:   8 \t Loss: 2.465997 \t Val Acc: 18.231541\n",
            "Train Epoch:   9 \t Loss: 2.616280 \t Val Acc: 16.681860\n",
            "Train Epoch:  10 \t Loss: 2.465798 \t Val Acc: 17.823501\n",
            "Train Epoch:  11 \t Loss: 2.211186 \t Val Acc: 18.023180\n",
            "Train Epoch:  12 \t Loss: 2.190037 \t Val Acc: 18.227200\n",
            "Train Epoch:  13 \t Loss: 2.260000 \t Val Acc: 19.351478\n",
            "Train Epoch:  14 \t Loss: 2.121933 \t Val Acc: 18.179450\n",
            "Train Epoch:  15 \t Loss: 2.032052 \t Val Acc: 17.484916\n",
            "Train Epoch:  16 \t Loss: 1.983007 \t Val Acc: 19.329774\n",
            "Train Epoch:  17 \t Loss: 2.251969 \t Val Acc: 19.373182\n",
            "Train Epoch:  18 \t Loss: 1.873958 \t Val Acc: 19.312410\n",
            "Train Epoch:  19 \t Loss: 1.831147 \t Val Acc: 20.059035\n",
            "Train Epoch:  20 \t Loss: 1.732667 \t Val Acc: 20.067717\n",
            "Train Epoch:  21 \t Loss: 1.731764 \t Val Acc: 19.763858\n",
            "Train Epoch:  22 \t Loss: 1.713728 \t Val Acc: 20.189261\n",
            "Train Epoch:  23 \t Loss: 1.842934 \t Val Acc: 20.223987\n",
            "Train Epoch:  24 \t Loss: 1.805593 \t Val Acc: 19.130095\n",
            "Train Epoch:  25 \t Loss: 1.651587 \t Val Acc: 19.976559\n",
            "Train Epoch:  26 \t Loss: 1.649492 \t Val Acc: 20.098103\n",
            "Train Epoch:  27 \t Loss: 1.609980 \t Val Acc: 20.145852\n",
            "Train Epoch:  28 \t Loss: 1.594674 \t Val Acc: 19.967878\n",
            "Train Epoch:  29 \t Loss: 1.295025 \t Val Acc: 20.488779\n",
            "Train Epoch:  30 \t Loss: 1.391539 \t Val Acc: 20.862091\n",
            "Train Epoch:  31 \t Loss: 1.532468 \t Val Acc: 20.245692\n",
            "Train Epoch:  32 \t Loss: 1.576191 \t Val Acc: 20.853410\n",
            "Train Epoch:  33 \t Loss: 1.248592 \t Val Acc: 20.367235\n",
            "Train Epoch:  34 \t Loss: 1.485629 \t Val Acc: 20.475756\n",
            "Train Epoch:  35 \t Loss: 1.314178 \t Val Acc: 20.584277\n",
            "Train Epoch:  36 \t Loss: 1.318108 \t Val Acc: 20.358554\n",
            "Train Epoch:  37 \t Loss: 1.312965 \t Val Acc: 21.118201\n",
            "Train Epoch:  38 \t Loss: 1.348083 \t Val Acc: 20.710162\n",
            "Train Epoch:  39 \t Loss: 1.174570 \t Val Acc: 20.966272\n",
            "Train Epoch:  40 \t Loss: 1.159986 \t Val Acc: 19.985241\n",
            "Train Epoch:  41 \t Loss: 1.040185 \t Val Acc: 21.040066\n",
            "Train Epoch:  42 \t Loss: 1.157951 \t Val Acc: 20.770934\n",
            "Train Epoch:  43 \t Loss: 1.096755 \t Val Acc: 20.575596\n",
            "Train Epoch:  44 \t Loss: 1.124888 \t Val Acc: 21.330902\n",
            "Train Epoch:  45 \t Loss: 1.034901 \t Val Acc: 20.948908\n",
            "Train Epoch:  46 \t Loss: 1.044131 \t Val Acc: 21.461128\n",
            "Train Epoch:  47 \t Loss: 0.904504 \t Val Acc: 20.901159\n",
            "Train Epoch:  48 \t Loss: 0.970763 \t Val Acc: 21.178973\n",
            "Train Epoch:  49 \t Loss: 1.018905 \t Val Acc: 20.766593\n"
          ]
        }
      ],
      "source": [
        "torch.manual_seed(0)\n",
        "\n",
        "batch_size = 40\n",
        "num_epochs = 50\n",
        "learning_rate = 5e-4  # TODO\n",
        "weight_decay = 1e-5  # TODO\n",
        "\n",
        "embedding_dim = 256\n",
        "hidden_size = 256\n",
        "\n",
        "source_vocab, target_vocab, train_loader, val_loader = get_data_loader(\n",
        "  source_text, target_text, batch_size)\n",
        "model = NMT_RNN(source_vocab.size, target_vocab.size, embedding_dim, hidden_size, MAX_LEN + 1)\n",
        "model = model.cuda()\n",
        "\n",
        "model, loss_history = train(model, train_loader, val_loader, num_epochs, learning_rate, weight_decay)"
      ]
    },
    {
      "cell_type": "code",
      "execution_count": 13,
      "id": "settled-victorian",
      "metadata": {
        "id": "settled-victorian",
        "colab": {
          "base_uri": "https://localhost:8080/",
          "height": 696
        },
        "outputId": "1587c8bc-2fa3-4d69-eedd-450a48ccb224"
      },
      "outputs": [
        {
          "output_type": "display_data",
          "data": {
            "text/plain": [
              "<Figure size 1000x800 with 1 Axes>"
            ],
            "image/png": "[encoded data removed]"
          },
          "metadata": {}
        }
      ],
      "source": [
        "plt.plot(loss_history, 'o')\n",
        "plt.xlabel('Iteration number')\n",
        "plt.ylabel('Loss value')\n",
        "plt.show()"
      ]
    },
    {
      "cell_type": "code",
      "execution_count": 14,
      "id": "sized-month",
      "metadata": {
        "id": "sized-month",
        "colab": {
          "base_uri": "https://localhost:8080/"
        },
        "outputId": "935ba176-5e03-418a-fb76-9ae2f2c37958"
      },
      "outputs": [
        {
          "output_type": "stream",
          "name": "stdout",
          "text": [
            "=== Sample 1 ===\n",
            "source_sentence: ['je', 'suis', 'desole', 'que', 'tu', 'aies', 'ete', 'unk', 'la', 'dedans', '.', 'pad', 'pad', 'pad', 'pad', 'pad']\n",
            "target_sentence: ['bos', 'i', 'm', 'sorry', 'you', 'got', 'unk', 'into', 'this', '.', 'eos', 'pad', 'pad', 'pad', 'pad', 'pad', 'pad', 'pad']\n",
            "pred_sentence:   ['i', 'm', 'sorry', '.', 'i', 'just', 'want', 'to', 'make', 'unk', 'unk', '.', 'eos', '.', 'eos', '.', '']\n",
            "=== Sample 2 ===\n",
            "source_sentence: ['il', 'a', 'eu', 'le', 'coup', 'de', 'unk', 'pour', 'la', 'fille', '.', 'pad', 'pad', 'pad', 'pad', 'pad']\n",
            "target_sentence: ['bos', 'he', 'fell', 'in', 'love', 'with', 'the', 'girl', 'at', 'first', 'sight', '.', 'eos', 'pad', 'pad', 'pad', 'pad', 'pad']\n",
            "pred_sentence:   ['he', 'unk', 'his', 'seat', 'to', 'an', 'old', 'woman', '.', 'eos', '.', 'eos', '.', 'eos', '.', 'eos', 'you']\n",
            "=== Sample 3 ===\n",
            "source_sentence: ['j', 'ai', 'toujours', 'aime', 'tes', 'cheveux', 'ainsi', 'mis', '.', 'pad', 'pad', 'pad', 'pad', 'pad', 'pad', 'pad']\n",
            "target_sentence: ['bos', 'i', 've', 'always', 'unk', 'your', 'hair', 'that', 'way', '.', 'eos', 'pad', 'pad', 'pad', 'pad', 'pad', 'pad', 'pad']\n",
            "pred_sentence:   ['i', 'have', 'to', 'go', 'to', 'the', 'movies', 'with', 'him', '.', 'eos', '.', 'eos', '.', '', 'eos', 'i']\n",
            "=== Sample 4 ===\n",
            "source_sentence: ['tu', 'es', 'probablement', 'trop', 'jeune', 'pour', 'comprendre', 'ce', 'qui', 'se', 'produit', '.', 'pad', 'pad', 'pad', 'pad']\n",
            "target_sentence: ['bos', 'you', 're', 'probably', 'too', 'young', 'to', 'understand', 'what', 's', 'happening', '.', 'eos', 'pad', 'pad', 'pad', 'pad', 'pad']\n",
            "pred_sentence:   ['you', 'should', 'have', 'told', 'him', 'about', 'it', 'while', 'you', 're', 'ready', '.', 'eos', '.', 'eos', '.', 'eos']\n",
            "=== Sample 5 ===\n",
            "source_sentence: ['la', 'unk', 'unk', 'a', 'pris', 'grand', 'soin', 'de', 'son', 'appartement', '.', 'pad', 'pad', 'pad', 'pad', 'pad']\n",
            "target_sentence: ['bos', 'the', 'unk', 'unk', 'took', 'unk', 'care', 'of', 'her', 'apartment', '.', 'eos', 'pad', 'pad', 'pad', 'pad', 'pad', 'pad']\n",
            "pred_sentence:   ['the', 'unk', 'unk', 'the', 'unk', 'of', 'the', 'unk', '.', 'eos', '.', 'eos', 'the', 'end', '.', 'eos', 'the']\n",
            "Training Accuracy: 27.661645272571942\n"
          ]
        }
      ],
      "source": [
        "train_acc = eval_acc(model, train_loader)\n",
        "print('Training Accuracy:', train_acc)"
      ]
    },
    {
      "cell_type": "code",
      "execution_count": 15,
      "id": "c2435abf",
      "metadata": {
        "id": "c2435abf",
        "colab": {
          "base_uri": "https://localhost:8080/"
        },
        "outputId": "03e54923-c81d-4c33-d601-083ed8750d12"
      },
      "outputs": [
        {
          "output_type": "stream",
          "name": "stdout",
          "text": [
            "=== Sample 1 ===\n",
            "source_sentence: ['la', 'nourriture', 'a', 'vraiment', 'meilleur', 'unk', 'lorsqu', 'elle', 'est', 'unk', 'avec', 'des', 'amis', 'unk', '.', 'pad']\n",
            "target_sentence: ['bos', 'food', 'really', 'does', 'unk', 'better', 'when', 'eaten', 'with', 'close', 'friends', '.', 'eos', 'pad', 'pad', 'pad', 'pad', 'pad']\n",
            "pred_sentence:   ['these', 'problems', 'are', 'not', 'unk', 'when', 'i', 'was', 'a', 'kid', '.', 'eos', '.', 'eos', '.', 'eos', '.']\n",
            "=== Sample 2 ===\n",
            "source_sentence: ['je', 'ne', 'peux', 'me', 'permettre', 'de', 'unk', 'le', 'moindre', 'unk', '.', 'pad', 'pad', 'pad', 'pad', 'pad']\n",
            "target_sentence: ['bos', 'i', 'can', 't', 'afford', 'to', 'waste', 'a', 'unk', 'yen', '.', 'eos', 'pad', 'pad', 'pad', 'pad', 'pad', 'pad']\n",
            "pred_sentence:   ['i', 'can', 't', 'get', 'rid', 'of', 'this', 'unk', '.', 'eos', 'eos', '.', 'eos', '.', 'eos', '.', 'eos']\n",
            "=== Sample 3 ===\n",
            "source_sentence: ['apres', 'avoir', 'marche', 'un', 'moment', 'nous', 'sommes', 'unk', 'au', 'lac', '.', 'pad', 'pad', 'pad', 'pad', 'pad']\n",
            "target_sentence: ['bos', 'after', 'we', 'walked', 'for', 'a', 'while', 'we', 'got', 'to', 'the', 'lake', '.', 'eos', 'pad', 'pad', 'pad', 'pad']\n",
            "pred_sentence:   ['unk', 'he', 'will', 'have', 'been', 'working', 'for', 'a', 'week', 'when', 'he', 'saw', 'the', 'policeman', '.', 'eos', 'the']\n",
            "=== Sample 4 ===\n",
            "source_sentence: ['j', 'ai', 'trouve', 'difficile', 'de', 'tenir', 'un', 'journal', 'tous', 'les', 'jours', '.', 'pad', 'pad', 'pad', 'pad']\n",
            "target_sentence: ['bos', 'i', 'found', 'it', 'difficult', 'to', 'keep', 'a', 'unk', 'every', 'day', '.', 'eos', 'pad', 'pad', 'pad', 'pad', 'pad']\n",
            "pred_sentence:   ['i', 'had', 'a', 'unk', 'unk', 'i', 'stayed', 'in', 'bed', '.', 'eos', '.', 'eos', '.', 'eos', '.', 'eos']\n",
            "=== Sample 5 ===\n",
            "source_sentence: ['je', 'veux', 'vous', 'suivre', 'ou', 'que', 'vous', 'alliez', '.', 'pad', 'pad', 'pad', 'pad', 'pad', 'pad', 'pad']\n",
            "target_sentence: ['bos', 'i', 'want', 'to', 'follow', 'you', 'unk', 'you', 're', 'going', '.', 'eos', 'pad', 'pad', 'pad', 'pad', 'pad', 'pad']\n",
            "pred_sentence:   ['i', 'want', 'you', 'to', 'get', 'your', 'own', 'place', '.', 'eos', 'eos', '.', 'eos', '.', '', 'eos', 'i']\n",
            "Validation Accuracy: 20.623345053609413\n"
          ]
        }
      ],
      "source": [
        "val_acc = eval_acc(model, val_loader)\n",
        "print('Validation Accuracy:', val_acc)"
      ]
    },
    {
      "cell_type": "markdown",
      "id": "ff7a8249",
      "metadata": {
        "id": "ff7a8249"
      },
      "source": [
        "The following grading cells will assign partial credit based on the validation accuracy. Please do not remove.\n",
        "- ${\\geq} 20\\%$: 15 points\n",
        "- $15\\% {\\sim} 20\\%$: 10 points\n",
        "- $10\\% {\\sim} 15\\%$: 5 points\n",
        "- ${<} 10\\%$: no credit"
      ]
    },
    {
      "cell_type": "code",
      "execution_count": 16,
      "id": "a82fa6db",
      "metadata": {
        "deletable": false,
        "editable": false,
        "nbgrader": {
          "cell_type": "code",
          "checksum": "aa694dc6deda1356767e1ee86c717204",
          "grade": true,
          "grade_id": "cell-19fac30b5799d996",
          "locked": true,
          "points": 5,
          "schema_version": 3,
          "solution": false,
          "task": false
        },
        "id": "a82fa6db"
      },
      "outputs": [],
      "source": [
        "# Grading cell. Do not remove."
      ]
    },
    {
      "cell_type": "code",
      "execution_count": 17,
      "id": "5f35c084",
      "metadata": {
        "deletable": false,
        "editable": false,
        "nbgrader": {
          "cell_type": "code",
          "checksum": "25d2c677568ef789cff14c8e57820d18",
          "grade": true,
          "grade_id": "cell-8c4d34944ec312a0",
          "locked": true,
          "points": 5,
          "schema_version": 3,
          "solution": false,
          "task": false
        },
        "id": "5f35c084"
      },
      "outputs": [],
      "source": [
        "# Grading cell. Do not remove."
      ]
    },
    {
      "cell_type": "code",
      "execution_count": 18,
      "id": "ba4aba30",
      "metadata": {
        "deletable": false,
        "editable": false,
        "nbgrader": {
          "cell_type": "code",
          "checksum": "a05829c7f456e56561830020820fff7b",
          "grade": true,
          "grade_id": "cell-bd61dbdb5228c42c",
          "locked": true,
          "points": 5,
          "schema_version": 3,
          "solution": false,
          "task": false
        },
        "id": "ba4aba30"
      },
      "outputs": [],
      "source": [
        "# Grading cell. Do not remove."
      ]
    },
    {
      "cell_type": "markdown",
      "id": "cleared-heavy",
      "metadata": {
        "id": "cleared-heavy"
      },
      "source": [
        "## LSTMs (15 points)\n",
        "\n",
        "Vanilla RNNs are known to have vanishing gradient issues, which have been mitigated by LSTMs. Hence, replacing the RNNs in seq2seq models with LSTMs will probably improve performance. In this section, we will implement LSTMs from scratch."
      ]
    },
    {
      "cell_type": "markdown",
      "id": "technological-knight",
      "metadata": {
        "id": "technological-knight"
      },
      "source": [
        "Let us first implement the single-step LSTM update. We will be replicating the functionality of [`nn.LSTMCell`](https://pytorch.org/docs/stable/generated/torch.nn.LSTMCell.html?highlight=lstmcell#torch.nn.LSTMCell). Please refer to the documentation for more details. Note that for efficiency, the weights to be multiplied by the input are combined into a single weight matrix `weight_ih`, the weights to be multiplied by the previous hidden state are combined into `weight_hh`, and the biases are combined into a single vector `bias`. You are NOT allowed to use `nn.LSTMCell` or `nn.LSTM` in your implementation. For weight initialization, you can try [`nn.init.xavier_uniform_()`](https://pytorch.org/docs/stable/nn.init.html?highlight=xavier#torch.nn.init.xavier_uniform_) and [`nn.init.orthogonal_()`](https://pytorch.org/docs/stable/nn.init.html?highlight=orthogonal#torch.nn.init.orthogonal_). As suggested in this [post](https://danijar.com/tips-for-training-recurrent-neural-networks/), you may also initialize the forget gate bias to 1 so that the LSTM remembers more information by default."
      ]
    },
    {
      "cell_type": "code",
      "execution_count": 19,
      "id": "blind-racing",
      "metadata": {
        "deletable": false,
        "nbgrader": {
          "cell_type": "code",
          "checksum": "94f1f576703d8e63c9e63d421190cc1b",
          "grade": false,
          "grade_id": "cell-1cd63486f030a804",
          "locked": false,
          "schema_version": 3,
          "solution": true,
          "task": false
        },
        "id": "blind-racing"
      },
      "outputs": [],
      "source": [
        "class LSTMCell(nn.Module):\n",
        "  \n",
        "  def __init__(self, input_size, hidden_size):\n",
        "    super().__init__()\n",
        "    \n",
        "    self.input_size = input_size\n",
        "    self.hidden_size = hidden_size\n",
        "    \n",
        "    # Learnable parameters\n",
        "    self.weight_ih = nn.Parameter(torch.Tensor(4 * self.hidden_size, self.input_size))\n",
        "    self.weight_hh = nn.Parameter(torch.Tensor(4 * self.hidden_size, self.hidden_size))\n",
        "    self.bias = nn.Parameter(torch.Tensor(4 * self.hidden_size))\n",
        "    \n",
        "    self.init_params()\n",
        "  \n",
        "  \n",
        "  def init_params(self):\n",
        "    #########################################################################\n",
        "    # TODO:                                                                 #\n",
        "    # Properly initialize the learnable parameters.                         #\n",
        "    # This function should not have a \"return\" statement.                   #\n",
        "    # You may use built-in functions in `torch.nn.init`.                    #\n",
        "    #########################################################################\n",
        "    # Replace \"pass\" statement with your code\n",
        "    nn.init.xavier_uniform_(self.weight_ih)\n",
        "    nn.init.orthogonal_(self.weight_hh)\n",
        "    nn.init.constant_(self.bias[self.hidden_size : 2 * self.hidden_size], 1)  # forget gate bias\n",
        "    # END OF YOUR CODE\n",
        "  \n",
        "  \n",
        "  def forward(self, input, state):\n",
        "    # type: (Tensor, Tuple[Tensor, Tensor]) -> Tuple[Tensor, Tensor]\n",
        "    \"\"\"\n",
        "    Inputs:\n",
        "    - input: A PyTorch tensor of shape (batch_size, input_size)\n",
        "      containing a mini-batch of input features.\n",
        "    - state: A tuple of hidden state and cell state from the previous step,\n",
        "      both of which are PyTorch tensors of shape (batch_size, hidden_size).\n",
        "      You may assume that `state` is not None.\n",
        "    \n",
        "    Returns:\n",
        "    - hy: A PyTorch tensor of shape (batch_size, hidden_size)\n",
        "      containing the updated hidden state at the current step.\n",
        "    - cy: A PyTorch tensor of shape (batch_size, hidden_size)\n",
        "      containing the updated cell state at the current step.\n",
        "    \n",
        "    For more details, check `torch.nn.LSTMCell`.\n",
        "    \"\"\"\n",
        "    hx, cx = state\n",
        "    #########################################################################\n",
        "    # TODO:                                                                 #\n",
        "    # Implement the forward pass.                                           #\n",
        "    #########################################################################\n",
        "    # Replace \"pass\" statement with your code\n",
        "  \n",
        "    \n",
        "    gates = torch.mm(input, self.weight_ih.t()) + torch.mm(hx, self.weight_hh.t()) + self.bias\n",
        "    \n",
        "    ingate, forgetgate, cellgate, outgate = gates.chunk(4, 1)\n",
        "    ingate = torch.sigmoid(ingate)\n",
        "    forgetgate = torch.sigmoid(forgetgate)\n",
        "    cellgate = torch.tanh(cellgate)\n",
        "    outgate = torch.sigmoid(outgate)\n",
        "    \n",
        "    cy = (forgetgate * cx) + (ingate * cellgate)\n",
        "    hy = outgate * torch.tanh(cy)\n",
        "    # END OF YOUR CODE\n",
        "    return hy, cy"
      ]
    },
    {
      "cell_type": "markdown",
      "id": "proper-monthly",
      "metadata": {
        "id": "proper-monthly"
      },
      "source": [
        "We will use the following helper functions to check your results:"
      ]
    },
    {
      "cell_type": "code",
      "execution_count": 20,
      "id": "corporate-buyer",
      "metadata": {
        "deletable": false,
        "editable": false,
        "nbgrader": {
          "cell_type": "code",
          "checksum": "5734c4764254450e0369ca7fde6fdb69",
          "grade": false,
          "grade_id": "cell-d0dfcd5976817206",
          "locked": true,
          "schema_version": 3,
          "solution": false,
          "task": false
        },
        "id": "corporate-buyer"
      },
      "outputs": [],
      "source": [
        "def max_diff(actual, expected):\n",
        "  return (actual - expected).abs().max().item()"
      ]
    },
    {
      "cell_type": "code",
      "execution_count": 21,
      "id": "simple-indianapolis",
      "metadata": {
        "deletable": false,
        "editable": false,
        "nbgrader": {
          "cell_type": "code",
          "checksum": "0292350d64a28c6e08c17e6b55f69a48",
          "grade": false,
          "grade_id": "cell-7adf64f58371b339",
          "locked": true,
          "schema_version": 3,
          "solution": false,
          "task": false
        },
        "id": "simple-indianapolis"
      },
      "outputs": [],
      "source": [
        "def check_lstm_cell(batch_size, input_size, hidden_size):\n",
        "  \n",
        "  torch.manual_seed(0)\n",
        "  torch_lstm_cell = nn.LSTMCell(input_size, hidden_size)\n",
        "  lstm_cell = LSTMCell(input_size, hidden_size)\n",
        "  \n",
        "  lstm_cell.weight_ih.data = torch_lstm_cell.weight_ih.data\n",
        "  lstm_cell.weight_hh.data = torch_lstm_cell.weight_hh.data\n",
        "  lstm_cell.bias.data = torch_lstm_cell.bias_ih.data + torch_lstm_cell.bias_hh.data\n",
        "  \n",
        "  input = torch.empty(batch_size, input_size).normal_()\n",
        "  state = torch.empty(batch_size, 2 * hidden_size).normal_().chunk(2, 1)\n",
        "  \n",
        "  (hy_expected, cy_expected) = torch_lstm_cell(input, state)\n",
        "  (hy_actual, cy_actual) = lstm_cell(input, state)\n",
        "  \n",
        "  assert hy_actual.shape == hy_expected.shape, 'incorrect hy shape'\n",
        "  assert cy_actual.shape == cy_expected.shape, 'incorrect cy shape'\n",
        "  \n",
        "  hy_diff = max_diff(hy_actual, hy_expected)\n",
        "  cy_diff = max_diff(cy_actual, cy_expected)\n",
        "  \n",
        "  print('hy_diff = %e' % hy_diff)\n",
        "  print('cy_diff = %e' % cy_diff)\n",
        "  assert hy_diff < 1e-5, 'incorrect hy'\n",
        "  assert cy_diff < 1e-5, 'incorrect cy'"
      ]
    },
    {
      "cell_type": "code",
      "execution_count": 22,
      "id": "33a69014",
      "metadata": {
        "deletable": false,
        "editable": false,
        "nbgrader": {
          "cell_type": "code",
          "checksum": "0aa2080c3ef6b014d7c46981c0b321f4",
          "grade": true,
          "grade_id": "cell-63caa4709700c6b5",
          "locked": true,
          "points": 1,
          "schema_version": 3,
          "solution": false,
          "task": false
        },
        "id": "33a69014",
        "colab": {
          "base_uri": "https://localhost:8080/"
        },
        "outputId": "76d754d0-867b-4ba4-f2a6-72d4f8f99fda"
      },
      "outputs": [
        {
          "output_type": "stream",
          "name": "stdout",
          "text": [
            "hy_diff = 0.000000e+00\n",
            "cy_diff = 0.000000e+00\n"
          ]
        }
      ],
      "source": [
        "check_lstm_cell(batch_size=1, input_size=1, hidden_size=1)"
      ]
    },
    {
      "cell_type": "code",
      "execution_count": 23,
      "id": "2dc9357e",
      "metadata": {
        "deletable": false,
        "editable": false,
        "nbgrader": {
          "cell_type": "code",
          "checksum": "39ca867727045003654b89d6256e106f",
          "grade": true,
          "grade_id": "cell-d83899ccdb71a823",
          "locked": true,
          "points": 2,
          "schema_version": 3,
          "solution": false,
          "task": false
        },
        "id": "2dc9357e",
        "colab": {
          "base_uri": "https://localhost:8080/"
        },
        "outputId": "d638e52d-3263-4c6a-d2e3-bb3f94055cf3"
      },
      "outputs": [
        {
          "output_type": "stream",
          "name": "stdout",
          "text": [
            "hy_diff = 4.470348e-08\n",
            "cy_diff = 5.960464e-08\n"
          ]
        }
      ],
      "source": [
        "check_lstm_cell(batch_size=1, input_size=1, hidden_size=64)"
      ]
    },
    {
      "cell_type": "code",
      "execution_count": 24,
      "id": "449fabd1",
      "metadata": {
        "deletable": false,
        "editable": false,
        "nbgrader": {
          "cell_type": "code",
          "checksum": "68e577199a9eaad3be344c779234eefa",
          "grade": true,
          "grade_id": "cell-835b98f408025d6d",
          "locked": true,
          "points": 2,
          "schema_version": 3,
          "solution": false,
          "task": false
        },
        "id": "449fabd1",
        "colab": {
          "base_uri": "https://localhost:8080/"
        },
        "outputId": "495772bb-d6b8-4a43-f585-71f213480449"
      },
      "outputs": [
        {
          "output_type": "stream",
          "name": "stdout",
          "text": [
            "hy_diff = 5.960464e-08\n",
            "cy_diff = 1.192093e-07\n"
          ]
        }
      ],
      "source": [
        "check_lstm_cell(batch_size=1, input_size=64, hidden_size=64)"
      ]
    },
    {
      "cell_type": "code",
      "execution_count": 25,
      "id": "metric-louisiana",
      "metadata": {
        "deletable": false,
        "editable": false,
        "nbgrader": {
          "cell_type": "code",
          "checksum": "404fd1a3bf9cd8175613ab4e5e6d75d5",
          "grade": true,
          "grade_id": "cell-3fca48443be87688",
          "locked": true,
          "points": 2,
          "schema_version": 3,
          "solution": false,
          "task": false
        },
        "id": "metric-louisiana",
        "colab": {
          "base_uri": "https://localhost:8080/"
        },
        "outputId": "decf2873-5047-4037-84ad-3f354c29a7ad"
      },
      "outputs": [
        {
          "output_type": "stream",
          "name": "stdout",
          "text": [
            "hy_diff = 8.940697e-08\n",
            "cy_diff = 2.384186e-07\n"
          ]
        }
      ],
      "source": [
        "check_lstm_cell(batch_size=8, input_size=64, hidden_size=64)"
      ]
    },
    {
      "cell_type": "markdown",
      "id": "taken-minority",
      "metadata": {
        "id": "taken-minority"
      },
      "source": [
        "Now that we have implemented the single-step update, we can apply it iteratively to a sequence of inputs and obtain the hidden states at each step. Please implement the `LSTM` class below, which contains `LSTMCell` as a submodule. You are NOT allowed to use `nn.LSTMCell` or `nn.LSTM` in your implementation.\n",
        "\n",
        "You are encouraged (but not required) to develop an efficient implementation, in which the padding tokens are skipped and not fed to the `LSTMCell`. This can save computation by ~25% on our dataset, assuming the sentence length has a uniform distribution. Check this [tutorial](https://github.com/sgrvinod/a-PyTorch-Tutorial-to-Image-Captioning#decoder-1) for an illustration."
      ]
    },
    {
      "cell_type": "code",
      "execution_count": 26,
      "id": "unavailable-funeral",
      "metadata": {
        "deletable": false,
        "nbgrader": {
          "cell_type": "code",
          "checksum": "4276c5f5d3921cea1229592c8d4dbdc7",
          "grade": false,
          "grade_id": "cell-10ec063c2936f81c",
          "locked": false,
          "schema_version": 3,
          "solution": true,
          "task": false
        },
        "id": "unavailable-funeral"
      },
      "outputs": [],
      "source": [
        "class LSTM(nn.Module):\n",
        "  \n",
        "  def __init__(self, input_size, hidden_size):\n",
        "    super().__init__()\n",
        "    \n",
        "    self.input_size = input_size\n",
        "    self.hidden_size = hidden_size\n",
        "    \n",
        "    self.lstm_cell = LSTMCell(self.input_size, self.hidden_size)\n",
        "  \n",
        "  \n",
        "  def forward(self, input, input_len, init_state):\n",
        "    # type: (Tensor, Tensor, Tuple[Tensor, Tensor]) -> Tuple[Tensor, Tuple[Tensor, Tensor]]\n",
        "    \"\"\"\n",
        "    Inputs:\n",
        "    - input: A PyTorch tensor of shape (batch_size, max_seq_len, input_size)\n",
        "      containing a mini-batch of sequences padded to `max_seq_len`.\n",
        "    - input_len: A LongTensor of shape (batch_size,)\n",
        "      containing the actual length of each sequence (before being padded).\n",
        "    - init_state: A tuple of initial hidden state and cell state,\n",
        "      both of which are PyTorch tensors of shape (batch_size, hidden_size).\n",
        "      You may assume that `init_state` is not None.\n",
        "    \n",
        "    Returns:\n",
        "    - hidden_states: A PyTorch tensor of shape (batch_size, max_seq_len, hidden_size)\n",
        "      containing the hidden state `ht` at each step t.\n",
        "    - hT: A PyTorch tensor of shape (batch_size, hidden_size)\n",
        "      containing the hidden state at the end of each sequence\n",
        "      (i.e., `hT` encodes all tokens before the padding tokens).\n",
        "    - cT: A PyTorch tensor of shape (batch_size, hidden_size)\n",
        "      containing the cell state at the end of each sequence\n",
        "      (i.e., `cT` encodes all tokens before the padding tokens).\n",
        "    \"\"\"\n",
        "    h, c = init_state\n",
        "    #########################################################################\n",
        "    # TODO:                                                                 #\n",
        "    # Implement the forward pass.                                           #\n",
        "    #########################################################################\n",
        "    # Replace \"pass\" statement with your code\n",
        "    batch_size, max_seq_len, input_size = input.shape\n",
        "    hidden_states = torch.zeros(batch_size, max_seq_len, self.hidden_size, device=input.device)\n",
        "\n",
        "    # Sort input and input_len in descending order of sequence length\n",
        "    input_len, indices = input_len.sort(descending=True)\n",
        "    input = input.index_select(0, indices)\n",
        "\n",
        "    # Initialize packed sequences for efficient computation\n",
        "    input_packed = pack_padded_sequence(input, input_len, batch_first=True, enforce_sorted=True)\n",
        "    h_packed = h.index_select(0, indices)\n",
        "    c_packed = c.index_select(0, indices)\n",
        "\n",
        "    # Iterate through the packed input sequence\n",
        "    for t, (xt, batch_size_t) in enumerate(zip(input_packed.data.split(input_packed.batch_sizes.tolist()), input_packed.batch_sizes.tolist())):\n",
        "        ht, ct = self.lstm_cell(xt, (h_packed[:batch_size_t], c_packed[:batch_size_t]))\n",
        "        h_packed[:batch_size_t] = ht\n",
        "        c_packed[:batch_size_t] = ct\n",
        "        hidden_states[:batch_size_t, t, :] = ht\n",
        "\n",
        "    # Revert the sorting of input_len and hidden_states to their original order\n",
        "    _, inv_indices = indices.sort()\n",
        "    hidden_states = hidden_states.index_select(0, inv_indices)\n",
        "    hT = h_packed.index_select(0, inv_indices)\n",
        "    cT = c_packed.index_select(0, inv_indices)\n",
        "    # END OF YOUR CODE\n",
        "    return hidden_states, (hT, cT)"
      ]
    },
    {
      "cell_type": "markdown",
      "id": "drawn-support",
      "metadata": {
        "id": "drawn-support"
      },
      "source": [
        "We will use the following helper function to check your results:"
      ]
    },
    {
      "cell_type": "code",
      "execution_count": 27,
      "id": "micro-walter",
      "metadata": {
        "deletable": false,
        "editable": false,
        "nbgrader": {
          "cell_type": "code",
          "checksum": "7da2900fc4e8c0fc8b3f367c98ec8571",
          "grade": false,
          "grade_id": "cell-e4707b217d4cc37a",
          "locked": true,
          "schema_version": 3,
          "solution": false,
          "task": false
        },
        "id": "micro-walter"
      },
      "outputs": [],
      "source": [
        "def check_lstm(batch_size, max_seq_len, input_size, hidden_size):\n",
        "  \n",
        "  torch.manual_seed(0)\n",
        "  torch_lstm = nn.LSTM(input_size, hidden_size, batch_first=True)\n",
        "  lstm = LSTM(input_size, hidden_size)\n",
        "  \n",
        "  lstm.lstm_cell.weight_ih.data = torch_lstm.weight_ih_l0.data\n",
        "  lstm.lstm_cell.weight_hh.data = torch_lstm.weight_hh_l0.data\n",
        "  lstm.lstm_cell.bias.data = torch_lstm.bias_ih_l0.data + torch_lstm.bias_hh_l0.data\n",
        "  \n",
        "  input = torch.empty(batch_size, max_seq_len, input_size).normal_()\n",
        "  input_len = torch.randint(1, max_seq_len + 1, (batch_size,))\n",
        "  init_state = torch.zeros(batch_size, 2 * hidden_size).chunk(2, 1)\n",
        "  \n",
        "  input_packed = pack_padded_sequence(\n",
        "    input, input_len, batch_first=True, enforce_sorted=False)\n",
        "  \n",
        "  hidden_states_expected_packed, (hT_expected, cT_expected) = torch_lstm(input_packed)\n",
        "  \n",
        "  hidden_states_actual, (hT_actual, cT_actual) = lstm(input, input_len, init_state)\n",
        "  \n",
        "  assert hidden_states_actual.shape == (batch_size, max_seq_len, hidden_size), 'incorrect hidden_states shape'\n",
        "  assert hT_actual.shape == (batch_size, hidden_size), 'incorrect hT shape'\n",
        "  assert cT_actual.shape == (batch_size, hidden_size), 'incorrect cT shape'\n",
        "  \n",
        "  input_len = input_len.index_select(0, input_packed.sorted_indices)\n",
        "  hidden_states_actual = hidden_states_actual.index_select(0, input_packed.sorted_indices)\n",
        "  hidden_states_actual_packed = pack_padded_sequence(\n",
        "    hidden_states_actual, input_len, batch_first=True, enforce_sorted=True)\n",
        "  \n",
        "  hidden_states_diff = max_diff(\n",
        "    hidden_states_actual_packed.data,\n",
        "    hidden_states_expected_packed.data)\n",
        "  \n",
        "  hT_diff = max_diff(hT_actual, hT_expected)\n",
        "  cT_diff = max_diff(cT_actual, cT_expected)\n",
        "  \n",
        "  print('hidden_states_diff = %e' % hidden_states_diff)\n",
        "  print('hT_diff = %e' % hT_diff)\n",
        "  print('cT_diff = %e' % cT_diff)\n",
        "  assert hidden_states_diff < 1e-5, 'incorrect hidden_states'\n",
        "  assert hT_diff < 1e-5, 'incorrect hT'\n",
        "  assert cT_diff < 1e-5, 'incorrect cT'"
      ]
    },
    {
      "cell_type": "code",
      "execution_count": 28,
      "id": "dd896a94",
      "metadata": {
        "deletable": false,
        "editable": false,
        "nbgrader": {
          "cell_type": "code",
          "checksum": "359d4d26910e4dbd9e5f099eee68502a",
          "grade": true,
          "grade_id": "cell-64d94d25e4c0ceb0",
          "locked": true,
          "points": 1,
          "schema_version": 3,
          "solution": false,
          "task": false
        },
        "id": "dd896a94",
        "colab": {
          "base_uri": "https://localhost:8080/"
        },
        "outputId": "bb160e5e-7991-4caa-baa8-93d4edced079"
      },
      "outputs": [
        {
          "output_type": "stream",
          "name": "stdout",
          "text": [
            "hidden_states_diff = 0.000000e+00\n",
            "hT_diff = 0.000000e+00\n",
            "cT_diff = 0.000000e+00\n"
          ]
        }
      ],
      "source": [
        "check_lstm(batch_size=1, max_seq_len=1, input_size=1, hidden_size=1)"
      ]
    },
    {
      "cell_type": "code",
      "execution_count": 29,
      "id": "747ced91",
      "metadata": {
        "deletable": false,
        "editable": false,
        "nbgrader": {
          "cell_type": "code",
          "checksum": "7cfedbd49a49aa40ce40de5c041e7664",
          "grade": true,
          "grade_id": "cell-1f86c1aa83c11648",
          "locked": true,
          "points": 2,
          "schema_version": 3,
          "solution": false,
          "task": false
        },
        "id": "747ced91",
        "colab": {
          "base_uri": "https://localhost:8080/"
        },
        "outputId": "66fab730-5128-4a8a-a27f-c139e4e47f0c"
      },
      "outputs": [
        {
          "output_type": "stream",
          "name": "stdout",
          "text": [
            "hidden_states_diff = 0.000000e+00\n",
            "hT_diff = 0.000000e+00\n",
            "cT_diff = 0.000000e+00\n"
          ]
        }
      ],
      "source": [
        "check_lstm(batch_size=1, max_seq_len=16, input_size=1, hidden_size=1)"
      ]
    },
    {
      "cell_type": "code",
      "execution_count": 30,
      "id": "ca053d4a",
      "metadata": {
        "deletable": false,
        "editable": false,
        "nbgrader": {
          "cell_type": "code",
          "checksum": "5c8cb4676f6fbb3ffaca6f6979271aef",
          "grade": true,
          "grade_id": "cell-29a7472288c77491",
          "locked": true,
          "points": 2,
          "schema_version": 3,
          "solution": false,
          "task": false
        },
        "id": "ca053d4a",
        "colab": {
          "base_uri": "https://localhost:8080/"
        },
        "outputId": "75d2e251-214f-4372-fbb0-e6d02b3e271d"
      },
      "outputs": [
        {
          "output_type": "stream",
          "name": "stdout",
          "text": [
            "hidden_states_diff = 1.490116e-08\n",
            "hT_diff = 3.725290e-09\n",
            "cT_diff = 2.980232e-08\n"
          ]
        }
      ],
      "source": [
        "check_lstm(batch_size=8, max_seq_len=16, input_size=1, hidden_size=1)"
      ]
    },
    {
      "cell_type": "code",
      "execution_count": 31,
      "id": "medical-automation",
      "metadata": {
        "deletable": false,
        "editable": false,
        "nbgrader": {
          "cell_type": "code",
          "checksum": "f27bda890a8da7437b67d2119b408017",
          "grade": true,
          "grade_id": "cell-20cbebedf2365e3e",
          "locked": true,
          "points": 3,
          "schema_version": 3,
          "solution": false,
          "task": false
        },
        "id": "medical-automation",
        "colab": {
          "base_uri": "https://localhost:8080/"
        },
        "outputId": "828326cd-6bba-451c-ab04-f9d024682b7b"
      },
      "outputs": [
        {
          "output_type": "stream",
          "name": "stdout",
          "text": [
            "hidden_states_diff = 8.940697e-08\n",
            "hT_diff = 5.960464e-08\n",
            "cT_diff = 1.192093e-07\n"
          ]
        }
      ],
      "source": [
        "check_lstm(batch_size=8, max_seq_len=16, input_size=64, hidden_size=64)"
      ]
    },
    {
      "cell_type": "markdown",
      "id": "revised-reservoir",
      "metadata": {
        "id": "revised-reservoir"
      },
      "source": [
        "## Sequence to Sequence with LSTMs (25 points)\n",
        "\n",
        "Now let us implement a seq2seq model with both the encoder and the decoder being LSTMs."
      ]
    },
    {
      "cell_type": "markdown",
      "id": "accepted-client",
      "metadata": {
        "id": "accepted-client"
      },
      "source": [
        "Implement `EncoderLSTM` and `DecoderLSTM` below. You may use PyTorch's built-in LSTMs or what you have implemented above."
      ]
    },
    {
      "cell_type": "code",
      "execution_count": 32,
      "id": "pharmaceutical-shift",
      "metadata": {
        "deletable": false,
        "nbgrader": {
          "cell_type": "code",
          "checksum": "141b863966c523c8dd52e08d696ae6ce",
          "grade": false,
          "grade_id": "cell-d91c3f29aeda2c0e",
          "locked": false,
          "schema_version": 3,
          "solution": true,
          "task": false
        },
        "id": "pharmaceutical-shift"
      },
      "outputs": [],
      "source": [
        "class EncoderLSTM(nn.Module):\n",
        "  \n",
        "  def __init__(self, vocab_size, embedding_dim, hidden_size):\n",
        "    super().__init__()\n",
        "    #########################################################################\n",
        "    # TODO:                                                                 #\n",
        "    # Set up the encoder components.                                        #\n",
        "    #########################################################################\n",
        "    # Replace \"pass\" statement with your code\n",
        "    self.embedding = nn.Embedding(vocab_size, embedding_dim)\n",
        "    self.lstm = nn.LSTM(embedding_dim, hidden_size, batch_first=True)\n",
        "    self.hidden_size = hidden_size\n",
        "    # END OF YOUR CODE\n",
        "  \n",
        "  \n",
        "  def forward(self, source_text, source_len):\n",
        "    # type: (Tensor, Tensor) -> Tuple[Tensor, Tuple[Tensor, Tensor]]\n",
        "    \"\"\"\n",
        "    Inputs:\n",
        "    - source_text: A LongTensor of shape (batch_size, source_seq_len)\n",
        "      containing a mini-batch of source sentences padded to `source_seq_len`.\n",
        "      Each token is represented by its index in the vocabulary.\n",
        "    - source_len: A LongTensor of shape (batch_size,)\n",
        "      containing the actual length of each source sentence (before being padded).\n",
        "    \n",
        "    Returns:\n",
        "    - hidden_states: A PyTorch tensor of shape (batch_size, source_seq_len, hidden_size)\n",
        "      containing the LSTM hidden state `ht` at each step t of the source sentences.\n",
        "    - hT: A PyTorch tensor of shape (batch_size, hidden_size)\n",
        "      containing the LSTM hidden state at the end of each source sentence\n",
        "      (i.e., `hT` encodes all tokens before the padding tokens).\n",
        "    - cT: A PyTorch tensor of shape (batch_size, hidden_size)\n",
        "      containing the LSTM cell state at the end of each source sentence\n",
        "      (i.e., `cT` encodes all tokens before the padding tokens).\n",
        "    \"\"\"\n",
        "    #########################################################################\n",
        "    # TODO:                                                                 #\n",
        "    # Implement the forward pass.                                           #\n",
        "    #########################################################################\n",
        "    # Replace \"pass\" statement with your code\n",
        "    embedded = self.embedding(source_text)\n",
        "    packed = nn.utils.rnn.pack_padded_sequence(embedded, source_len.cpu(), batch_first=True, enforce_sorted=False)\n",
        "    output, (hT, cT) = self.lstm(packed)\n",
        "    hidden_states, _ = nn.utils.rnn.pad_packed_sequence(output, batch_first=True)\n",
        "  \n",
        "    \n",
        "    # END OF YOUR CODE\n",
        "    return hidden_states, (hT, cT)"
      ]
    },
    {
      "cell_type": "code",
      "execution_count": 33,
      "id": "prostate-southeast",
      "metadata": {
        "deletable": false,
        "nbgrader": {
          "cell_type": "code",
          "checksum": "a05a9889acf740f2a193f17ee8a52f72",
          "grade": false,
          "grade_id": "cell-b067dc1a04cd1871",
          "locked": false,
          "schema_version": 3,
          "solution": true,
          "task": false
        },
        "id": "prostate-southeast"
      },
      "outputs": [],
      "source": [
        "class DecoderLSTM(nn.Module):\n",
        "  \n",
        "  def __init__(self, vocab_size, embedding_dim, hidden_size):\n",
        "    super().__init__()\n",
        "    #########################################################################\n",
        "    # TODO:                                                                 #\n",
        "    # Set up the decoder components.                                        #\n",
        "    #########################################################################\n",
        "    # Replace \"pass\" statement with your code\n",
        "    self.embedding = nn.Embedding(vocab_size, embedding_dim)\n",
        "    self.lstm = nn.LSTM(embedding_dim, hidden_size, batch_first=True)\n",
        "    self.fc = nn.Linear(hidden_size, vocab_size)\n",
        "    # END OF YOUR CODE\n",
        "  \n",
        "  \n",
        "  def forward(self, target_text, target_len, source_last_state):\n",
        "    # type: (Tensor, Tensor, Tuple[Tensor, Tensor]) -> Tensor\n",
        "    \"\"\"\n",
        "    Perform next word prediction and compute loss.\n",
        "    \n",
        "    Inputs:\n",
        "    - target_text: A LongTensor of shape (batch_size, target_seq_len)\n",
        "      containing a mini-batch of target sentences padded to `target_seq_len`.\n",
        "      Each token is represented by its index in the vocabulary.\n",
        "    - target_len: A LongTensor of shape (batch_size,)\n",
        "      containing the actual length of each target sentence (before being padded).\n",
        "    - source_last_state: A tuple of hidden state and cell state at the end of\n",
        "      each source sentence, both of shape (batch_size, hidden_size).\n",
        "    \n",
        "    Returns:\n",
        "    - loss: A PyTorch scalar containing the loss for the mini-batch.\n",
        "    \"\"\"\n",
        "    #########################################################################\n",
        "    # TODO:                                                                 #\n",
        "    # Implement the forward pass.                                           #\n",
        "    #########################################################################\n",
        "    # Replace \"pass\" statement with your code\n",
        "    embedded = self.embedding(target_text)\n",
        "    packed = nn.utils.rnn.pack_padded_sequence(embedded, target_len.cpu(), batch_first=True, enforce_sorted=False)\n",
        "    packed_output, (hT, cT) = self.lstm(packed, source_last_state)\n",
        "\n",
        "    output, output_lengths = nn.utils.rnn.pad_packed_sequence(packed_output, batch_first=True)\n",
        "    logits = self.fc(output)\n",
        "\n",
        "    max_target_len = max(target_len).item()\n",
        "    if target_text.size(1) < max_target_len:\n",
        "        pad_size = max_target_len - target_text.size(1)\n",
        "        padding = torch.zeros(target_text.size(0), pad_size, dtype=torch.long, device=target_text.device)\n",
        "        target_text = torch.cat([target_text, padding], dim=1)\n",
        "\n",
        "    mask = torch.arange(target_text.size(1), device=target_text.device).unsqueeze(0) < target_len.unsqueeze(1)\n",
        "    mask = mask[:, 1:].contiguous()\n",
        "\n",
        "    logits_masked = logits[:, :-1, :]\n",
        "    target_text_masked = target_text[:, 1:]\n",
        "    padded_target_text = nn.utils.rnn.pad_sequence(\n",
        "      [target_text[i, 1:target_len[i]] for i in range(target_text.size(0))],\n",
        "      batch_first=True,\n",
        "      padding_value=0\n",
        "    )\n",
        "    loss = nn.CrossEntropyLoss(ignore_index=0)(logits_masked.contiguous().view(-1, logits.size(2)), padded_target_text.contiguous().view(-1))\n",
        "\n",
        "    \n",
        "    # END OF YOUR CODE\n",
        "    return loss\n",
        " \n",
        "  \n",
        "  def predict(self, source_last_state, max_pred_len):\n",
        "    # type: (Tuple[Tensor, Tensor], int) -> Tensor\n",
        "    \"\"\"\n",
        "    Predict target sentences given the LSTM encoding of source sentences.\n",
        "    The predicted word at step t will be used as input for step t+1.\n",
        "    This is different from what is done in the forward pass.\n",
        "    \n",
        "    Inputs:\n",
        "    - source_last_state: A tuple of hidden state and cell state at the end of\n",
        "      each source sentence, both of shape (batch_size, hidden_size).\n",
        "    - max_pred_len: (int) number of prediction steps.\n",
        "    \n",
        "    Returns:\n",
        "    - pred: A LongTensor of shape (batch_size, max_pred_len)\n",
        "      containing the predicted target sentences.\n",
        "      Each token is represented by its index in the vocabulary.\n",
        "    \"\"\"\n",
        "    #########################################################################\n",
        "    # TODO:                                                                 #\n",
        "    # Implement the prediction phase.                                       #\n",
        "    #########################################################################\n",
        "    # Replace \"pass\" statement with your code\n",
        "    batch_size = source_last_state[0].size(1)\n",
        "    device = source_last_state[0].device\n",
        "    current_token = torch.zeros(batch_size, 1, dtype=torch.long, device=device)\n",
        "    pred = []\n",
        "  \n",
        "    for _ in range(max_pred_len):\n",
        "        embedded = self.embedding(current_token)\n",
        "        output, source_last_state = self.lstm(embedded, source_last_state)\n",
        "        logits = self.fc(output.squeeze(1))\n",
        "        current_token = torch.argmax(logits, dim=-1).unsqueeze(1)\n",
        "        pred.append(current_token)\n",
        "  \n",
        "    pred = torch.cat(pred, dim=1)\n",
        "\n",
        "    # END OF YOUR CODE\n",
        "    return pred"
      ]
    },
    {
      "cell_type": "code",
      "execution_count": 34,
      "id": "mental-pathology",
      "metadata": {
        "deletable": false,
        "editable": false,
        "nbgrader": {
          "cell_type": "code",
          "checksum": "1da46844a3100730d435f8a8ba385959",
          "grade": false,
          "grade_id": "cell-11cb8bfb0133780e",
          "locked": true,
          "schema_version": 3,
          "solution": false,
          "task": false
        },
        "id": "mental-pathology"
      },
      "outputs": [],
      "source": [
        "class NMT_LSTM(nn.Module):\n",
        "  \n",
        "  def __init__(self, source_vocab_size, target_vocab_size, embedding_dim, hidden_size, max_pred_len):\n",
        "    super().__init__()\n",
        "    \n",
        "    self.enc = EncoderLSTM(source_vocab_size, embedding_dim, hidden_size)\n",
        "    self.dec = DecoderLSTM(target_vocab_size, embedding_dim, hidden_size)\n",
        "    self.max_pred_len = max_pred_len\n",
        "  \n",
        "  \n",
        "  def forward(self, source_text, source_len, target_text, target_len):\n",
        "    # type: (Tensor, Tensor, Tensor, Tensor) -> Tensor\n",
        "    \"\"\"\n",
        "    Perform next word prediction and compute loss.\n",
        "    \n",
        "    Inputs:\n",
        "    - source_text: A LongTensor of shape (batch_size, source_seq_len)\n",
        "      containing a mini-batch of source sentences padded to `source_seq_len`.\n",
        "      Each token is represented by its index in the vocabulary.\n",
        "    - source_len: A LongTensor of shape (batch_size,)\n",
        "      containing the actual length of each source sentence (before being padded).\n",
        "    - target_text: A LongTensor of shape (batch_size, target_seq_len)\n",
        "      containing a mini-batch of target sentences padded to `target_seq_len`.\n",
        "      Each token is represented by its index in the vocabulary.\n",
        "    - target_len: A LongTensor of shape (batch_size,)\n",
        "      containing the actual length of each target sentence (before being padded).\n",
        "    \n",
        "    Returns:\n",
        "    - loss: A PyTorch scalar containing the loss for the mini-batch.\n",
        "    \"\"\"\n",
        "    _, source_last_state = self.enc(source_text, source_len)\n",
        "    loss = self.dec(target_text, target_len, source_last_state)\n",
        "    return loss\n",
        "  \n",
        "  \n",
        "  def predict(self, source_text, source_len):\n",
        "    # type: (Tensor, Tensor) -> Tensor\n",
        "    \"\"\"\n",
        "    Predict the target sentence for each source sentence.\n",
        "    The predicted word at step t will be used as input for step t+1.\n",
        "    This is different from what is done in the forward pass.\n",
        "    \n",
        "    Inputs:\n",
        "    - source_text: A LongTensor of shape (batch_size, source_seq_len)\n",
        "      containing a mini-batch of source sentences padded to `source_seq_len`.\n",
        "      Each token is represented by its index in the vocabulary.\n",
        "    - source_len: A LongTensor of shape (batch_size,)\n",
        "      containing the actual length of each source sentence (before being padded).\n",
        "    \n",
        "    Returns:\n",
        "    - pred: A LongTensor of shape (batch_size, max_pred_len)\n",
        "      containing the predicted target sentences.\n",
        "      Each token is represented by its index in the vocabulary.\n",
        "    \"\"\"\n",
        "    _, source_last_state = self.enc(source_text, source_len)\n",
        "    pred = self.dec.predict(source_last_state, self.max_pred_len)\n",
        "    return pred"
      ]
    },
    {
      "cell_type": "markdown",
      "id": "southeast-announcement",
      "metadata": {
        "id": "southeast-announcement"
      },
      "source": [
        "### Training\n",
        "\n",
        "A basic training script is provided below. You can make modifications as appropriate.\n",
        "\n",
        "To get full credit, your model should **achieve at least 35% validation accuracy**."
      ]
    },
    {
      "cell_type": "code",
      "execution_count": 35,
      "id": "legendary-alliance",
      "metadata": {
        "id": "legendary-alliance",
        "colab": {
          "base_uri": "https://localhost:8080/"
        },
        "outputId": "5bf9eee0-169f-4b84-be81-d81ef12409d9"
      },
      "outputs": [
        {
          "output_type": "stream",
          "name": "stdout",
          "text": [
            "Train Epoch:   0 \t Loss: 7.133966 \t Val Acc: 0.052090\n",
            "Train Epoch:   1 \t Loss: 3.185253 \t Val Acc: 19.069323\n",
            "Train Epoch:   2 \t Loss: 2.425464 \t Val Acc: 22.316274\n",
            "Train Epoch:   3 \t Loss: 2.075313 \t Val Acc: 25.684768\n",
            "Train Epoch:   4 \t Loss: 1.992460 \t Val Acc: 26.618049\n",
            "Train Epoch:   5 \t Loss: 1.290207 \t Val Acc: 28.332682\n",
            "Train Epoch:   6 \t Loss: 1.031668 \t Val Acc: 29.865000\n",
            "Train Epoch:   7 \t Loss: 0.857662 \t Val Acc: 31.544906\n",
            "Train Epoch:   8 \t Loss: 0.580557 \t Val Acc: 32.052785\n",
            "Train Epoch:   9 \t Loss: 0.457451 \t Val Acc: 32.742979\n",
            "Train Epoch:  10 \t Loss: 0.303347 \t Val Acc: 33.915006\n",
            "Train Epoch:  11 \t Loss: 0.200365 \t Val Acc: 34.019187\n",
            "Train Epoch:  12 \t Loss: 0.137590 \t Val Acc: 34.891696\n",
            "Train Epoch:  13 \t Loss: 0.080101 \t Val Acc: 35.516777\n",
            "Train Epoch:  14 \t Loss: 0.050161 \t Val Acc: 35.673048\n",
            "Train Epoch:  15 \t Loss: 0.053622 \t Val Acc: 36.050701\n",
            "Train Epoch:  16 \t Loss: 0.039536 \t Val Acc: 36.154881\n",
            "Train Epoch:  17 \t Loss: 0.023776 \t Val Acc: 36.150540\n",
            "Train Epoch:  18 \t Loss: 0.027065 \t Val Acc: 36.979641\n",
            "Train Epoch:  19 \t Loss: 0.023482 \t Val Acc: 36.493467\n",
            "Train Epoch:  20 \t Loss: 0.012983 \t Val Acc: 37.053436\n",
            "Train Epoch:  21 \t Loss: 0.022195 \t Val Acc: 37.287841\n",
            "Train Epoch:  22 \t Loss: 0.014463 \t Val Acc: 37.075140\n",
            "Train Epoch:  23 \t Loss: 0.114321 \t Val Acc: 33.255198\n",
            "Train Epoch:  24 \t Loss: 0.153284 \t Val Acc: 32.078830\n",
            "Train Epoch:  25 \t Loss: 0.045374 \t Val Acc: 34.505361\n",
            "Train Epoch:  26 \t Loss: 0.015365 \t Val Acc: 35.694752\n",
            "Train Epoch:  27 \t Loss: 0.008068 \t Val Acc: 36.641056\n",
            "Train Epoch:  28 \t Loss: 0.005967 \t Val Acc: 37.322568\n",
            "Train Epoch:  29 \t Loss: 0.006686 \t Val Acc: 37.708903\n",
            "Train Epoch:  30 \t Loss: 0.012916 \t Val Acc: 37.474498\n",
            "Train Epoch:  31 \t Loss: 0.003776 \t Val Acc: 38.012762\n",
            "Train Epoch:  32 \t Loss: 0.003284 \t Val Acc: 38.151669\n",
            "Train Epoch:  33 \t Loss: 0.002949 \t Val Acc: 37.504883\n",
            "Train Epoch:  34 \t Loss: 0.002691 \t Val Acc: 37.869514\n",
            "Train Epoch:  35 \t Loss: 0.002638 \t Val Acc: 37.912923\n",
            "Train Epoch:  36 \t Loss: 0.008259 \t Val Acc: 38.121283\n",
            "Train Epoch:  37 \t Loss: 0.002008 \t Val Acc: 37.995399\n",
            "Train Epoch:  38 \t Loss: 0.001744 \t Val Acc: 38.138647\n",
            "Train Epoch:  39 \t Loss: 0.001781 \t Val Acc: 38.134306\n",
            "Train Epoch:  40 \t Loss: 0.052656 \t Val Acc: 36.641056\n",
            "Train Epoch:  41 \t Loss: 0.274572 \t Val Acc: 30.233971\n",
            "Train Epoch:  42 \t Loss: 0.055241 \t Val Acc: 33.437514\n",
            "Train Epoch:  43 \t Loss: 0.014984 \t Val Acc: 35.651343\n",
            "Train Epoch:  44 \t Loss: 0.010191 \t Val Acc: 35.590572\n",
            "Train Epoch:  45 \t Loss: 0.003845 \t Val Acc: 36.033338\n",
            "Train Epoch:  46 \t Loss: 0.003191 \t Val Acc: 36.601988\n",
            "Train Epoch:  47 \t Loss: 0.002990 \t Val Acc: 36.458740\n",
            "Train Epoch:  48 \t Loss: 0.002632 \t Val Acc: 36.610670\n",
            "Train Epoch:  49 \t Loss: 0.002261 \t Val Acc: 36.432695\n"
          ]
        }
      ],
      "source": [
        "torch.manual_seed(0)\n",
        "\n",
        "batch_size = 40\n",
        "num_epochs = 50\n",
        "learning_rates = 1e-3  # TODO\n",
        "weight_decays =  1e-7 # TODO\n",
        "\n",
        "embedding_dim = 256\n",
        "hidden_size = 512\n",
        "\n",
        "source_vocab, target_vocab, train_loader, val_loader = get_data_loader(\n",
        "  source_text, target_text, batch_size)\n",
        "\n",
        "model = NMT_LSTM(source_vocab.size, target_vocab.size, embedding_dim, hidden_size, MAX_LEN + 1)\n",
        "model = model.cuda()\n",
        "\n",
        "model, loss_history = train(model, train_loader, val_loader, num_epochs, learning_rates, weight_decays)"
      ]
    },
    {
      "cell_type": "code",
      "execution_count": 36,
      "id": "comparable-longer",
      "metadata": {
        "id": "comparable-longer",
        "colab": {
          "base_uri": "https://localhost:8080/",
          "height": 696
        },
        "outputId": "852543ff-db69-4fbb-ecba-73bdb8f2964a"
      },
      "outputs": [
        {
          "output_type": "display_data",
          "data": {
            "text/plain": [
              "<Figure size 1000x800 with 1 Axes>"
            ],
            "image/png": "[encoded data removed]"
          },
          "metadata": {}
        }
      ],
      "source": [
        "plt.plot(loss_history, 'o')\n",
        "plt.xlabel('Iteration number')\n",
        "plt.ylabel('Loss value')\n",
        "plt.show()"
      ]
    },
    {
      "cell_type": "code",
      "execution_count": 37,
      "id": "dietary-croatia",
      "metadata": {
        "id": "dietary-croatia",
        "colab": {
          "base_uri": "https://localhost:8080/"
        },
        "outputId": "9955e6ff-a124-42b3-cb21-925417197ec9"
      },
      "outputs": [
        {
          "output_type": "stream",
          "name": "stdout",
          "text": [
            "=== Sample 1 ===\n",
            "source_sentence: ['je', 'veux', 'devenir', 'amie', 'avec', 'votre', 's', 'ur', '.', 'pad', 'pad', 'pad', 'pad', 'pad', 'pad', 'pad']\n",
            "target_sentence: ['bos', 'i', 'want', 'to', 'make', 'friends', 'with', 'your', 'sister', '.', 'eos', 'pad', 'pad', 'pad', 'pad', 'pad', 'pad', 'pad']\n",
            "pred_sentence:   ['i', 'want', 'to', 'make', 'friends', 'with', 'your', 'sister', '.', 'eos', '.', 'eos', 'eos', '.', 'eos', 'eos', '.']\n",
            "=== Sample 2 ===\n",
            "source_sentence: ['il', 'passe', 'ses', 'unk', 'face', 'a', 'son', 'ordinateur', 'unk', '.', 'pad', 'pad', 'pad', 'pad', 'pad', 'pad']\n",
            "target_sentence: ['bos', 'he', 'spends', 'his', 'unk', 'in', 'front', 'of', 'his', 'unk', '.', 'eos', 'pad', 'pad', 'pad', 'pad', 'pad', 'pad']\n",
            "pred_sentence:   ['he', 'spends', 'his', 'unk', 'in', 'front', 'of', 'his', 'unk', '.', 'eos', '.', 'eos', '.', 'eos', 'eos', '.']\n",
            "=== Sample 3 ===\n",
            "source_sentence: ['je', 'voulais', 'seulement', 'des', 'conseils', 'unk', 'de', 'quelqu', 'un', 'qui', 'a', 'deja', 'ete', 'a', 'boston', '.']\n",
            "target_sentence: ['bos', 'i', 'just', 'wanted', 'some', 'advice', 'from', 'someone', 'who', 's', 'already', 'been', 'to', 'boston', '.', 'eos', 'pad', 'pad']\n",
            "pred_sentence:   ['i', 'just', 'wanted', 'to', 'get', 'a', 'unk', 'problem', 'from', 'someone', 'else', '.', 'eos', 'eos', '.', 'eos', 'eos']\n",
            "=== Sample 4 ===\n",
            "source_sentence: ['il', 'est', 'tombe', 'sur', 'la', 'glace', 'et', 's', 'est', 'blesse', 'la', 'jambe', '.', 'pad', 'pad', 'pad']\n",
            "target_sentence: ['bos', 'he', 'fell', 'down', 'on', 'the', 'ice', 'and', 'hurt', 'his', 'leg', '.', 'eos', 'pad', 'pad', 'pad', 'pad', 'pad']\n",
            "pred_sentence:   ['he', 'fell', 'down', 'on', 'the', 'ice', 'and', 'hurt', 'his', 'leg', '.', 'eos', 'eos', '.', 'eos', 'eos', '.']\n",
            "=== Sample 5 ===\n",
            "source_sentence: ['la', 'unk', 'unk', 'une', 'petite', 'unk', 'unk', 'sur', 'mon', 'bras', '.', 'pad', 'pad', 'pad', 'pad', 'pad']\n",
            "target_sentence: ['bos', 'the', 'unk', 'left', 'a', 'funny', 'little', 'unk', 'on', 'my', 'arm', '.', 'eos', 'pad', 'pad', 'pad', 'pad', 'pad']\n",
            "pred_sentence:   ['the', 'unk', 'unk', 'a', 'unk', 'on', 'my', 'arm', '.', 'eos', '.', 'eos', 'eos', '.', 'eos', 'eos', '.']\n",
            "Training Accuracy: 87.20571854959934\n"
          ]
        }
      ],
      "source": [
        "train_acc = eval_acc(model, train_loader)\n",
        "print('Training Accuracy:', train_acc)"
      ]
    },
    {
      "cell_type": "code",
      "execution_count": 38,
      "id": "7cb860bd",
      "metadata": {
        "id": "7cb860bd",
        "colab": {
          "base_uri": "https://localhost:8080/"
        },
        "outputId": "020cfdb6-c004-4329-97c2-47f21eb15192"
      },
      "outputs": [
        {
          "output_type": "stream",
          "name": "stdout",
          "text": [
            "=== Sample 1 ===\n",
            "source_sentence: ['j', 'ai', 'pris', 'certaines', 'unk', 'unk', '.', 'j', 'espere', 'que', 'ca', 'ne', 'vous', 'derange', 'pas', '.']\n",
            "target_sentence: ['bos', 'i', 'took', 'some', 'unk', 'unk', '.', 'i', 'hope', 'you', 'don', 't', 'mind', '.', 'eos', 'pad', 'pad', 'pad']\n",
            "pred_sentence:   ['i', 'unk', 'a', 'unk', 'before', 'i', 'haven', 't', 'paid', 'you', '.', 'eos', 'eos', '.', 'eos', '.', 'eos']\n",
            "=== Sample 2 ===\n",
            "source_sentence: ['tom', 'devrait', 'faire', 'savoir', 'a', 'mary', 'qu', 'il', 'l', 'apprecie', '.', 'pad', 'pad', 'pad', 'pad', 'pad']\n",
            "target_sentence: ['bos', 'tom', 'should', 'let', 'mary', 'know', 'that', 'he', 'likes', 'her', '.', 'eos', 'pad', 'pad', 'pad', 'pad', 'pad', 'pad']\n",
            "pred_sentence:   ['tom', 'unk', 'to', 'know', 'that', 'he', 'should', 'quit', '.', 'eos', '.', 'eos', '.', 'eos', '.', 'eos', 'eos']\n",
            "=== Sample 3 ===\n",
            "source_sentence: ['je', 'fais', 'attention', 'a', 'ne', 'pas', 'trop', 'depenser', '.', 'pad', 'pad', 'pad', 'pad', 'pad', 'pad', 'pad']\n",
            "target_sentence: ['bos', 'i', 'm', 'careful', 'not', 'to', 'spend', 'too', 'much', '.', 'eos', 'pad', 'pad', 'pad', 'pad', 'pad', 'pad', 'pad']\n",
            "pred_sentence:   ['i', 'm', 'too', 'unk', 'to', 'not', 'my', 'french', '.', 'eos', 'eos', '.', 'eos', 'eos', '.', 'eos', 'eos']\n",
            "=== Sample 4 ===\n",
            "source_sentence: ['le', 'unk', 'ne', 'tombe', 'jamais', 'loin', 'de', 'l', 'arbre', '.', 'pad', 'pad', 'pad', 'pad', 'pad', 'pad']\n",
            "target_sentence: ['bos', 'the', 'apple', 'does', 'not', 'fall', 'far', 'from', 'the', 'tree', '.', 'eos', 'pad', 'pad', 'pad', 'pad', 'pad', 'pad']\n",
            "pred_sentence:   ['the', 'apple', 'doesn', 't', 'fall', 'far', 'from', 'the', 'tree', '.', 'eos', '.', 'eos', 'eos', '.', 'eos', 'eos']\n",
            "=== Sample 5 ===\n",
            "source_sentence: ['les', 'amis', 'de', 'tom', 'ont', 'essaye', 'de', 'lui', 'unk', 'le', 'unk', '.', 'pad', 'pad', 'pad', 'pad']\n",
            "target_sentence: ['bos', 'tom', 's', 'friends', 'tried', 'to', 'unk', 'him', 'up', '.', 'eos', 'pad', 'pad', 'pad', 'pad', 'pad', 'pad', 'pad']\n",
            "pred_sentence:   ['tom', 'unk', 'to', 'find', 'out', 'the', 'unk', '.', 'eos', 'eos', '.', 'eos', 'eos', '.', 'eos', 'eos', '.']\n",
            "Validation Accuracy: 36.254720666753485\n"
          ]
        }
      ],
      "source": [
        "val_acc = eval_acc(model, val_loader)\n",
        "print('Validation Accuracy:', val_acc)"
      ]
    },
    {
      "cell_type": "markdown",
      "id": "8cd50bfe",
      "metadata": {
        "id": "8cd50bfe"
      },
      "source": [
        "The following grading cells will assign partial credit based on the validation accuracy. Please do not remove.\n",
        "- ${\\geq} 35\\%$: 25 points\n",
        "- $32\\% {\\sim} 35\\%$: 20 points\n",
        "- $28\\% {\\sim} 32\\%$: 15 points\n",
        "- $24\\% {\\sim} 28\\%$: 10 points\n",
        "- $20\\% {\\sim} 24\\%$: 5 points\n",
        "- ${<} 20\\%$: no credit"
      ]
    },
    {
      "cell_type": "code",
      "execution_count": 39,
      "id": "d31b14ab",
      "metadata": {
        "deletable": false,
        "editable": false,
        "nbgrader": {
          "cell_type": "code",
          "checksum": "38780d44417fde5c95d5fc7d728c32ef",
          "grade": true,
          "grade_id": "cell-c262d0c95465d8d7",
          "locked": true,
          "points": 5,
          "schema_version": 3,
          "solution": false,
          "task": false
        },
        "id": "d31b14ab"
      },
      "outputs": [],
      "source": [
        "# Grading cell. Do not remove."
      ]
    },
    {
      "cell_type": "code",
      "execution_count": 40,
      "id": "39d31839",
      "metadata": {
        "deletable": false,
        "editable": false,
        "nbgrader": {
          "cell_type": "code",
          "checksum": "98e5f814ca2d028795e7f503aeb9674c",
          "grade": true,
          "grade_id": "cell-05729c274f2700a8",
          "locked": true,
          "points": 5,
          "schema_version": 3,
          "solution": false,
          "task": false
        },
        "id": "39d31839"
      },
      "outputs": [],
      "source": [
        "# Grading cell. Do not remove."
      ]
    },
    {
      "cell_type": "code",
      "execution_count": 41,
      "id": "0a7c1318",
      "metadata": {
        "deletable": false,
        "editable": false,
        "nbgrader": {
          "cell_type": "code",
          "checksum": "736c78a49997875baf550d7ba8151931",
          "grade": true,
          "grade_id": "cell-9424f1416023ca04",
          "locked": true,
          "points": 5,
          "schema_version": 3,
          "solution": false,
          "task": false
        },
        "id": "0a7c1318"
      },
      "outputs": [],
      "source": [
        "# Grading cell. Do not remove."
      ]
    },
    {
      "cell_type": "code",
      "execution_count": 42,
      "id": "1a850707",
      "metadata": {
        "deletable": false,
        "editable": false,
        "nbgrader": {
          "cell_type": "code",
          "checksum": "3ef390452c204db735593d9de3766a0a",
          "grade": true,
          "grade_id": "cell-5e50f6817ae13831",
          "locked": true,
          "points": 5,
          "schema_version": 3,
          "solution": false,
          "task": false
        },
        "id": "1a850707"
      },
      "outputs": [],
      "source": [
        "# Grading cell. Do not remove."
      ]
    },
    {
      "cell_type": "code",
      "execution_count": 43,
      "id": "292e0b62",
      "metadata": {
        "deletable": false,
        "editable": false,
        "nbgrader": {
          "cell_type": "code",
          "checksum": "ca034e7eb19e43c521c0f3a205371da5",
          "grade": true,
          "grade_id": "cell-852743195ca1850b",
          "locked": true,
          "points": 5,
          "schema_version": 3,
          "solution": false,
          "task": false
        },
        "id": "292e0b62"
      },
      "outputs": [],
      "source": [
        "# Grading cell. Do not remove."
      ]
    },
    {
      "cell_type": "markdown",
      "id": "final-vessel",
      "metadata": {
        "id": "final-vessel"
      },
      "source": [
        "## Sequence to Sequence with Attention (35 points)\n",
        "\n",
        "So far we have been compressing the entire source sentence into some fixed-length encoding vector, from which the decoder needs to extract relevant information to predict each target word. However, as suggested in this [paper](https://arxiv.org/pdf/1409.0473.pdf), such a fixed-length encoding can become a bottleneck when the sentence gets longer. A better approach would be to let the decoder have direct access to the encoder hidden states at all steps. This allows the decoder to focus on relevant words in the source sentence more easily when predicting a target word.\n",
        "\n",
        "<img src=\"https://guillaumegenthial.github.io/assets/img2latex/seq2seq_attention_mechanism_new.svg\" width=800>\n",
        "\n",
        "As depicted above, at each step $t$, the decoder uses its previous hidden state $h_{t-1}^\\text{dec}$ to compute an attention score $\\alpha_{t, i}$ for each word $i$ in the source sentence:\n",
        "$$\n",
        "\\alpha_{t, i} = f(h_{t-1}^\\text{dec}, h_i^\\text{enc}).\n",
        "$$\n",
        "Then, a context vector $c_t$ is computed by a weighted sum of the encoder hidden states:\n",
        "$$\n",
        "\\bar{\\alpha}_{t, :} = \\text{softmax}(\\alpha_{t, :}),\n",
        "$$\n",
        "$$\n",
        "c_t = \\sum_i \\bar{\\alpha}_{t, i} h_i^\\text{enc}.\n",
        "$$\n",
        "This context vector is expected to capture the most relevant information for prediction at step $t$. Hence, it is concatenated with the original decoder input $x_t$ and fed to the decoder LSTM:\n",
        "$$\n",
        "h_t^\\text{dec} = \\text{LSTM}^\\text{dec}(h_{t-1}^\\text{dec}, \\text{concat}[x_t, c_t]).\n",
        "$$\n",
        "The predicted distribution $p_t$ for the next word is computed by a fully connected layer $g(\\cdot)$:\n",
        "$$\n",
        "p_t = g(\\text{concat}[h_t^\\text{dec}, x_t, c_t]).\n",
        "$$"
      ]
    },
    {
      "cell_type": "markdown",
      "id": "artificial-paintball",
      "metadata": {
        "id": "artificial-paintball"
      },
      "source": [
        "Let us first implement the attention mechanism. This includes the scoring function $f(\\cdot, \\cdot)$ and the $\\text{softmax}(\\cdot)$. Since the padding tokens do not contain any useful information, they should be masked out in the softmax. Implement the `masked_softmax()` function below that computes softmax after masking out the padding tokens:"
      ]
    },
    {
      "cell_type": "code",
      "execution_count": 44,
      "id": "retired-inspiration",
      "metadata": {
        "deletable": false,
        "nbgrader": {
          "cell_type": "code",
          "checksum": "42d7b55fcbe845bd58e5ff525b58d425",
          "grade": false,
          "grade_id": "cell-ba767eb8b78e8f86",
          "locked": false,
          "schema_version": 3,
          "solution": true,
          "task": false
        },
        "id": "retired-inspiration"
      },
      "outputs": [],
      "source": [
        "def masked_softmax(attention_scores, valid_len):\n",
        "  \"\"\"\n",
        "  Inputs:\n",
        "  - attention_scores: A PyTorch tensor of shape (batch_size, max_seq_len)\n",
        "    containing the unnormalized per-token attention scores for a mini-batch of sequences,\n",
        "    each padded to `max_seq_len`. The scores are to be normalized\n",
        "    across the non-padding tokens within each sequence.\n",
        "  - valid_len: A LongTensor of shape (batch_size,)\n",
        "    containing the number of non-padding tokens for each sequence.\n",
        "  \n",
        "  Returns:\n",
        "  - attention_weights: A PyTorch tensor of shape (batch_size, max_seq_len)\n",
        "    containing the normalized per-token attention weights. For each sequence,\n",
        "    the sum of attention weights over non-padding tokens should be (approximately) 1,\n",
        "    while the attention weights for padding tokens should be (approximately) 0.\n",
        "  \"\"\"\n",
        "  mask_value = -1e9\n",
        "  #########################################################################\n",
        "  # TODO:                                                                 #\n",
        "  # Replace attention scores at padding tokens with `mask_value`,         #\n",
        "  # then compute softmax.                                                 #\n",
        "  #########################################################################\n",
        "  # Replace \"pass\" statement with your code\n",
        "  mask = torch.arange(0, attention_scores.shape[-1]).repeat(attention_scores.shape[0], 1)\n",
        "  mask = mask.to(valid_len.device)\n",
        "\n",
        "  mask = (mask < valid_len.unsqueeze(-1)).float()\n",
        "  \n",
        "\n",
        "  attention_scores = attention_scores.masked_fill_(mask == 0, mask_value)\n",
        "\n",
        "  attention_weights = F.softmax(attention_scores, dim=-1)\n",
        "  # END OF YOUR CODE\n",
        "  return attention_weights"
      ]
    },
    {
      "cell_type": "markdown",
      "id": "passing-chrome",
      "metadata": {
        "id": "passing-chrome"
      },
      "source": [
        "We will use the following helper function to check your results:"
      ]
    },
    {
      "cell_type": "code",
      "execution_count": 45,
      "id": "smart-smell",
      "metadata": {
        "deletable": false,
        "editable": false,
        "nbgrader": {
          "cell_type": "code",
          "checksum": "bf0b8d4eda0e0ae7cffaa398a43e9e79",
          "grade": false,
          "grade_id": "cell-e3bdcd8a834393ea",
          "locked": true,
          "schema_version": 3,
          "solution": false,
          "task": false
        },
        "id": "smart-smell"
      },
      "outputs": [],
      "source": [
        "def check_masked_softmax(batch_size, max_seq_len):\n",
        "  \n",
        "  torch.manual_seed(0)\n",
        "  attention_scores = torch.empty(batch_size, max_seq_len).normal_()\n",
        "  valid_len = torch.randint(1, max_seq_len + 1, (batch_size,))\n",
        "  \n",
        "  attention_weights = masked_softmax(attention_scores, valid_len)\n",
        "  \n",
        "  attention_weights_cumsum = attention_weights.cumsum(dim=-1)\n",
        "  \n",
        "  attention_weights_cumsum_all = attention_weights_cumsum[:, -1]\n",
        "  attention_weights_cumsum_valid = attention_weights_cumsum[torch.arange(batch_size), valid_len - 1]\n",
        "  \n",
        "  assert (attention_weights >= 0).all()\n",
        "  assert max_diff(attention_weights_cumsum_all, 1) < 1e-5\n",
        "  assert max_diff(attention_weights_cumsum_valid, 1) < 1e-5\n",
        "  print('Test passed')"
      ]
    },
    {
      "cell_type": "code",
      "execution_count": 46,
      "id": "32b9a340",
      "metadata": {
        "deletable": false,
        "editable": false,
        "nbgrader": {
          "cell_type": "code",
          "checksum": "00169f3b2226e74cab2f031063876467",
          "grade": true,
          "grade_id": "cell-33c5dca90be0ee58",
          "locked": true,
          "points": 1,
          "schema_version": 3,
          "solution": false,
          "task": false
        },
        "id": "32b9a340",
        "colab": {
          "base_uri": "https://localhost:8080/"
        },
        "outputId": "e225ba38-a287-4a94-fa43-9be684884fc9"
      },
      "outputs": [
        {
          "output_type": "stream",
          "name": "stdout",
          "text": [
            "Test passed\n"
          ]
        }
      ],
      "source": [
        "check_masked_softmax(batch_size=1, max_seq_len=1)"
      ]
    },
    {
      "cell_type": "code",
      "execution_count": 47,
      "id": "creative-shock",
      "metadata": {
        "deletable": false,
        "editable": false,
        "nbgrader": {
          "cell_type": "code",
          "checksum": "0d2452418815722783d2e5572fcb08d1",
          "grade": true,
          "grade_id": "cell-0e9a724c184ff799",
          "locked": true,
          "points": 4,
          "schema_version": 3,
          "solution": false,
          "task": false
        },
        "id": "creative-shock",
        "colab": {
          "base_uri": "https://localhost:8080/"
        },
        "outputId": "e1f43b9d-d62a-468e-ce9e-f4758484b2b4"
      },
      "outputs": [
        {
          "output_type": "stream",
          "name": "stdout",
          "text": [
            "Test passed\n"
          ]
        }
      ],
      "source": [
        "check_masked_softmax(batch_size=64, max_seq_len=32)"
      ]
    },
    {
      "cell_type": "markdown",
      "id": "white-consensus",
      "metadata": {
        "id": "white-consensus"
      },
      "source": [
        "Next, we will implement the scoring function as an MLP with one hidden layer. Consider the general setting where we are given a set of key-value pairs $\\{(k_i, v_i)\\}$ and a query $q$. The attention scores can be computed as:\n",
        "$$\n",
        "\\alpha(q, k_i) = w^\\top \\text{tanh}(W_q q + W_k k_i + b),\n",
        "$$\n",
        "where $w$, $W_q$, $W_k$, and $b$ are learnable parameters, and the dimension of $w$ is the hidden size of the MLP.\n",
        "\n",
        "The attention output is a weighted sum of values:\n",
        "$$\n",
        "c = \\sum_i \\bar{\\alpha}(q, k_i) v_i,\n",
        "$$\n",
        "where $\\bar{\\alpha}(q, k_i)$ is the normalized attention weights."
      ]
    },
    {
      "cell_type": "code",
      "execution_count": 48,
      "id": "affected-reader",
      "metadata": {
        "deletable": false,
        "nbgrader": {
          "cell_type": "code",
          "checksum": "d5ff12524b868ada7c6d51a2d8db6ec8",
          "grade": false,
          "grade_id": "cell-2df3d66464cd400a",
          "locked": false,
          "schema_version": 3,
          "solution": true,
          "task": false
        },
        "id": "affected-reader"
      },
      "outputs": [],
      "source": [
        "class MLP_Attention(nn.Module):\n",
        "  \n",
        "  def __init__(self, query_dim, key_dim, hidden_size):\n",
        "    super().__init__()\n",
        "    #########################################################################\n",
        "    # TODO:                                                                 #\n",
        "    # Set up the module components.                                         #\n",
        "    #########################################################################\n",
        "    # Replace \"pass\" statement with your code\n",
        "    self.W_q = nn.Linear(query_dim, hidden_size)\n",
        "    self.W_k = nn.Linear(key_dim, hidden_size)\n",
        "    self.w = nn.Linear(hidden_size, 1)\n",
        "    self.tanh = nn.Tanh()\n",
        "    self.softmax = nn.Softmax(dim=-1)\n",
        "    self.hidden_size = hidden_size\n",
        "    # END OF YOUR CODE\n",
        "  \n",
        "  \n",
        "  def forward(self, query, keys, values, valid_len):\n",
        "    # type: (Tensor, Tensor, Tensor, Tensor) -> Tensor\n",
        "    \"\"\"\n",
        "    Inputs:\n",
        "    - query: A PyTorch tensor of shape (batch_size, query_dim).\n",
        "    - keys: A PyTorch tensor of shape (batch_size, max_seq_len, key_dim)\n",
        "      containing the per-token keys for a mini-batch of sequences,\n",
        "      each padded to `max_seq_len`.\n",
        "    - values: A PyTorch tensor of shape (batch_size, max_seq_len, value_dim)\n",
        "      containing the per-token values for a mini-batch of sequences,\n",
        "      each padded to `max_seq_len`.\n",
        "    - valid_len: A LongTensor of shape (batch_size,)\n",
        "      containing the number of non-padding tokens for each sequence.\n",
        "    \n",
        "    Returns:\n",
        "    - attention: A PyTorch tensor of shape (batch_size, value_dim)\n",
        "      containing the weighted sum of values, where the weights are\n",
        "      computed by MLP attention over the non-padding tokens.\n",
        "    \"\"\"\n",
        "    #########################################################################\n",
        "    # TODO:                                                                 #\n",
        "    # Implement the forward pass without explicit loops.                    #\n",
        "    #########################################################################\n",
        "    # Replace \"pass\" statement with your code\n",
        "    # type: (Tensor, Tensor, Tensor, Tensor) -> Tensor\n",
        "    q = self.W_q(query).view(-1, 1, self.hidden_size)  # (batch_size, 1, hidden_size)\n",
        "    k = self.W_k(keys)  # (batch_size, max_seq_len, hidden_size)\n",
        "\n",
        "    batch_size, max_seq_len, hidden_size = k.shape\n",
        "    q_broadcasted = q.expand(batch_size, max_seq_len, hidden_size)  # (batch_size, max_seq_len, hidden_size)\n",
        "\n",
        "    attention_scores = self.w(self.tanh(q_broadcasted + k)).squeeze(-1)  # (batch_size, max_seq_len)\n",
        "\n",
        "    attention_weights = masked_softmax(attention_scores, valid_len)  # (batch_size, max_seq_len)\n",
        "\n",
        "    attention_output = torch.bmm(attention_weights.unsqueeze(1), values).squeeze(1)  # (batch_size, value_dim)\n",
        "    # END OF YOUR CODE\n",
        "    \n",
        "    return attention_output"
      ]
    },
    {
      "cell_type": "markdown",
      "id": "technical-sharp",
      "metadata": {
        "id": "technical-sharp"
      },
      "source": [
        "Now we can implement the seq2seq model with attention. Note that only the decoder needs to be changed. Implement `DecoderAttLSTM` below:"
      ]
    },
    {
      "cell_type": "code",
      "execution_count": 49,
      "id": "cultural-exception",
      "metadata": {
        "deletable": false,
        "nbgrader": {
          "cell_type": "code",
          "checksum": "0f493a6f7df2597b50b872c51211e6f1",
          "grade": false,
          "grade_id": "cell-b8f7b0ce55a520c0",
          "locked": false,
          "schema_version": 3,
          "solution": true,
          "task": false
        },
        "id": "cultural-exception"
      },
      "outputs": [],
      "source": [
        "class DecoderAttLSTM(nn.Module):\n",
        "  \n",
        "  def __init__(self, vocab_size, embedding_dim, hidden_size):\n",
        "    super().__init__()\n",
        "    #########################################################################\n",
        "    # TODO:                                                                 #\n",
        "    # Set up the decoder components.                                        #\n",
        "    #########################################################################\n",
        "    # Replace \"pass\" statement with your code\n",
        "    self.embedding = nn.Embedding(vocab_size, embedding_dim)\n",
        "    self.lstm = nn.LSTM(embedding_dim + hidden_size, hidden_size, batch_first=True)\n",
        "    self.attention = MLP_Attention(hidden_size, hidden_size, hidden_size)\n",
        "    self.fc = nn.Linear(hidden_size, vocab_size)\n",
        "    \n",
        "    # END OF YOUR CODE\n",
        "  \n",
        "  \n",
        "  def forward(self, target_text, target_len, source_last_state, source_hidden_states, source_len):\n",
        "    # type: (Tensor, Tensor, Tuple[Tensor, Tensor], Tensor, Tensor) -> Tensor\n",
        "    \"\"\"\n",
        "    Perform next word prediction and compute loss.\n",
        "    \n",
        "    Inputs:\n",
        "    - target_text: A LongTensor of shape (batch_size, target_seq_len)\n",
        "      containing a mini-batch of target sentences padded to `target_seq_len`.\n",
        "      Each token is represented by its index in the vocabulary.\n",
        "    - target_len: A LongTensor of shape (batch_size,)\n",
        "      containing the actual length of each target sentence (before being padded).\n",
        "    - source_last_state: A tuple of hidden state and cell state at the end of\n",
        "      each source sentence, both of shape (batch_size, hidden_size).\n",
        "    - source_hidden_states: A PyTorch tensor of shape (batch_size, source_seq_len, hidden_size)\n",
        "      containing the LSTM hidden state `ht` at each step t of the source sentences.\n",
        "    - source_len: A LongTensor of shape (batch_size,)\n",
        "      containing the actual length of each source sentence (before being padded).\n",
        "    \n",
        "    Returns:\n",
        "    - loss: A PyTorch scalar containing the loss for the mini-batch.\n",
        "    \"\"\"\n",
        "    #########################################################################\n",
        "    # TODO:                                                                 #\n",
        "    # Implement the forward pass.                                           #\n",
        "    #########################################################################\n",
        "    # Replace \"pass\" statement with your code\n",
        "    batch_size, target_seq_len = target_text.size()\n",
        "    embedded = self.embedding(target_text)  # (batch_size, target_seq_len, embedding_dim)\n",
        "\n",
        "    # Initialize the decoder hidden state and cell state\n",
        "    hidden_state, cell_state = source_last_state\n",
        "\n",
        "    loss = 0\n",
        "    for t in range(target_seq_len - 1):\n",
        "        # Compute the valid_len for masking attention scores\n",
        "        valid_len = (source_len > t).long()\n",
        "\n",
        "        # Pass source_hidden_states as both keys and values\n",
        "        context_vector = self.attention(hidden_state, source_hidden_states, source_hidden_states, valid_len)\n",
        "        lstm_input = torch.cat((embedded[:, t], context_vector), dim=1).unsqueeze(1)  # (batch_size, 1, embedding_dim + hidden_size)\n",
        "        output, (hidden_state, cell_state) = self.lstm(lstm_input, (hidden_state, cell_state))\n",
        "\n",
        "        output = output.squeeze(1)  # (batch_size, hidden_size)\n",
        "        logits = self.fc(output)  # (batch_size, vocab_size)\n",
        "        target_labels = target_text[:, t + 1]  # (batch_size, )\n",
        "\n",
        "        # Compute the cross-entropy loss and add it to the total loss\n",
        "        loss_t = F.cross_entropy(logits, target_labels, reduction='none')\n",
        "        mask = (t + 1 < target_len).float()\n",
        "        loss += (loss_t * mask).sum()\n",
        "\n",
        "    loss /= target_len.float().sum()\n",
        "    # END OF YOUR CODE\n",
        "    return loss\n",
        "  \n",
        "  \n",
        "  def predict(self, source_last_state, max_pred_len, source_hidden_states, source_len):\n",
        "    # type: (Tuple[Tensor, Tensor], int, Tensor, Tensor) -> Tensor\n",
        "    \"\"\"\n",
        "    Predict target sentences given the LSTM encoding of source sentences.\n",
        "    The predicted word at step t will be used as input for step t+1.\n",
        "    This is different from what is done in the forward pass.\n",
        "    \n",
        "    Inputs:\n",
        "    - source_last_state: A tuple of hidden state and cell state at the end of\n",
        "      each source sentence, both of shape (batch_size, hidden_size).\n",
        "    - max_pred_len: (int) number of prediction steps.\n",
        "    - source_hidden_states: A PyTorch tensor of shape (batch_size, source_seq_len, hidden_size)\n",
        "      containing the LSTM hidden state `ht` at each step t of the source sentences.\n",
        "    - source_len: A LongTensor of shape (batch_size,)\n",
        "      containing the actual length of each source sentence (before being padded).\n",
        "    \n",
        "    Returns:\n",
        "    - pred: A LongTensor of shape (batch_size, max_pred_len)\n",
        "      containing the predicted target sentences.\n",
        "      Each token is represented by its index in the vocabulary.\n",
        "    \"\"\"\n",
        "    #########################################################################\n",
        "    # TODO:                                                                 #\n",
        "    # Implement the prediction phase.                                       #\n",
        "    #########################################################################\n",
        "    # Replace \"pass\" statement with your code\n",
        "    batch_size = source_hidden_states.size(0)\n",
        "    device = source_hidden_states.device\n",
        "    \n",
        "    # Replace \"SOS_token\" with \"vocab.word2index['bos']\" in the following line\n",
        "    input_token = torch.tensor([target_vocab.word2index['bos']] * batch_size, device=device)\n",
        "    hidden_state, cell_state = source_last_state\n",
        "\n",
        "    pred = []\n",
        "    for t in range(max_pred_len):\n",
        "        # Compute the valid_len for masking attention scores\n",
        "        valid_len = (source_len > t).long()\n",
        "\n",
        "        # Pass source_hidden_states as both keys and values\n",
        "        context_vector = self.attention(hidden_state, source_hidden_states, source_hidden_states, valid_len)\n",
        "        embedded = self.embedding(input_token).unsqueeze(1)  # (batch_size, 1, embedding_dim)\n",
        "        lstm_input = torch.cat((embedded.squeeze(1), context_vector), dim=1).unsqueeze(1)  # (batch_size, 1, embedding_dim + hidden_size)\n",
        "        output, (hidden_state, cell_state) = self.lstm(lstm_input, (hidden_state, cell_state))\n",
        "\n",
        "        output = output.squeeze(1)  # (batch_size, hidden_size)\n",
        "        logits = self.fc(output)  # (batch_size, vocab_size)\n",
        "        predicted_token = torch.argmax(logits, dim=1)  # (batch_size,)\n",
        "        pred.append(predicted_token)\n",
        "        \n",
        "        input_token = predicted_token\n",
        "    \n",
        "    pred = torch.stack(pred, dim=1)  # (batch_size, max_pred_len)\n",
        "    # END OF YOUR CODE\n",
        "    return pred"
      ]
    },
    {
      "cell_type": "code",
      "execution_count": 50,
      "id": "lined-clothing",
      "metadata": {
        "deletable": false,
        "editable": false,
        "nbgrader": {
          "cell_type": "code",
          "checksum": "020ecce0b89a0c946aba02928b576a1c",
          "grade": false,
          "grade_id": "cell-0655e38c41673d2a",
          "locked": true,
          "schema_version": 3,
          "solution": false,
          "task": false
        },
        "id": "lined-clothing"
      },
      "outputs": [],
      "source": [
        "class NMT_AttLSTM(nn.Module):\n",
        "  \n",
        "  def __init__(self, source_vocab_size, target_vocab_size, embedding_dim, hidden_size, max_pred_len):\n",
        "    super().__init__()\n",
        "    \n",
        "    self.enc = EncoderLSTM(source_vocab_size, embedding_dim, hidden_size)\n",
        "    self.dec = DecoderAttLSTM(target_vocab_size, embedding_dim, hidden_size)\n",
        "    self.max_pred_len = max_pred_len\n",
        "    self.hidden_size = hidden_size\n",
        "  \n",
        "  def forward(self, source_text, source_len, target_text, target_len):\n",
        "    # type: (Tensor, Tensor, Tensor, Tensor) -> Tensor\n",
        "    \"\"\"\n",
        "    Perform next word prediction and compute loss.\n",
        "    \n",
        "    Inputs:\n",
        "    - source_text: A LongTensor of shape (batch_size, source_seq_len)\n",
        "      containing a mini-batch of source sentences padded to `source_seq_len`.\n",
        "      Each token is represented by its index in the vocabulary.\n",
        "    - source_len: A LongTensor of shape (batch_size,)\n",
        "      containing the actual length of each source sentence (before being padded).\n",
        "    - target_text: A LongTensor of shape (batch_size, target_seq_len)\n",
        "      containing a mini-batch of target sentences padded to `target_seq_len`.\n",
        "      Each token is represented by its index in the vocabulary.\n",
        "    - target_len: A LongTensor of shape (batch_size,)\n",
        "      containing the actual length of each target sentence (before being padded).\n",
        "    \n",
        "    Returns:\n",
        "    - loss: A PyTorch scalar containing the loss for the mini-batch.\n",
        "    \"\"\"\n",
        "    source_hidden_states, source_last_state = self.enc(source_text, source_len)\n",
        "    loss = self.dec(target_text, target_len, source_last_state, source_hidden_states, source_len)\n",
        "    return loss\n",
        "  \n",
        "  \n",
        "  def predict(self, source_text, source_len):\n",
        "    # type: (Tensor, Tensor) -> Tensor\n",
        "    \"\"\"\n",
        "    Predict the target sentence for each source sentence.\n",
        "    The predicted word at step t will be used as input for step t+1.\n",
        "    This is different from what is done in the forward pass.\n",
        "    \n",
        "    Inputs:\n",
        "    - source_text: A LongTensor of shape (batch_size, source_seq_len)\n",
        "      containing a mini-batch of source sentences padded to `source_seq_len`.\n",
        "      Each token is represented by its index in the vocabulary.\n",
        "    - source_len: A LongTensor of shape (batch_size,)\n",
        "      containing the actual length of each source sentence (before being padded).\n",
        "    \n",
        "    Returns:\n",
        "    - pred: A LongTensor of shape (batch_size, max_pred_len)\n",
        "      containing the predicted target sentences.\n",
        "      Each token is represented by its index in the vocabulary.\n",
        "    \"\"\"\n",
        "    source_hidden_states, source_last_state = self.enc(source_text, source_len)\n",
        "    pred = self.dec.predict(source_last_state, self.max_pred_len, source_hidden_states, source_len)\n",
        "    return pred"
      ]
    },
    {
      "cell_type": "markdown",
      "id": "medieval-horse",
      "metadata": {
        "id": "medieval-horse"
      },
      "source": [
        "### Training\n",
        "\n",
        "A basic training script is provided below. You can make modifications as appropriate.\n",
        "\n",
        "To get full credit, your model should **achieve at least 44% validation accuracy**."
      ]
    },
    {
      "cell_type": "code",
      "execution_count": 51,
      "id": "artificial-general",
      "metadata": {
        "id": "artificial-general",
        "colab": {
          "base_uri": "https://localhost:8080/"
        },
        "outputId": "eed05797-8015-4ebe-e8af-1cc27d0c24fa"
      },
      "outputs": [
        {
          "output_type": "stream",
          "name": "stdout",
          "text": [
            "Train Epoch:   0 \t Loss: 6.553029 \t Val Acc: 0.052611\n",
            "Train Epoch:   1 \t Loss: 2.926063 \t Val Acc: 21.179566\n",
            "Train Epoch:   2 \t Loss: 2.475785 \t Val Acc: 23.827902\n",
            "Train Epoch:   3 \t Loss: 2.165265 \t Val Acc: 26.503858\n",
            "Train Epoch:   4 \t Loss: 1.790613 \t Val Acc: 28.220536\n",
            "Train Epoch:   5 \t Loss: 1.604264 \t Val Acc: 29.297269\n",
            "Train Epoch:   6 \t Loss: 1.231791 \t Val Acc: 31.474418\n",
            "Train Epoch:   7 \t Loss: 1.066225 \t Val Acc: 33.567200\n",
            "Train Epoch:   8 \t Loss: 0.803495 \t Val Acc: 34.523131\n",
            "Train Epoch:   9 \t Loss: 0.652803 \t Val Acc: 35.013821\n",
            "Train Epoch:  10 \t Loss: 0.517092 \t Val Acc: 36.452122\n",
            "Train Epoch:  11 \t Loss: 0.358246 \t Val Acc: 37.438618\n",
            "Train Epoch:  12 \t Loss: 0.262682 \t Val Acc: 38.609565\n",
            "Train Epoch:  13 \t Loss: 0.191969 \t Val Acc: 39.053592\n",
            "Train Epoch:  14 \t Loss: 0.117430 \t Val Acc: 39.286028\n",
            "Train Epoch:  15 \t Loss: 0.096544 \t Val Acc: 39.932474\n",
            "Train Epoch:  16 \t Loss: 0.057863 \t Val Acc: 40.269074\n",
            "Train Epoch:  17 \t Loss: 0.050092 \t Val Acc: 40.332267\n",
            "Train Epoch:  18 \t Loss: 0.035724 \t Val Acc: 40.205236\n",
            "Train Epoch:  19 \t Loss: 0.030056 \t Val Acc: 40.283383\n",
            "Train Epoch:  20 \t Loss: 0.026486 \t Val Acc: 40.614858\n",
            "Train Epoch:  21 \t Loss: 0.018967 \t Val Acc: 40.612808\n",
            "Train Epoch:  22 \t Loss: 0.020664 \t Val Acc: 40.002631\n",
            "Train Epoch:  23 \t Loss: 0.014127 \t Val Acc: 40.630481\n",
            "Train Epoch:  24 \t Loss: 0.012691 \t Val Acc: 40.302499\n",
            "Train Epoch:  25 \t Loss: 0.015176 \t Val Acc: 40.693287\n",
            "Train Epoch:  26 \t Loss: 0.056745 \t Val Acc: 40.160519\n",
            "Train Epoch:  27 \t Loss: 0.168578 \t Val Acc: 36.263977\n",
            "Train Epoch:  28 \t Loss: 0.095944 \t Val Acc: 37.998333\n",
            "Train Epoch:  29 \t Loss: 0.058971 \t Val Acc: 40.157791\n",
            "Train Epoch:  30 \t Loss: 0.015319 \t Val Acc: 40.780531\n",
            "Train Epoch:  31 \t Loss: 0.009559 \t Val Acc: 41.301583\n",
            "Train Epoch:  32 \t Loss: 0.006461 \t Val Acc: 41.264690\n",
            "Train Epoch:  33 \t Loss: 0.005848 \t Val Acc: 41.340758\n",
            "Train Epoch:  34 \t Loss: 0.005355 \t Val Acc: 41.223917\n",
            "Train Epoch:  35 \t Loss: 0.004763 \t Val Acc: 41.394125\n",
            "Train Epoch:  36 \t Loss: 0.004211 \t Val Acc: 41.400631\n",
            "Train Epoch:  37 \t Loss: 0.003705 \t Val Acc: 41.422246\n",
            "Train Epoch:  38 \t Loss: 0.012072 \t Val Acc: 41.664109\n",
            "Train Epoch:  39 \t Loss: 0.005986 \t Val Acc: 41.325032\n",
            "Train Epoch:  40 \t Loss: 0.002815 \t Val Acc: 41.808851\n",
            "Train Epoch:  41 \t Loss: 0.002595 \t Val Acc: 41.388840\n",
            "Train Epoch:  42 \t Loss: 0.006038 \t Val Acc: 41.284524\n",
            "Train Epoch:  43 \t Loss: 0.003195 \t Val Acc: 41.732042\n",
            "Train Epoch:  44 \t Loss: 0.002098 \t Val Acc: 41.571999\n",
            "Train Epoch:  45 \t Loss: 0.001798 \t Val Acc: 41.489502\n",
            "Train Epoch:  46 \t Loss: 0.001876 \t Val Acc: 41.584462\n",
            "Train Epoch:  47 \t Loss: 0.001790 \t Val Acc: 41.613299\n",
            "Train Epoch:  48 \t Loss: 0.001625 \t Val Acc: 41.682022\n",
            "Train Epoch:  49 \t Loss: 0.002327 \t Val Acc: 41.296345\n"
          ]
        }
      ],
      "source": [
        "torch.manual_seed(0)\n",
        "\n",
        "batch_size = 60\n",
        "num_epochs = 50\n",
        "learning_rate = 1e-3  # TODO\n",
        "weight_decay = 1e-7  # TODO\n",
        "\n",
        "embedding_dim = 256\n",
        "hidden_size = 512\n",
        "\n",
        "source_vocab, target_vocab, train_loader, val_loader = get_data_loader(\n",
        "  source_text, target_text, batch_size)\n",
        "model = NMT_AttLSTM(source_vocab.size, target_vocab.size, embedding_dim, hidden_size, MAX_LEN + 1)\n",
        "model = model.cuda()\n",
        "\n",
        "model, loss_history = train(model, train_loader, val_loader, num_epochs, learning_rate, weight_decay)"
      ]
    },
    {
      "cell_type": "code",
      "execution_count": 52,
      "id": "confidential-saskatchewan",
      "metadata": {
        "id": "confidential-saskatchewan",
        "colab": {
          "base_uri": "https://localhost:8080/",
          "height": 696
        },
        "outputId": "23fd9244-a273-407e-85d1-cd49b5f7b8a6"
      },
      "outputs": [
        {
          "output_type": "display_data",
          "data": {
            "text/plain": [
              "<Figure size 1000x800 with 1 Axes>"
            ],
            "image/png": "[encoded data removed]"
          },
          "metadata": {}
        }
      ],
      "source": [
        "plt.plot(loss_history, 'o')\n",
        "plt.xlabel('Iteration number')\n",
        "plt.ylabel('Loss value')\n",
        "plt.show()"
      ]
    },
    {
      "cell_type": "code",
      "execution_count": 53,
      "id": "worthy-stewart",
      "metadata": {
        "id": "worthy-stewart",
        "colab": {
          "base_uri": "https://localhost:8080/"
        },
        "outputId": "0fc5c482-96bf-4ba5-c3f2-ce9cf178668f"
      },
      "outputs": [
        {
          "output_type": "stream",
          "name": "stdout",
          "text": [
            "=== Sample 1 ===\n",
            "source_sentence: ['il', 'y', 'a', 'beaucoup', 'd', 'energie', 'unk', 'dans', 'le', 'unk', '.', 'pad', 'pad', 'pad', 'pad', 'pad']\n",
            "target_sentence: ['bos', 'a', 'great', 'deal', 'of', 'energy', 'is', 'unk', 'up', 'in', 'the', 'unk', '.', 'eos', 'pad', 'pad', 'pad', 'pad']\n",
            "pred_sentence:   ['a', 'great', 'deal', 'of', 'energy', 'is', 'unk', 'up', 'in', 'the', 'unk', '.', 'eos', '.', 'eos', '.', 'eos']\n",
            "=== Sample 2 ===\n",
            "source_sentence: ['tom', 'parle', 'souvent', 'a', 'ses', 'parents', 'sur', 'unk', '.', 'pad', 'pad', 'pad', 'pad', 'pad', 'pad', 'pad']\n",
            "target_sentence: ['bos', 'tom', 'often', 'talks', 'to', 'his', 'parents', 'on', 'unk', '.', 'eos', 'pad', 'pad', 'pad', 'pad', 'pad', 'pad', 'pad']\n",
            "pred_sentence:   ['tom', 'often', 'talks', 'to', 'his', 'parents', 'on', 'unk', '.', 'eos', 'eos', '.', 'eos', 'eos', '.', 'eos', 'eos']\n",
            "=== Sample 3 ===\n",
            "source_sentence: ['il', 'est', 'impossible', 'de', 'vivre', 'sur', 'cette', 'unk', '.', 'pad', 'pad', 'pad', 'pad', 'pad', 'pad', 'pad']\n",
            "target_sentence: ['bos', 'it', 's', 'impossible', 'to', 'live', 'on', 'that', 'unk', '.', 'eos', 'pad', 'pad', 'pad', 'pad', 'pad', 'pad', 'pad']\n",
            "pred_sentence:   ['it', 's', 'impossible', 'to', 'live', 'on', 'that', 'unk', '.', 'eos', 'eos', '.', 'eos', 'eos', '.', 'eos', '.']\n",
            "=== Sample 4 ===\n",
            "source_sentence: ['les', 'unk', 'qui', 'unk', 'ne', 'sont', 'pas', 'faites', 'pour', 'les', 'unk', 'unk', '.', 'pad', 'pad', 'pad']\n",
            "target_sentence: ['bos', 'the', 'following', 'unk', 'are', 'not', 'for', 'the', 'unk', 'of', 'heart', '.', 'eos', 'pad', 'pad', 'pad', 'pad', 'pad']\n",
            "pred_sentence:   ['the', 'following', 'unk', 'are', 'not', 'for', 'the', 'unk', 'of', 'heart', '.', 'eos', 'eos', '.', 'eos', '.', 'eos']\n",
            "=== Sample 5 ===\n",
            "source_sentence: ['il', 'est', 'tombe', 'amoureux', 'de', 'sa', 'meilleure', 'amie', '.', 'pad', 'pad', 'pad', 'pad', 'pad', 'pad', 'pad']\n",
            "target_sentence: ['bos', 'he', 'fell', 'in', 'love', 'with', 'his', 'best', 'friend', '.', 'eos', 'pad', 'pad', 'pad', 'pad', 'pad', 'pad', 'pad']\n",
            "pred_sentence:   ['he', 'fell', 'in', 'love', 'with', 'his', 'best', 'friend', '.', 'eos', '.', 'eos', '.', 'eos', '.', 'eos', '.']\n",
            "Training Accuracy: 99.8243864365623\n"
          ]
        }
      ],
      "source": [
        "train_acc = eval_acc(model, train_loader)\n",
        "print('Training Accuracy:', train_acc)"
      ]
    },
    {
      "cell_type": "code",
      "execution_count": 54,
      "id": "728ac9b8",
      "metadata": {
        "id": "728ac9b8",
        "colab": {
          "base_uri": "https://localhost:8080/"
        },
        "outputId": "b9fa7db0-790c-45fa-f3a9-1b7735b20421"
      },
      "outputs": [
        {
          "output_type": "stream",
          "name": "stdout",
          "text": [
            "=== Sample 1 ===\n",
            "source_sentence: ['a', 'quelle', 'distance', 'se', 'trouve', 'le', 'prochain', 'village', '?', 'pad', 'pad', 'pad', 'pad', 'pad', 'pad', 'pad']\n",
            "target_sentence: ['bos', 'how', 'far', 'is', 'it', 'from', 'here', 'to', 'the', 'next', 'village', '?', 'eos', 'pad', 'pad', 'pad', 'pad', 'pad']\n",
            "pred_sentence:   ['what', 'time', 'does', 'the', 'unk', 'he', 'is', '?', 'eos', '?', 'eos', '.', 'eos', 'eos', '.', 'eos', 'eos']\n",
            "=== Sample 2 ===\n",
            "source_sentence: ['lorsque', 'j', 'etais', 'a', 'new', 'york', 'j', 'ai', 'rencontre', 'un', 'vieil', 'ami', '.', 'pad', 'pad', 'pad']\n",
            "target_sentence: ['bos', 'when', 'i', 'was', 'in', 'new', 'york', 'i', 'happened', 'to', 'meet', 'my', 'old', 'friend', '.', 'eos', 'pad', 'pad']\n",
            "pred_sentence:   ['when', 'i', 'was', 'a', 'child', 'i', 'used', 'to', 'a', 'unk', '.', 'eos', 'eos', '.', 'eos', 'eos', '.']\n",
            "=== Sample 3 ===\n",
            "source_sentence: ['ce', 'bureau', 'est', 'quelque', 'peu', 'trop', 'bas', 'pour', 'moi', '.', 'pad', 'pad', 'pad', 'pad', 'pad', 'pad']\n",
            "target_sentence: ['bos', 'this', 'unk', 'is', 'a', 'little', 'too', 'unk', 'for', 'me', '.', 'eos', 'pad', 'pad', 'pad', 'pad', 'pad', 'pad']\n",
            "pred_sentence:   ['this', 'is', 'is', 'too', 'tight', 'for', 'me', 'to', 'write', '.', 'eos', 'eos', '.', 'eos', 'eos', '.', 'eos']\n",
            "=== Sample 4 ===\n",
            "source_sentence: ['s', 'il', 'pleut', 'je', 'ne', 'unk', 'pas', 'ce', 'soir', '.', 'pad', 'pad', 'pad', 'pad', 'pad', 'pad']\n",
            "target_sentence: ['bos', 'if', 'it', 'is', 'raining', 'i', 'won', 't', 'go', 'out', 'tonight', '.', 'eos', 'pad', 'pad', 'pad', 'pad', 'pad']\n",
            "pred_sentence:   ['if', 'it', 'rains', 'tomorrow', 'i', 'won', 't', 'go', '.', 'eos', '.', 'eos', '.', 'eos', 'eos', '.', 'eos']\n",
            "=== Sample 5 ===\n",
            "source_sentence: ['je', 'serais', 'heureux', 'si', 'vous', 'pouviez', 'venir', 'avec', 'nous', '.', 'pad', 'pad', 'pad', 'pad', 'pad', 'pad']\n",
            "target_sentence: ['bos', 'i', 'd', 'be', 'happy', 'if', 'you', 'could', 'come', 'with', 'us', '.', 'eos', 'pad', 'pad', 'pad', 'pad', 'pad']\n",
            "pred_sentence:   ['i', 'd', 'be', 'delighted', 'if', 'you', 'could', 'come', 'with', 'us', '.', 'eos', 'eos', '.', 'eos', 'eos', '.']\n",
            "Validation Accuracy: 41.789736622989615\n"
          ]
        }
      ],
      "source": [
        "val_acc = eval_acc(model, val_loader)\n",
        "print('Validation Accuracy:', val_acc)"
      ]
    },
    {
      "cell_type": "markdown",
      "id": "758e4b93",
      "metadata": {
        "id": "758e4b93"
      },
      "source": [
        "The following grading cells will assign partial credit based on the validation accuracy. Please do not remove.\n",
        "- ${\\geq} 44\\%$: 30 points\n",
        "- $41\\% {\\sim} 44\\%$: 25 points\n",
        "- $37\\% {\\sim} 41\\%$: 20 points\n",
        "- $33\\% {\\sim} 37\\%$: 15 points\n",
        "- $29\\% {\\sim} 33\\%$: 10 points\n",
        "- $25\\% {\\sim} 29\\%$: 5 points\n",
        "- ${<} 25\\%$: no credit"
      ]
    },
    {
      "cell_type": "code",
      "execution_count": 55,
      "id": "17483385",
      "metadata": {
        "deletable": false,
        "editable": false,
        "nbgrader": {
          "cell_type": "code",
          "checksum": "b210f86741d711b2cd82b229cfcc53a3",
          "grade": true,
          "grade_id": "cell-f6f2716967f74401",
          "locked": true,
          "points": 5,
          "schema_version": 3,
          "solution": false,
          "task": false
        },
        "id": "17483385"
      },
      "outputs": [],
      "source": [
        "# Grading cell. Do not remove."
      ]
    },
    {
      "cell_type": "code",
      "execution_count": 56,
      "id": "b811b5d5",
      "metadata": {
        "deletable": false,
        "editable": false,
        "nbgrader": {
          "cell_type": "code",
          "checksum": "2a7226917aad4c0fc202099f9edfa69a",
          "grade": true,
          "grade_id": "cell-cd7426a8accf6825",
          "locked": true,
          "points": 5,
          "schema_version": 3,
          "solution": false,
          "task": false
        },
        "id": "b811b5d5"
      },
      "outputs": [],
      "source": [
        "# Grading cell. Do not remove."
      ]
    },
    {
      "cell_type": "code",
      "execution_count": 57,
      "id": "f13e538b",
      "metadata": {
        "deletable": false,
        "editable": false,
        "nbgrader": {
          "cell_type": "code",
          "checksum": "eba40575cceb134dbd9e9ccbab77bcb5",
          "grade": true,
          "grade_id": "cell-2b1156cde61be3c6",
          "locked": true,
          "points": 5,
          "schema_version": 3,
          "solution": false,
          "task": false
        },
        "id": "f13e538b"
      },
      "outputs": [],
      "source": [
        "# Grading cell. Do not remove."
      ]
    },
    {
      "cell_type": "code",
      "execution_count": 58,
      "id": "f33a8ed5",
      "metadata": {
        "deletable": false,
        "editable": false,
        "nbgrader": {
          "cell_type": "code",
          "checksum": "ad9354a46347d72e3333da5567a86b92",
          "grade": true,
          "grade_id": "cell-4c92140820bcb37f",
          "locked": true,
          "points": 5,
          "schema_version": 3,
          "solution": false,
          "task": false
        },
        "id": "f33a8ed5"
      },
      "outputs": [],
      "source": [
        "# Grading cell. Do not remove."
      ]
    },
    {
      "cell_type": "code",
      "execution_count": 59,
      "id": "07ddada4",
      "metadata": {
        "deletable": false,
        "editable": false,
        "nbgrader": {
          "cell_type": "code",
          "checksum": "14a22f283a2a6e5afb7ca3226b3febb8",
          "grade": true,
          "grade_id": "cell-cbbccdb6127066bd",
          "locked": true,
          "points": 5,
          "schema_version": 3,
          "solution": false,
          "task": false
        },
        "id": "07ddada4"
      },
      "outputs": [],
      "source": [
        "# Grading cell. Do not remove."
      ]
    },
    {
      "cell_type": "code",
      "execution_count": 60,
      "id": "6eb5baf7",
      "metadata": {
        "deletable": false,
        "editable": false,
        "nbgrader": {
          "cell_type": "code",
          "checksum": "b04a628186e088d9aecc87c98705074c",
          "grade": true,
          "grade_id": "cell-d5473a7ebf0cb151",
          "locked": true,
          "points": 5,
          "schema_version": 3,
          "solution": false,
          "task": false
        },
        "id": "6eb5baf7"
      },
      "outputs": [],
      "source": [
        "# Grading cell. Do not remove."
      ]
    }
  ],
  "metadata": {
    "kernelspec": {
      "display_name": "Python 3 (ipykernel)",
      "language": "python",
      "name": "python3"
    },
    "language_info": {
      "codemirror_mode": {
        "name": "ipython",
        "version": 3
      },
      "file_extension": ".py",
      "mimetype": "text/x-python",
      "name": "python",
      "nbconvert_exporter": "python",
      "pygments_lexer": "ipython3",
      "version": "3.8.16"
    },
    "colab": {
      "provenance": []
    },
    "accelerator": "GPU",
    "gpuClass": "standard"
  },
  "nbformat": 4,
  "nbformat_minor": 5
}